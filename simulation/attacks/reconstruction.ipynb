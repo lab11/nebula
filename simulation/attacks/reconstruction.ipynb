{
 "cells": [
  {
   "cell_type": "code",
   "execution_count": 377,
   "metadata": {},
   "outputs": [],
   "source": [
    "import pandas as pd\n",
    "import numpy as np\n",
    "from scipy.optimize import fsolve, least_squares \n",
    "from tqdm import tqdm"
   ]
  },
  {
   "cell_type": "code",
   "execution_count": 378,
   "metadata": {},
   "outputs": [
    {
     "data": {
      "text/html": [
       "<div>\n",
       "<style scoped>\n",
       "    .dataframe tbody tr th:only-of-type {\n",
       "        vertical-align: middle;\n",
       "    }\n",
       "\n",
       "    .dataframe tbody tr th {\n",
       "        vertical-align: top;\n",
       "    }\n",
       "\n",
       "    .dataframe thead th {\n",
       "        text-align: right;\n",
       "    }\n",
       "</style>\n",
       "<table border=\"1\" class=\"dataframe\">\n",
       "  <thead>\n",
       "    <tr style=\"text-align: right;\">\n",
       "      <th></th>\n",
       "      <th>sensor ID</th>\n",
       "      <th>norm_secs (secs)</th>\n",
       "      <th>time (days)</th>\n",
       "    </tr>\n",
       "  </thead>\n",
       "  <tbody>\n",
       "    <tr>\n",
       "      <th>0</th>\n",
       "      <td>63802</td>\n",
       "      <td>0.000000</td>\n",
       "      <td>39416.607535</td>\n",
       "    </tr>\n",
       "    <tr>\n",
       "      <th>100</th>\n",
       "      <td>415483</td>\n",
       "      <td>4.500004</td>\n",
       "      <td>39416.607587</td>\n",
       "    </tr>\n",
       "    <tr>\n",
       "      <th>200</th>\n",
       "      <td>161919</td>\n",
       "      <td>9.000008</td>\n",
       "      <td>39416.607639</td>\n",
       "    </tr>\n",
       "    <tr>\n",
       "      <th>300</th>\n",
       "      <td>943442</td>\n",
       "      <td>12.500011</td>\n",
       "      <td>39416.607679</td>\n",
       "    </tr>\n",
       "    <tr>\n",
       "      <th>400</th>\n",
       "      <td>194738</td>\n",
       "      <td>16.500015</td>\n",
       "      <td>39416.607726</td>\n",
       "    </tr>\n",
       "  </tbody>\n",
       "</table>\n",
       "</div>"
      ],
      "text/plain": [
       "     sensor ID  norm_secs (secs)   time (days)\n",
       "0        63802          0.000000  39416.607535\n",
       "100     415483          4.500004  39416.607587\n",
       "200     161919          9.000008  39416.607639\n",
       "300     943442         12.500011  39416.607679\n",
       "400     194738         16.500015  39416.607726"
      ]
     },
     "execution_count": 378,
     "metadata": {},
     "output_type": "execute_result"
    }
   ],
   "source": [
    "##Import the excel file \n",
    "sensor_df = pd.read_csv('104.csv')\n",
    "\n",
    "#Down sample to every 100\n",
    "sensor_df_smol = sensor_df[0:100000:100]\n",
    "sensor_df_smol.head()"
   ]
  },
  {
   "cell_type": "code",
   "execution_count": 379,
   "metadata": {},
   "outputs": [
    {
     "data": {
      "text/html": [
       "<div>\n",
       "<style scoped>\n",
       "    .dataframe tbody tr th:only-of-type {\n",
       "        vertical-align: middle;\n",
       "    }\n",
       "\n",
       "    .dataframe tbody tr th {\n",
       "        vertical-align: top;\n",
       "    }\n",
       "\n",
       "    .dataframe thead th {\n",
       "        text-align: right;\n",
       "    }\n",
       "</style>\n",
       "<table border=\"1\" class=\"dataframe\">\n",
       "  <thead>\n",
       "    <tr style=\"text-align: right;\">\n",
       "      <th></th>\n",
       "      <th>sensor ID</th>\n",
       "      <th>norm_secs (secs)</th>\n",
       "      <th>time (days)</th>\n",
       "    </tr>\n",
       "  </thead>\n",
       "  <tbody>\n",
       "    <tr>\n",
       "      <th>0</th>\n",
       "      <td>15</td>\n",
       "      <td>11.200029</td>\n",
       "      <td>39423.442618</td>\n",
       "    </tr>\n",
       "    <tr>\n",
       "      <th>1</th>\n",
       "      <td>15</td>\n",
       "      <td>11.900031</td>\n",
       "      <td>39423.442626</td>\n",
       "    </tr>\n",
       "    <tr>\n",
       "      <th>2</th>\n",
       "      <td>15</td>\n",
       "      <td>12.600032</td>\n",
       "      <td>39423.442634</td>\n",
       "    </tr>\n",
       "    <tr>\n",
       "      <th>3</th>\n",
       "      <td>15</td>\n",
       "      <td>13.300034</td>\n",
       "      <td>39423.442642</td>\n",
       "    </tr>\n",
       "    <tr>\n",
       "      <th>4</th>\n",
       "      <td>15</td>\n",
       "      <td>14.000036</td>\n",
       "      <td>39423.442650</td>\n",
       "    </tr>\n",
       "  </tbody>\n",
       "</table>\n",
       "</div>"
      ],
      "text/plain": [
       "   sensor ID  norm_secs (secs)   time (days)\n",
       "0         15         11.200029  39423.442618\n",
       "1         15         11.900031  39423.442626\n",
       "2         15         12.600032  39423.442634\n",
       "3         15         13.300034  39423.442642\n",
       "4         15         14.000036  39423.442650"
      ]
     },
     "execution_count": 379,
     "metadata": {},
     "output_type": "execute_result"
    }
   ],
   "source": [
    "#Import the SMOL attack csv instead of downsampling\n",
    "sensor_df_smol = pd.read_csv('062.csv')\n",
    "backbone_sensor_df = sensor_df_smol \n",
    "backbone_sensor_df.head()"
   ]
  },
  {
   "cell_type": "code",
   "execution_count": 380,
   "metadata": {},
   "outputs": [
    {
     "name": "stdout",
     "output_type": "stream",
     "text": [
      "(58047, 3)\n",
      "(58047, 3)\n",
      "60\n"
     ]
    }
   ],
   "source": [
    "print(backbone_sensor_df.shape)\n",
    "print(sensor_df_smol.shape)\n",
    "print(backbone_sensor_df['sensor ID'].nunique())"
   ]
  },
  {
   "cell_type": "code",
   "execution_count": 601,
   "metadata": {},
   "outputs": [],
   "source": [
    "#function to check total time between gateways and returns average time\n",
    "def gateway_total(gateway_x, gateway_y):\n",
    "    count = 0\n",
    "    time = 0\n",
    "    size = backbone_sensor_df.shape[0]\n",
    "    gateway_path = backbone_sensor_df.values\n",
    "    \n",
    "    if(gateway_y == gateway_x):\n",
    "        return 0\n",
    "    \n",
    "    #hyperparameter\n",
    "    hops = 2\n",
    "    \n",
    "    for x in range(size):\n",
    "        if (gateway_path[x][0] == gateway_x):\n",
    "            for i in range(-hops,hops+1):\n",
    "                if (i == 0):\n",
    "                    continue\n",
    "                if ((x+i) < 0):\n",
    "                    continue\n",
    "                if ((x+i) >= size):\n",
    "                    continue\n",
    "                if (gateway_path[x+i][0] == gateway_y):\n",
    "                    #print(\"gateway path equals y in else\")\n",
    "                    count += 1\n",
    "                    time += abs(gateway_path[x+i][1] - gateway_path[x][1])\n",
    "                                        \n",
    "    if (count >= 1): \n",
    "        #print(count)\n",
    "        return time/count\n",
    "    else:\n",
    "        return 0 #could change this to a negative number to indicate doesn't exist \n",
    "        \n",
    "#gateway_total(1,20)\n"
   ]
  },
  {
   "cell_type": "code",
   "execution_count": 602,
   "metadata": {},
   "outputs": [
    {
     "name": "stdout",
     "output_type": "stream",
     "text": [
      "[1.50000000e+01 1.47000378e+01 3.94234427e+04]\n"
     ]
    }
   ],
   "source": [
    "#print(backbone_sensor_df.values[5])"
   ]
  },
  {
   "cell_type": "code",
   "execution_count": 603,
   "metadata": {},
   "outputs": [],
   "source": [
    "##Testing the time \n",
    "#ids = np.array([1,2,3])\n",
    "#times = np.array([0.5,1.5,1.75])\n",
    "#gateways_path = np.array([ids,times]).T\n",
    "#print(gateways_path)\n",
    "\n",
    "#gateway_total(2,1)"
   ]
  },
  {
   "cell_type": "code",
   "execution_count": 604,
   "metadata": {},
   "outputs": [
    {
     "name": "stderr",
     "output_type": "stream",
     "text": [
      "100%|██████████| 60/60 [00:58<00:00,  1.03it/s]\n"
     ]
    },
    {
     "data": {
      "text/plain": [
       "array([[  0.        ,   4.56884087, 164.96709107, ...,   0.        ,\n",
       "          0.        ,   0.        ],\n",
       "       [  4.56884087,   0.        ,  47.9981627 , ...,   0.        ,\n",
       "         53.90013867,   0.        ],\n",
       "       [164.96709107,  47.9981627 ,   0.        , ...,   0.        ,\n",
       "          0.        ,   0.        ],\n",
       "       ...,\n",
       "       [  0.        ,   0.        ,   0.        , ...,   0.        ,\n",
       "          0.        ,   0.        ],\n",
       "       [  0.        ,  53.90013867,   0.        , ...,   0.        ,\n",
       "          0.        ,   0.        ],\n",
       "       [  0.        ,   0.        ,   0.        , ...,   0.        ,\n",
       "          0.        ,   0.        ]])"
      ]
     },
     "execution_count": 604,
     "metadata": {},
     "output_type": "execute_result"
    }
   ],
   "source": [
    "#set up a matrix of time between adjacent gateways, this is a proxy for distance\n",
    "num_gates = backbone_sensor_df['sensor ID'].nunique()\n",
    "time_pairs = np.zeros((num_gates,num_gates))\n",
    "gateway_ids = backbone_sensor_df['sensor ID'].drop_duplicates().values\n",
    "\n",
    "for x in tqdm(range(num_gates)):\n",
    "    #times = []\n",
    "    for y in range(num_gates):\n",
    "        #find how many times x gateway is adjacent to y gateway \n",
    "        gateway_id_x = gateway_ids[y]\n",
    "        gateway_id_y = gateway_ids[x]\n",
    "        average = gateway_total(gateway_id_x,gateway_id_y)\n",
    "\n",
    "        #add to time_pairs[x][y]\n",
    "        time_pairs[x][y] = average\n",
    "        \n",
    "        \n",
    "time_pairs"
   ]
  },
  {
   "cell_type": "code",
   "execution_count": 605,
   "metadata": {},
   "outputs": [
    {
     "name": "stdout",
     "output_type": "stream",
     "text": [
      "0.0\n"
     ]
    },
    {
     "data": {
      "image/png": "[encoded data removed]",
      "text/plain": [
       "<Figure size 432x288 with 1 Axes>"
      ]
     },
     "metadata": {
      "needs_background": "light"
     },
     "output_type": "display_data"
    }
   ],
   "source": [
    "import scipy.sparse as sparse \n",
    "print(time_pairs[2,2])\n",
    "plt.spy(time_pairs)\n",
    "plt.show()"
   ]
  },
  {
   "cell_type": "code",
   "execution_count": 433,
   "metadata": {},
   "outputs": [],
   "source": [
    "#get the average velocity from the ground truth data \n",
    "avg_vel = 2 #m/s"
   ]
  },
  {
   "cell_type": "code",
   "execution_count": 606,
   "metadata": {},
   "outputs": [
    {
     "name": "stdout",
     "output_type": "stream",
     "text": [
      "(60, 60)\n"
     ]
    }
   ],
   "source": [
    "#calculate the distance matrix from the average time and average velocity \n",
    "distance = avg_vel*time_pairs\n",
    "distance\n",
    "print(distance.shape)"
   ]
  },
  {
   "cell_type": "code",
   "execution_count": 607,
   "metadata": {},
   "outputs": [
    {
     "data": {
      "text/html": [
       "<div>\n",
       "<style scoped>\n",
       "    .dataframe tbody tr th:only-of-type {\n",
       "        vertical-align: middle;\n",
       "    }\n",
       "\n",
       "    .dataframe tbody tr th {\n",
       "        vertical-align: top;\n",
       "    }\n",
       "\n",
       "    .dataframe thead th {\n",
       "        text-align: right;\n",
       "    }\n",
       "</style>\n",
       "<table border=\"1\" class=\"dataframe\">\n",
       "  <thead>\n",
       "    <tr style=\"text-align: right;\">\n",
       "      <th></th>\n",
       "      <th>sensor ID</th>\n",
       "      <th>x (m)</th>\n",
       "      <th>y (m)</th>\n",
       "      <th>radius (m)</th>\n",
       "    </tr>\n",
       "  </thead>\n",
       "  <tbody>\n",
       "    <tr>\n",
       "      <th>0</th>\n",
       "      <td>0</td>\n",
       "      <td>231.2663</td>\n",
       "      <td>120.1813</td>\n",
       "      <td>11.131326</td>\n",
       "    </tr>\n",
       "    <tr>\n",
       "      <th>1</th>\n",
       "      <td>1</td>\n",
       "      <td>371.8589</td>\n",
       "      <td>238.2076</td>\n",
       "      <td>11.634567</td>\n",
       "    </tr>\n",
       "    <tr>\n",
       "      <th>2</th>\n",
       "      <td>2</td>\n",
       "      <td>757.0289</td>\n",
       "      <td>350.5063</td>\n",
       "      <td>15.115731</td>\n",
       "    </tr>\n",
       "    <tr>\n",
       "      <th>3</th>\n",
       "      <td>3</td>\n",
       "      <td>190.9400</td>\n",
       "      <td>140.1613</td>\n",
       "      <td>13.697470</td>\n",
       "    </tr>\n",
       "    <tr>\n",
       "      <th>4</th>\n",
       "      <td>4</td>\n",
       "      <td>663.1340</td>\n",
       "      <td>522.3010</td>\n",
       "      <td>14.227241</td>\n",
       "    </tr>\n",
       "  </tbody>\n",
       "</table>\n",
       "</div>"
      ],
      "text/plain": [
       "   sensor ID     x (m)     y (m)  radius (m)\n",
       "0          0  231.2663  120.1813   11.131326\n",
       "1          1  371.8589  238.2076   11.634567\n",
       "2          2  757.0289  350.5063   15.115731\n",
       "3          3  190.9400  140.1613   13.697470\n",
       "4          4  663.1340  522.3010   14.227241"
      ]
     },
     "execution_count": 607,
     "metadata": {},
     "output_type": "execute_result"
    }
   ],
   "source": [
    "#pick three gateways to triangulate from ground truth\n",
    "#gateway_a = [231.2663,120.1813]\n",
    "#gateway_b = [197.9663,793.9513]\n",
    "#gateway_c = [757.0289,350.5063]\n",
    "\n",
    "#x1 = gateway_a[0]\n",
    "#y1 = gateway_a[1]\n",
    "\n",
    "#x2 = gateway_b[0]\n",
    "#y2 = gateway_b[1]\n",
    "\n",
    "#x3 = gateway_c[0]\n",
    "#y3 = gateway_c[1]\n",
    "\n",
    "##Import the ground truth file \n",
    "truth_df = pd.read_csv('sensors.csv')\n",
    "truth_df.head()\n",
    "\n",
    "#get the ground truth values for the gateway ids of interest\n",
    "truth_df_filtered = truth_df[truth_df['sensor ID'].isin(gateway_ids)]\n",
    "truth_df_filtered.head()"
   ]
  },
  {
   "cell_type": "code",
   "execution_count": 608,
   "metadata": {},
   "outputs": [
    {
     "name": "stdout",
     "output_type": "stream",
     "text": [
      "[427.0369999997256, 65.31399999981295]\n"
     ]
    }
   ],
   "source": [
    "#set up a dictionary with three initial known gateway locations\n",
    "known_gateway_ids = [49,19,26]\n",
    "gateway_a = [truth_df['x (m)'][known_gateway_ids[0]],truth_df['y (m)'][known_gateway_ids[0]]]\n",
    "gateway_b = [truth_df['x (m)'][known_gateway_ids[1]],truth_df['y (m)'][known_gateway_ids[1]]]\n",
    "gateway_c = [truth_df['x (m)'][known_gateway_ids[2]],truth_df['y (m)'][known_gateway_ids[2]]]\n",
    "known_gateway_locations = (gateway_a,gateway_b,gateway_c)\n",
    "known_location_dict = dict(zip(known_gateway_ids,known_gateway_locations))\n",
    "print(known_location_dict[49])"
   ]
  },
  {
   "cell_type": "code",
   "execution_count": 609,
   "metadata": {},
   "outputs": [],
   "source": [
    "#function to return the distance error between points\n",
    "def distance_err(point):\n",
    "    x = point[0]\n",
    "    y = point[1]\n",
    "    x1,y1 = known_location_dict[known_gateway_ids[0]]\n",
    "    x2,y2 = known_location_dict[known_gateway_ids[1]]\n",
    "    x3,y3 = known_location_dict[known_gateway_ids[2]]\n",
    "    error1 = np.abs(np.linalg.norm(np.array([x,y])-np.array([x1,y1])) - d1)**2\n",
    "    error2 = np.abs(np.linalg.norm(np.array([x,y])-np.array([x2,y2])) - d2)**2\n",
    "    error3 = np.abs(np.linalg.norm(np.array([x,y])-np.array([x3,y3])) - d3)**2\n",
    "    error_total = error1 + error2 + error3\n",
    "    \n",
    "    return error_total \n",
    "\n",
    "#Example use of \n",
    "#least_squares(fun,[16000,25000])"
   ]
  },
  {
   "cell_type": "code",
   "execution_count": 610,
   "metadata": {},
   "outputs": [
    {
     "data": {
      "text/html": [
       "<div>\n",
       "<style scoped>\n",
       "    .dataframe tbody tr th:only-of-type {\n",
       "        vertical-align: middle;\n",
       "    }\n",
       "\n",
       "    .dataframe tbody tr th {\n",
       "        vertical-align: top;\n",
       "    }\n",
       "\n",
       "    .dataframe thead th {\n",
       "        text-align: right;\n",
       "    }\n",
       "</style>\n",
       "<table border=\"1\" class=\"dataframe\">\n",
       "  <thead>\n",
       "    <tr style=\"text-align: right;\">\n",
       "      <th></th>\n",
       "      <th>gateway_ids</th>\n",
       "      <th>positions_x</th>\n",
       "      <th>positions_y</th>\n",
       "    </tr>\n",
       "  </thead>\n",
       "  <tbody>\n",
       "  </tbody>\n",
       "</table>\n",
       "</div>"
      ],
      "text/plain": [
       "Empty DataFrame\n",
       "Columns: [gateway_ids, positions_x, positions_y]\n",
       "Index: []"
      ]
     },
     "execution_count": 610,
     "metadata": {},
     "output_type": "execute_result"
    }
   ],
   "source": [
    "#for each gateway get the location \n",
    "positions_x = []\n",
    "positions_y = []\n",
    "known_gateways = []\n",
    "\n",
    "#loop through gateways \n",
    "for i in range(len(gateway_ids)):\n",
    "    gateway = gateway_ids[i]\n",
    "    d1 = distance[i][known_gateway_ids[0]]\n",
    "    d2 = distance[i][known_gateway_ids[1]]\n",
    "    d3 = distance[i][known_gateway_ids[2]]\n",
    "    \n",
    "    #print(d1)\n",
    "    #print(d2)\n",
    "    #print(d3)\n",
    "    #print(\"\")\n",
    "    \n",
    "    if (int(d1) != 0) & (int(d2) != 0) & (int(d3) != 0):\n",
    "        print(d1)\n",
    "        print(d2)\n",
    "        print(d3)\n",
    "        positions_x.append(least_squares(distance_err,[400,400]).x[0])\n",
    "        positions_y.append(least_squares(distance_err,[400,400]).x[1])\n",
    "        known_gateways.append(gateway)\n",
    "\n",
    "zipped = list(zip(known_gateways,positions_x,positions_y))\n",
    "positions = pd.DataFrame(zipped, columns = ['gateway_ids','positions_x','positions_y'])\n",
    "positions_x = []\n",
    "positions_y = []\n",
    "known_gateways = []\n",
    "positions.head()"
   ]
  },
  {
   "cell_type": "code",
   "execution_count": null,
   "metadata": {},
   "outputs": [],
   "source": []
  },
  {
   "cell_type": "code",
   "execution_count": 611,
   "metadata": {},
   "outputs": [
    {
     "ename": "TypeError",
     "evalue": "loop of ufunc does not support argument 0 of type NoneType which has no callable sqrt method",
     "output_type": "error",
     "traceback": [
      "\u001b[0;31m---------------------------------------------------------------------------\u001b[0m",
      "\u001b[0;31mAttributeError\u001b[0m                            Traceback (most recent call last)",
      "\u001b[0;31mAttributeError\u001b[0m: 'NoneType' object has no attribute 'sqrt'",
      "\nThe above exception was the direct cause of the following exception:\n",
      "\u001b[0;31mTypeError\u001b[0m                                 Traceback (most recent call last)",
      "\u001b[0;32m<ipython-input-611-48b71ca23745>\u001b[0m in \u001b[0;36m<module>\u001b[0;34m\u001b[0m\n\u001b[1;32m     12\u001b[0m     \u001b[0my_est\u001b[0m \u001b[0;34m=\u001b[0m \u001b[0mposition_data\u001b[0m\u001b[0;34m[\u001b[0m\u001b[0;34m'positions_y'\u001b[0m\u001b[0;34m]\u001b[0m\u001b[0;34m.\u001b[0m\u001b[0mvalues\u001b[0m\u001b[0;34m\u001b[0m\u001b[0;34m\u001b[0m\u001b[0m\n\u001b[1;32m     13\u001b[0m \u001b[0;34m\u001b[0m\u001b[0m\n\u001b[0;32m---> 14\u001b[0;31m     \u001b[0merror\u001b[0m\u001b[0;34m[\u001b[0m\u001b[0mi\u001b[0m\u001b[0;34m]\u001b[0m \u001b[0;34m=\u001b[0m \u001b[0mnp\u001b[0m\u001b[0;34m.\u001b[0m\u001b[0mlinalg\u001b[0m\u001b[0;34m.\u001b[0m\u001b[0mnorm\u001b[0m\u001b[0;34m(\u001b[0m\u001b[0mnp\u001b[0m\u001b[0;34m.\u001b[0m\u001b[0marray\u001b[0m\u001b[0;34m(\u001b[0m\u001b[0;34m[\u001b[0m\u001b[0mx\u001b[0m\u001b[0;34m,\u001b[0m\u001b[0my\u001b[0m\u001b[0;34m]\u001b[0m\u001b[0;34m)\u001b[0m\u001b[0;34m-\u001b[0m\u001b[0mnp\u001b[0m\u001b[0;34m.\u001b[0m\u001b[0marray\u001b[0m\u001b[0;34m(\u001b[0m\u001b[0;34m[\u001b[0m\u001b[0mx_est\u001b[0m\u001b[0;34m,\u001b[0m\u001b[0my_est\u001b[0m\u001b[0;34m]\u001b[0m\u001b[0;34m)\u001b[0m\u001b[0;34m)\u001b[0m\u001b[0;34m\u001b[0m\u001b[0;34m\u001b[0m\u001b[0m\n\u001b[0m\u001b[1;32m     15\u001b[0m \u001b[0;34m\u001b[0m\u001b[0m\n\u001b[1;32m     16\u001b[0m \u001b[0mprint\u001b[0m\u001b[0;34m(\u001b[0m\u001b[0merror\u001b[0m\u001b[0;34m)\u001b[0m\u001b[0;34m\u001b[0m\u001b[0;34m\u001b[0m\u001b[0m\n",
      "\u001b[0;32m<__array_function__ internals>\u001b[0m in \u001b[0;36mnorm\u001b[0;34m(*args, **kwargs)\u001b[0m\n",
      "\u001b[0;32m~/anaconda3/lib/python3.7/site-packages/numpy/linalg/linalg.py\u001b[0m in \u001b[0;36mnorm\u001b[0;34m(x, ord, axis, keepdims)\u001b[0m\n\u001b[1;32m   2529\u001b[0m             \u001b[0;32melse\u001b[0m\u001b[0;34m:\u001b[0m\u001b[0;34m\u001b[0m\u001b[0;34m\u001b[0m\u001b[0m\n\u001b[1;32m   2530\u001b[0m                 \u001b[0msqnorm\u001b[0m \u001b[0;34m=\u001b[0m \u001b[0mdot\u001b[0m\u001b[0;34m(\u001b[0m\u001b[0mx\u001b[0m\u001b[0;34m,\u001b[0m \u001b[0mx\u001b[0m\u001b[0;34m)\u001b[0m\u001b[0;34m\u001b[0m\u001b[0;34m\u001b[0m\u001b[0m\n\u001b[0;32m-> 2531\u001b[0;31m             \u001b[0mret\u001b[0m \u001b[0;34m=\u001b[0m \u001b[0msqrt\u001b[0m\u001b[0;34m(\u001b[0m\u001b[0msqnorm\u001b[0m\u001b[0;34m)\u001b[0m\u001b[0;34m\u001b[0m\u001b[0;34m\u001b[0m\u001b[0m\n\u001b[0m\u001b[1;32m   2532\u001b[0m             \u001b[0;32mif\u001b[0m \u001b[0mkeepdims\u001b[0m\u001b[0;34m:\u001b[0m\u001b[0;34m\u001b[0m\u001b[0;34m\u001b[0m\u001b[0m\n\u001b[1;32m   2533\u001b[0m                 \u001b[0mret\u001b[0m \u001b[0;34m=\u001b[0m \u001b[0mret\u001b[0m\u001b[0;34m.\u001b[0m\u001b[0mreshape\u001b[0m\u001b[0;34m(\u001b[0m\u001b[0mndim\u001b[0m\u001b[0;34m*\u001b[0m\u001b[0;34m[\u001b[0m\u001b[0;36m1\u001b[0m\u001b[0;34m]\u001b[0m\u001b[0;34m)\u001b[0m\u001b[0;34m\u001b[0m\u001b[0;34m\u001b[0m\u001b[0m\n",
      "\u001b[0;31mTypeError\u001b[0m: loop of ufunc does not support argument 0 of type NoneType which has no callable sqrt method"
     ]
    }
   ],
   "source": [
    "#get gateway_id position error \n",
    "\n",
    "error = np.zeros(60)\n",
    "for i in range(len(gateway_ids)):\n",
    "    gateway = gateway_ids[i]\n",
    "    truth_data = truth_df[truth_df['sensor ID'] == gateway]\n",
    "    x = truth_data['x (m)'].values\n",
    "    y = truth_data['y (m)'].values\n",
    "    \n",
    "    position_data = positions[positions['gateway_ids'] == gateway]\n",
    "    x_est = position_data['positions_x'].values\n",
    "    y_est = position_data['positions_y'].values\n",
    "    \n",
    "    error[i] = np.linalg.norm(np.array([x,y])-np.array([x_est,y_est]))\n",
    "    \n",
    "print(error)"
   ]
  },
  {
   "cell_type": "code",
   "execution_count": 472,
   "metadata": {},
   "outputs": [
    {
     "data": {
      "image/png": "[encoded data removed]",
      "text/plain": [
       "<Figure size 1296x720 with 1 Axes>"
      ]
     },
     "metadata": {
      "needs_background": "light"
     },
     "output_type": "display_data"
    }
   ],
   "source": [
    "from matplotlib import pyplot as plt\n",
    "plt.figure(figsize=(18, 10))\n",
    "plt.gca().set_aspect(\"equal\")\n",
    "plt.scatter(x1,y1,s=100,marker='o')\n",
    "plt.scatter(x2,y2,s=100,marker='o')\n",
    "plt.scatter(x3,y3,s=100,marker='o')\n",
    "plt.scatter(truth_df_filtered[\"x (m)\"], truth_df_filtered[\"y (m)\"])\n",
    "plt.scatter(positions['positions_x'], positions['positions_y'])\n",
    "plt.show()"
   ]
  },
  {
   "cell_type": "code",
   "execution_count": null,
   "metadata": {},
   "outputs": [],
   "source": [
    "#bring in other sensor traces \n",
    "#figure out your for loopin problem "
   ]
  },
  {
   "cell_type": "code",
   "execution_count": null,
   "metadata": {},
   "outputs": [],
   "source": [
    "#Unused function to check how many times gateways are next to each other and return average time \n",
    "def gateway_adjacent(gateway_x, gateway_y):\n",
    "    #print(gateway_x)\n",
    "    #print(gateway_y)\n",
    "    \n",
    "    count = 0\n",
    "    time = 0\n",
    "    size = backbone_sensor_df.shape[0]\n",
    "    #print(size)\n",
    "    for x in range(size):\n",
    "        if (backbone_sensor_df.iloc[x][0] == gateway_x):\n",
    "            #if it's the first index \n",
    "            if (x == 0):\n",
    "                if (backbone_sensor_df.iloc[x+1][0] == gateway_y):\n",
    "                    count += 1\n",
    "                    time += abs(backbone_sensor_df.iloc[x+1][1] - backbone_sensor_df.iloc[x][1])\n",
    "            \n",
    "            #if it's a last index\n",
    "            elif (x == size-1):\n",
    "                if (backbone_sensor_df.iloc[x-1][0] == gateway_y):\n",
    "                    count += 1\n",
    "                    time += abs(backbone_sensor_df.iloc[x-1][1] - backbone_sensor_df.iloc[x][1])\n",
    "            \n",
    "            else:\n",
    "                if (backbone_sensor_df.iloc[x+1][0] == gateway_y):\n",
    "                    count += 1\n",
    "                    time += abs(backbone_sensor_df.iloc[x+1][1] - backbone_sensor_df.iloc[x][1])\n",
    "                elif (backbone_sensor_df.iloc[x-1][0] == gateway_y):\n",
    "                    count += 1\n",
    "                    time += abs(backbone_sensor_df.iloc[x-1][1] - backbone_sensor_df.iloc[x][1])\n",
    "                    \n",
    "    if (count >= 1): \n",
    "        return time/count\n",
    "    else:\n",
    "        return 0"
   ]
  },
  {
   "cell_type": "code",
   "execution_count": null,
   "metadata": {},
   "outputs": [],
   "source": [
    "#filter to adjadent gateways with a time difference larger than 3 seconds\n",
    "\n",
    "#take this out? Can we just use the smol attack data directly\n",
    "\n",
    "#diff_sensor_df = sensor_df_smol.diff()\n",
    "#print(diff_sensor_df[40:60])\n",
    "#print(sensor_df_smol[40:60])\n",
    "#[diff_sensor_df['norm_secs (secs)'] > 5]\n",
    "\n",
    "#backbone_sensor_df = sensor_df_smol \n",
    "#backbone_sensor_df.head()"
   ]
  }
 ],
 "metadata": {
  "kernelspec": {
   "display_name": "Python 3",
   "language": "python",
   "name": "python3"
  },
  "language_info": {
   "codemirror_mode": {
    "name": "ipython",
    "version": 3
   },
   "file_extension": ".py",
   "mimetype": "text/x-python",
   "name": "python",
   "nbconvert_exporter": "python",
   "pygments_lexer": "ipython3",
   "version": "3.6.8"
  },
  "toc": {
   "base_numbering": 1,
   "nav_menu": {},
   "number_sections": true,
   "sideBar": true,
   "skip_h1_title": false,
   "title_cell": "Table of Contents",
   "title_sidebar": "Contents",
   "toc_cell": false,
   "toc_position": {},
   "toc_section_display": true,
   "toc_window_display": false
  }
 },
 "nbformat": 4,
 "nbformat_minor": 5
}
