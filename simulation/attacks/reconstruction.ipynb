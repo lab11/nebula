{
 "cells": [
  {
   "cell_type": "code",
   "execution_count": 377,
   "id": "4005096a",
   "metadata": {},
   "outputs": [],
   "source": [
    "import pandas as pd\n",
    "import numpy as np\n",
    "from scipy.optimize import fsolve, least_squares \n",
    "from tqdm import tqdm"
   ]
  },
  {
   "cell_type": "code",
   "execution_count": 378,
   "id": "4fdf652a",
   "metadata": {},
   "outputs": [
    {
     "data": {
      "text/html": [
       "<div>\n",
       "<style scoped>\n",
       "    .dataframe tbody tr th:only-of-type {\n",
       "        vertical-align: middle;\n",
       "    }\n",
       "\n",
       "    .dataframe tbody tr th {\n",
       "        vertical-align: top;\n",
       "    }\n",
       "\n",
       "    .dataframe thead th {\n",
       "        text-align: right;\n",
       "    }\n",
       "</style>\n",
       "<table border=\"1\" class=\"dataframe\">\n",
       "  <thead>\n",
       "    <tr style=\"text-align: right;\">\n",
       "      <th></th>\n",
       "      <th>sensor ID</th>\n",
       "      <th>norm_secs (secs)</th>\n",
       "      <th>time (days)</th>\n",
       "    </tr>\n",
       "  </thead>\n",
       "  <tbody>\n",
       "    <tr>\n",
       "      <th>0</th>\n",
       "      <td>63802</td>\n",
       "      <td>0.000000</td>\n",
       "      <td>39416.607535</td>\n",
       "    </tr>\n",
       "    <tr>\n",
       "      <th>100</th>\n",
       "      <td>415483</td>\n",
       "      <td>4.500004</td>\n",
       "      <td>39416.607587</td>\n",
       "    </tr>\n",
       "    <tr>\n",
       "      <th>200</th>\n",
       "      <td>161919</td>\n",
       "      <td>9.000008</td>\n",
       "      <td>39416.607639</td>\n",
       "    </tr>\n",
       "    <tr>\n",
       "      <th>300</th>\n",
       "      <td>943442</td>\n",
       "      <td>12.500011</td>\n",
       "      <td>39416.607679</td>\n",
       "    </tr>\n",
       "    <tr>\n",
       "      <th>400</th>\n",
       "      <td>194738</td>\n",
       "      <td>16.500015</td>\n",
       "      <td>39416.607726</td>\n",
       "    </tr>\n",
       "  </tbody>\n",
       "</table>\n",
       "</div>"
      ],
      "text/plain": [
       "     sensor ID  norm_secs (secs)   time (days)\n",
       "0        63802          0.000000  39416.607535\n",
       "100     415483          4.500004  39416.607587\n",
       "200     161919          9.000008  39416.607639\n",
       "300     943442         12.500011  39416.607679\n",
       "400     194738         16.500015  39416.607726"
      ]
     },
     "execution_count": 378,
     "metadata": {},
     "output_type": "execute_result"
    }
   ],
   "source": [
    "##Import the excel file \n",
    "sensor_df = pd.read_csv('104.csv')\n",
    "\n",
    "#Down sample to every 100\n",
    "sensor_df_smol = sensor_df[0:100000:100]\n",
    "sensor_df_smol.head()"
   ]
  },
  {
   "cell_type": "code",
   "execution_count": 379,
   "id": "819cb635",
   "metadata": {},
   "outputs": [
    {
     "data": {
      "text/html": [
       "<div>\n",
       "<style scoped>\n",
       "    .dataframe tbody tr th:only-of-type {\n",
       "        vertical-align: middle;\n",
       "    }\n",
       "\n",
       "    .dataframe tbody tr th {\n",
       "        vertical-align: top;\n",
       "    }\n",
       "\n",
       "    .dataframe thead th {\n",
       "        text-align: right;\n",
       "    }\n",
       "</style>\n",
       "<table border=\"1\" class=\"dataframe\">\n",
       "  <thead>\n",
       "    <tr style=\"text-align: right;\">\n",
       "      <th></th>\n",
       "      <th>sensor ID</th>\n",
       "      <th>norm_secs (secs)</th>\n",
       "      <th>time (days)</th>\n",
       "    </tr>\n",
       "  </thead>\n",
       "  <tbody>\n",
       "    <tr>\n",
       "      <th>0</th>\n",
       "      <td>15</td>\n",
       "      <td>11.200029</td>\n",
       "      <td>39423.442618</td>\n",
       "    </tr>\n",
       "    <tr>\n",
       "      <th>1</th>\n",
       "      <td>15</td>\n",
       "      <td>11.900031</td>\n",
       "      <td>39423.442626</td>\n",
       "    </tr>\n",
       "    <tr>\n",
       "      <th>2</th>\n",
       "      <td>15</td>\n",
       "      <td>12.600032</td>\n",
       "      <td>39423.442634</td>\n",
       "    </tr>\n",
       "    <tr>\n",
       "      <th>3</th>\n",
       "      <td>15</td>\n",
       "      <td>13.300034</td>\n",
       "      <td>39423.442642</td>\n",
       "    </tr>\n",
       "    <tr>\n",
       "      <th>4</th>\n",
       "      <td>15</td>\n",
       "      <td>14.000036</td>\n",
       "      <td>39423.442650</td>\n",
       "    </tr>\n",
       "  </tbody>\n",
       "</table>\n",
       "</div>"
      ],
      "text/plain": [
       "   sensor ID  norm_secs (secs)   time (days)\n",
       "0         15         11.200029  39423.442618\n",
       "1         15         11.900031  39423.442626\n",
       "2         15         12.600032  39423.442634\n",
       "3         15         13.300034  39423.442642\n",
       "4         15         14.000036  39423.442650"
      ]
     },
     "execution_count": 379,
     "metadata": {},
     "output_type": "execute_result"
    }
   ],
   "source": [
    "#Import the SMOL attack csv instead of downsampling\n",
    "sensor_df_smol = pd.read_csv('062.csv')\n",
    "backbone_sensor_df = sensor_df_smol \n",
    "backbone_sensor_df.head()"
   ]
  },
  {
   "cell_type": "code",
   "execution_count": 380,
   "id": "a76342dd",
   "metadata": {},
   "outputs": [
    {
     "name": "stdout",
     "output_type": "stream",
     "text": [
      "(58047, 3)\n",
      "(58047, 3)\n",
      "60\n"
     ]
    }
   ],
   "source": [
    "print(backbone_sensor_df.shape)\n",
    "print(sensor_df_smol.shape)\n",
    "print(backbone_sensor_df['sensor ID'].nunique())"
   ]
  },
  {
   "cell_type": "code",
   "execution_count": 381,
   "id": "0ecb72b7",
   "metadata": {},
   "outputs": [],
   "source": [
    "#function to check total time between gateways and returns average time\n",
    "def gateway_total(gateway_x, gateway_y):\n",
    "    count = 0\n",
    "    time = 0\n",
    "    size = backbone_sensor_df.shape[0]\n",
    "    matrix = backbone_sensor_df.values\n",
    "    \n",
    "    hops = 3\n",
    "    #TOD0: if the hops get too large we go out of range on the otherside. Fix this later\n",
    "    \n",
    "    for x in range(size):\n",
    "        if (matrix[x][0] == gateway_x):\n",
    "            #if it's the first indexes \n",
    "            if (x <= hops):\n",
    "                for i in range(hops):\n",
    "                    if (matrix[x+i][0] == gateway_y):\n",
    "                        count += 1\n",
    "                        time += abs(matrix[x+i][1] - matrix[x][1])\n",
    "            \n",
    "            #if it's in the last 5 index\n",
    "            elif (x > size-hops):\n",
    "                for i in range(hops):\n",
    "                    if (matrix[x-i][0] == gateway_y):\n",
    "                        count += 1\n",
    "                        time += abs(matrix[x-i][1] - matrix[x][1])\n",
    "            else:\n",
    "                for i in range(hops):\n",
    "                    #print(i)\n",
    "                    #print(backbone_sensor_df.iloc[x+i][0])\n",
    "                    #print(gateway_y)\n",
    "                    if (matrix[x+i][0] == gateway_y):\n",
    "                        count += 1\n",
    "                        time += abs(matrix[x+i][1] - matrix[x][1])\n",
    "                        #print('adding')\n",
    "                    elif (matrix[x-i][0] == gateway_y):\n",
    "                        count += 1\n",
    "                        time += abs(matrix[x-i][1] - matrix[x][1])\n",
    "                        #print('adding')\n",
    "                       \n",
    "                    \n",
    "    if (count >= 1): \n",
    "        #print(count)\n",
    "        return time/count\n",
    "    else:\n",
    "        return 0\n",
    "        \n"
   ]
  },
  {
   "cell_type": "code",
   "execution_count": 382,
   "id": "f6ba9beb",
   "metadata": {},
   "outputs": [
    {
     "name": "stderr",
     "output_type": "stream",
     "text": [
      "100%|██████████| 60/60 [00:58<00:00,  1.02it/s]\n"
     ]
    },
    {
     "data": {
      "text/plain": [
       "array([[  2.24632004,   6.94112363, 164.96709107, ...,   0.        ,\n",
       "          0.        ,   0.        ],\n",
       "       [  6.60267399,   0.68333927,  48.44846901, ...,   0.        ,\n",
       "         53.90013867,   0.        ],\n",
       "       [164.96709107,  47.9981627 ,   1.30367065, ...,   0.        ,\n",
       "          0.        ,   0.        ],\n",
       "       ...,\n",
       "       [  0.        ,   0.        ,   0.        , ...,  13.31798298,\n",
       "          0.        ,   0.        ],\n",
       "       [  0.        ,  53.90013867,   0.        , ...,   0.        ,\n",
       "          0.69400179,   0.        ],\n",
       "       [  0.        ,   0.        ,   0.        , ...,   0.        ,\n",
       "          0.        ,   6.77548913]])"
      ]
     },
     "execution_count": 382,
     "metadata": {},
     "output_type": "execute_result"
    }
   ],
   "source": [
    "#set up a matrix of time between adjacent gateways, this is a proxy for distance\n",
    "num_gates = backbone_sensor_df['sensor ID'].nunique()\n",
    "time_pairs = np.zeros((num_gates,num_gates))\n",
    "gateway_ids = backbone_sensor_df['sensor ID'].drop_duplicates().values\n",
    "\n",
    "for x in tqdm(range(num_gates)):\n",
    "    #times = []\n",
    "    for y in range(num_gates):\n",
    "        #find how many times x gateway is adjacent to y gateway \n",
    "        gateway_id_x = gateway_ids[y]\n",
    "        gateway_id_y = gateway_ids[x]\n",
    "        average = gateway_total(gateway_id_x,gateway_id_y)\n",
    "\n",
    "        #add to time_pairs[x][y]\n",
    "        time_pairs[x][y] = average\n",
    "        \n",
    "        \n",
    "time_pairs"
   ]
  },
  {
   "cell_type": "code",
   "execution_count": 368,
   "id": "72114433",
   "metadata": {},
   "outputs": [],
   "source": [
    "#get the average velocity from the ground truth data \n",
    "avg_vel = 2 #m/s"
   ]
  },
  {
   "cell_type": "code",
   "execution_count": 370,
   "id": "4bfdb0d5",
   "metadata": {},
   "outputs": [
    {
     "name": "stdout",
     "output_type": "stream",
     "text": [
      "(60, 60)\n"
     ]
    }
   ],
   "source": [
    "#calculate the distance matrix from the average time and average velocity \n",
    "distance = avg_vel*time_pairs\n",
    "distance\n",
    "print(distance.shape)"
   ]
  },
  {
   "cell_type": "code",
   "execution_count": 371,
   "id": "1b2eb7ee",
   "metadata": {},
   "outputs": [],
   "source": [
    "#pick three gateways to triangulate from ground truth\n",
    "gateway_a = [231.2663,120.1813]\n",
    "gateway_b = [197.9663,793.9513]\n",
    "gateway_c = [757.0289,350.5063]\n",
    "\n",
    "x1 = gateway_a[0]\n",
    "y1 = gateway_a[1]\n",
    "\n",
    "x2 = gateway_b[0]\n",
    "y2 = gateway_b[1]\n",
    "\n",
    "x3 = gateway_c[0]\n",
    "y3 = gateway_c[1]\n",
    "\n"
   ]
  },
  {
   "cell_type": "code",
   "execution_count": 388,
   "id": "ffc6224e",
   "metadata": {},
   "outputs": [],
   "source": [
    "#function to return the distance error between points\n",
    "def distance_err(point):\n",
    "    x = point[0]\n",
    "    y = point[1]\n",
    "    error1 = np.abs(np.linalg.norm(np.array([x,y])-np.array([x1,y1])) - d1)**2\n",
    "    error2 = np.abs(np.linalg.norm(np.array([x,y])-np.array([x2,y2])) - d2)**2\n",
    "    error3 = np.abs(np.linalg.norm(np.array([x,y])-np.array([x3,y3])) - d3)**2\n",
    "    error_total = error1 + error2 + error3\n",
    "    \n",
    "    return error_total \n",
    "\n",
    "#Example use of \n",
    "#least_squares(fun,[16000,25000])"
   ]
  },
  {
   "cell_type": "code",
   "execution_count": 389,
   "id": "1078c9fa",
   "metadata": {},
   "outputs": [
    {
     "data": {
      "text/html": [
       "<div>\n",
       "<style scoped>\n",
       "    .dataframe tbody tr th:only-of-type {\n",
       "        vertical-align: middle;\n",
       "    }\n",
       "\n",
       "    .dataframe tbody tr th {\n",
       "        vertical-align: top;\n",
       "    }\n",
       "\n",
       "    .dataframe thead th {\n",
       "        text-align: right;\n",
       "    }\n",
       "</style>\n",
       "<table border=\"1\" class=\"dataframe\">\n",
       "  <thead>\n",
       "    <tr style=\"text-align: right;\">\n",
       "      <th></th>\n",
       "      <th>gateway_ids</th>\n",
       "      <th>positions_x</th>\n",
       "      <th>positions_y</th>\n",
       "    </tr>\n",
       "  </thead>\n",
       "  <tbody>\n",
       "    <tr>\n",
       "      <th>0</th>\n",
       "      <td>15</td>\n",
       "      <td>288.766748</td>\n",
       "      <td>438.947391</td>\n",
       "    </tr>\n",
       "    <tr>\n",
       "      <th>1</th>\n",
       "      <td>34</td>\n",
       "      <td>365.726884</td>\n",
       "      <td>431.743723</td>\n",
       "    </tr>\n",
       "    <tr>\n",
       "      <th>2</th>\n",
       "      <td>19</td>\n",
       "      <td>477.195367</td>\n",
       "      <td>489.940492</td>\n",
       "    </tr>\n",
       "    <tr>\n",
       "      <th>3</th>\n",
       "      <td>49</td>\n",
       "      <td>468.446493</td>\n",
       "      <td>436.936218</td>\n",
       "    </tr>\n",
       "    <tr>\n",
       "      <th>4</th>\n",
       "      <td>9</td>\n",
       "      <td>273.577663</td>\n",
       "      <td>687.215509</td>\n",
       "    </tr>\n",
       "  </tbody>\n",
       "</table>\n",
       "</div>"
      ],
      "text/plain": [
       "   gateway_ids  positions_x  positions_y\n",
       "0           15   288.766748   438.947391\n",
       "1           34   365.726884   431.743723\n",
       "2           19   477.195367   489.940492\n",
       "3           49   468.446493   436.936218\n",
       "4            9   273.577663   687.215509"
      ]
     },
     "execution_count": 389,
     "metadata": {},
     "output_type": "execute_result"
    }
   ],
   "source": [
    "#for each gateway get the location \n",
    "positions_x = []\n",
    "positions_y = []\n",
    "\n",
    "#loop through gateways \n",
    "for i in range(len(gateway_ids)):\n",
    "    gateway = gateway_ids[i]\n",
    "    d1 = distance[i][0]\n",
    "    d2 = distance[i][1]\n",
    "    d3 = distance[i][2]\n",
    "    \n",
    "    positions_x.append(least_squares(distance_err,[400,400]).x[0])\n",
    "    positions_y.append(least_squares(distance_err,[400,400]).x[1])\n",
    "\n",
    "zipped = list(zip(gateway_ids,positions_x,positions_y))\n",
    "positions = pd.DataFrame(zipped, columns = ['gateway_ids','positions_x','positions_y'])\n",
    "positions.head()"
   ]
  },
  {
   "cell_type": "code",
   "execution_count": 390,
   "id": "077ae8e5",
   "metadata": {},
   "outputs": [
    {
     "data": {
      "text/html": [
       "<div>\n",
       "<style scoped>\n",
       "    .dataframe tbody tr th:only-of-type {\n",
       "        vertical-align: middle;\n",
       "    }\n",
       "\n",
       "    .dataframe tbody tr th {\n",
       "        vertical-align: top;\n",
       "    }\n",
       "\n",
       "    .dataframe thead th {\n",
       "        text-align: right;\n",
       "    }\n",
       "</style>\n",
       "<table border=\"1\" class=\"dataframe\">\n",
       "  <thead>\n",
       "    <tr style=\"text-align: right;\">\n",
       "      <th></th>\n",
       "      <th>sensor ID</th>\n",
       "      <th>x (m)</th>\n",
       "      <th>y (m)</th>\n",
       "      <th>radius (m)</th>\n",
       "    </tr>\n",
       "  </thead>\n",
       "  <tbody>\n",
       "    <tr>\n",
       "      <th>0</th>\n",
       "      <td>0</td>\n",
       "      <td>231.2663</td>\n",
       "      <td>120.1813</td>\n",
       "      <td>11.131326</td>\n",
       "    </tr>\n",
       "    <tr>\n",
       "      <th>1</th>\n",
       "      <td>1</td>\n",
       "      <td>371.8589</td>\n",
       "      <td>238.2076</td>\n",
       "      <td>11.634567</td>\n",
       "    </tr>\n",
       "    <tr>\n",
       "      <th>2</th>\n",
       "      <td>2</td>\n",
       "      <td>757.0289</td>\n",
       "      <td>350.5063</td>\n",
       "      <td>15.115731</td>\n",
       "    </tr>\n",
       "    <tr>\n",
       "      <th>3</th>\n",
       "      <td>3</td>\n",
       "      <td>190.9400</td>\n",
       "      <td>140.1613</td>\n",
       "      <td>13.697470</td>\n",
       "    </tr>\n",
       "    <tr>\n",
       "      <th>4</th>\n",
       "      <td>4</td>\n",
       "      <td>663.1340</td>\n",
       "      <td>522.3010</td>\n",
       "      <td>14.227241</td>\n",
       "    </tr>\n",
       "  </tbody>\n",
       "</table>\n",
       "</div>"
      ],
      "text/plain": [
       "   sensor ID     x (m)     y (m)  radius (m)\n",
       "0          0  231.2663  120.1813   11.131326\n",
       "1          1  371.8589  238.2076   11.634567\n",
       "2          2  757.0289  350.5063   15.115731\n",
       "3          3  190.9400  140.1613   13.697470\n",
       "4          4  663.1340  522.3010   14.227241"
      ]
     },
     "execution_count": 390,
     "metadata": {},
     "output_type": "execute_result"
    }
   ],
   "source": [
    "##Import the excel file \n",
    "truth_df = pd.read_csv('sensors.csv')\n",
    "truth_df.head()\n",
    "\n",
    "gateway_ids\n",
    "\n",
    "#get the ground truth values for the gateway ids of interest\n",
    "truth_df_filtered = truth_df[truth_df['sensor ID'].isin(gateway_ids)]\n",
    "truth_df_filtered.head()"
   ]
  },
  {
   "cell_type": "code",
   "execution_count": 391,
   "id": "fe30e459",
   "metadata": {},
   "outputs": [
    {
     "name": "stdout",
     "output_type": "stream",
     "text": [
      "[ 506.48593724  436.19933622  425.35286542  373.92221028  529.85142804\n",
      "   75.29682372  886.82064735  291.12794261  883.14283962  851.00803066\n",
      "  397.75366345  422.501899    476.51514903  286.0455173   885.63779095\n",
      " 1033.56334858  155.50285749 1127.50969947  516.49906479  150.19874471\n",
      "  308.6928298   281.31118212  266.9975758   304.49295699  278.84686746\n",
      "  295.68881408  241.16626988  370.95566389  347.5987952   342.68246818\n",
      "  368.52040651  401.03900499  788.67889863  386.18554012  337.95639409\n",
      "  717.21515679  400.16271205  490.5812728   882.24249563  372.43550633\n",
      "  526.1056056   414.3297827   380.74633105  381.14937091  418.38914767\n",
      "  342.00126719  352.811711    438.0515301   693.98591332  421.51361164\n",
      "  410.52512583  333.52000815  332.28808082  381.70401895  196.55742951\n",
      "  558.77988037  207.89825182  529.95698031  251.3629782   437.062473  ]\n"
     ]
    }
   ],
   "source": [
    "#get gateway_id position error \n",
    "\n",
    "error = np.zeros(60)\n",
    "for i in range(len(gateway_ids)):\n",
    "    gateway = gateway_ids[i]\n",
    "    truth_data = truth_df[truth_df['sensor ID'] == gateway]\n",
    "    x = truth_data['x (m)'].values\n",
    "    y = truth_data['y (m)'].values\n",
    "    \n",
    "    position_data = positions[positions['gateway_ids'] == gateway]\n",
    "    x_est = position_data['positions_x'].values\n",
    "    y_est = position_data['positions_y'].values\n",
    "    \n",
    "    error[i] = np.linalg.norm(np.array([x,y])-np.array([x_est,y_est]))\n",
    "    \n",
    "print(error)"
   ]
  },
  {
   "cell_type": "code",
   "execution_count": 392,
   "id": "1cdb1676",
   "metadata": {},
   "outputs": [
    {
     "data": {
      "image/png": "[encoded data removed]",
      "text/plain": [
       "<Figure size 1296x720 with 1 Axes>"
      ]
     },
     "metadata": {
      "needs_background": "light"
     },
     "output_type": "display_data"
    }
   ],
   "source": [
    "from matplotlib import pyplot as plt\n",
    "plt.figure(figsize=(18, 10))\n",
    "plt.gca().set_aspect(\"equal\")\n",
    "plt.scatter(x1,y1,s=100,marker='o')\n",
    "plt.scatter(x2,y2,s=100,marker='o')\n",
    "plt.scatter(x3,y3,s=100,marker='o')\n",
    "plt.scatter(truth_df_filtered[\"x (m)\"], truth_df_filtered[\"y (m)\"])\n",
    "plt.scatter(positions['positions_x'], positions['positions_y'])\n",
    "plt.show()"
   ]
  },
  {
   "cell_type": "code",
   "execution_count": null,
   "id": "3ad4bdba",
   "metadata": {},
   "outputs": [],
   "source": [
    "#bring in other sensor traces \n",
    "#figure out your for loopin problem "
   ]
  },
  {
   "cell_type": "code",
   "execution_count": null,
   "id": "0d8855ea",
   "metadata": {},
   "outputs": [],
   "source": [
    "#Unused function to check how many times gateways are next to each other and return average time \n",
    "def gateway_adjacent(gateway_x, gateway_y):\n",
    "    #print(gateway_x)\n",
    "    #print(gateway_y)\n",
    "    \n",
    "    count = 0\n",
    "    time = 0\n",
    "    size = backbone_sensor_df.shape[0]\n",
    "    #print(size)\n",
    "    for x in range(size):\n",
    "        if (backbone_sensor_df.iloc[x][0] == gateway_x):\n",
    "            #if it's the first index \n",
    "            if (x == 0):\n",
    "                if (backbone_sensor_df.iloc[x+1][0] == gateway_y):\n",
    "                    count += 1\n",
    "                    time += abs(backbone_sensor_df.iloc[x+1][1] - backbone_sensor_df.iloc[x][1])\n",
    "            \n",
    "            #if it's a last index\n",
    "            elif (x == size-1):\n",
    "                if (backbone_sensor_df.iloc[x-1][0] == gateway_y):\n",
    "                    count += 1\n",
    "                    time += abs(backbone_sensor_df.iloc[x-1][1] - backbone_sensor_df.iloc[x][1])\n",
    "            \n",
    "            else:\n",
    "                if (backbone_sensor_df.iloc[x+1][0] == gateway_y):\n",
    "                    count += 1\n",
    "                    time += abs(backbone_sensor_df.iloc[x+1][1] - backbone_sensor_df.iloc[x][1])\n",
    "                elif (backbone_sensor_df.iloc[x-1][0] == gateway_y):\n",
    "                    count += 1\n",
    "                    time += abs(backbone_sensor_df.iloc[x-1][1] - backbone_sensor_df.iloc[x][1])\n",
    "                    \n",
    "    if (count >= 1): \n",
    "        return time/count\n",
    "    else:\n",
    "        return 0"
   ]
  },
  {
   "cell_type": "code",
   "execution_count": null,
   "id": "2ec7cc78",
   "metadata": {},
   "outputs": [],
   "source": [
    "#filter to adjadent gateways with a time difference larger than 3 seconds\n",
    "\n",
    "#take this out? Can we just use the smol attack data directly\n",
    "\n",
    "#diff_sensor_df = sensor_df_smol.diff()\n",
    "#print(diff_sensor_df[40:60])\n",
    "#print(sensor_df_smol[40:60])\n",
    "#[diff_sensor_df['norm_secs (secs)'] > 5]\n",
    "\n",
    "#backbone_sensor_df = sensor_df_smol \n",
    "#backbone_sensor_df.head()"
   ]
  }
 ],
 "metadata": {
  "kernelspec": {
   "display_name": "Python 3 (ipykernel)",
   "language": "python",
   "name": "python3"
  },
  "language_info": {
   "codemirror_mode": {
    "name": "ipython",
    "version": 3
   },
   "file_extension": ".py",
   "mimetype": "text/x-python",
   "name": "python",
   "nbconvert_exporter": "python",
   "pygments_lexer": "ipython3",
   "version": "3.7.11"
  }
 },
 "nbformat": 4,
 "nbformat_minor": 5
}
