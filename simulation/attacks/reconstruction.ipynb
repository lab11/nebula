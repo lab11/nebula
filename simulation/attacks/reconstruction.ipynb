{
 "cells": [
  {
   "cell_type": "code",
   "execution_count": 10,
   "id": "408cef45",
   "metadata": {},
   "outputs": [],
   "source": [
    "import pandas as pd\n",
    "import numpy as np\n"
   ]
  },
  {
   "cell_type": "code",
   "execution_count": 52,
   "id": "9cd77899",
   "metadata": {},
   "outputs": [
    {
     "data": {
      "text/html": [
       "<div>\n",
       "<style scoped>\n",
       "    .dataframe tbody tr th:only-of-type {\n",
       "        vertical-align: middle;\n",
       "    }\n",
       "\n",
       "    .dataframe tbody tr th {\n",
       "        vertical-align: top;\n",
       "    }\n",
       "\n",
       "    .dataframe thead th {\n",
       "        text-align: right;\n",
       "    }\n",
       "</style>\n",
       "<table border=\"1\" class=\"dataframe\">\n",
       "  <thead>\n",
       "    <tr style=\"text-align: right;\">\n",
       "      <th></th>\n",
       "      <th>sensor ID</th>\n",
       "      <th>norm_secs (secs)</th>\n",
       "      <th>time (days)</th>\n",
       "    </tr>\n",
       "  </thead>\n",
       "  <tbody>\n",
       "    <tr>\n",
       "      <th>0</th>\n",
       "      <td>63802</td>\n",
       "      <td>0.000000</td>\n",
       "      <td>39416.607535</td>\n",
       "    </tr>\n",
       "    <tr>\n",
       "      <th>100</th>\n",
       "      <td>415483</td>\n",
       "      <td>4.500004</td>\n",
       "      <td>39416.607587</td>\n",
       "    </tr>\n",
       "    <tr>\n",
       "      <th>200</th>\n",
       "      <td>161919</td>\n",
       "      <td>9.000008</td>\n",
       "      <td>39416.607639</td>\n",
       "    </tr>\n",
       "    <tr>\n",
       "      <th>300</th>\n",
       "      <td>943442</td>\n",
       "      <td>12.500011</td>\n",
       "      <td>39416.607679</td>\n",
       "    </tr>\n",
       "    <tr>\n",
       "      <th>400</th>\n",
       "      <td>194738</td>\n",
       "      <td>16.500015</td>\n",
       "      <td>39416.607726</td>\n",
       "    </tr>\n",
       "  </tbody>\n",
       "</table>\n",
       "</div>"
      ],
      "text/plain": [
       "     sensor ID  norm_secs (secs)   time (days)\n",
       "0        63802          0.000000  39416.607535\n",
       "100     415483          4.500004  39416.607587\n",
       "200     161919          9.000008  39416.607639\n",
       "300     943442         12.500011  39416.607679\n",
       "400     194738         16.500015  39416.607726"
      ]
     },
     "execution_count": 52,
     "metadata": {},
     "output_type": "execute_result"
    }
   ],
   "source": [
    "##Import the excel file \n",
    "sensor_df = pd.read_csv('104.csv')\n",
    "\n",
    "#Down sample to every 100\n",
    "sensor_df_smol = sensor_df[0:100000:100]\n",
    "sensor_df_smol.head()"
   ]
  },
  {
   "cell_type": "code",
   "execution_count": 123,
   "id": "a67b3af2",
   "metadata": {},
   "outputs": [
    {
     "data": {
      "text/html": [
       "<div>\n",
       "<style scoped>\n",
       "    .dataframe tbody tr th:only-of-type {\n",
       "        vertical-align: middle;\n",
       "    }\n",
       "\n",
       "    .dataframe tbody tr th {\n",
       "        vertical-align: top;\n",
       "    }\n",
       "\n",
       "    .dataframe thead th {\n",
       "        text-align: right;\n",
       "    }\n",
       "</style>\n",
       "<table border=\"1\" class=\"dataframe\">\n",
       "  <thead>\n",
       "    <tr style=\"text-align: right;\">\n",
       "      <th></th>\n",
       "      <th>sensor ID</th>\n",
       "      <th>norm_secs (secs)</th>\n",
       "      <th>time (days)</th>\n",
       "    </tr>\n",
       "  </thead>\n",
       "  <tbody>\n",
       "    <tr>\n",
       "      <th>100</th>\n",
       "      <td>415483</td>\n",
       "      <td>4.500004</td>\n",
       "      <td>39416.607587</td>\n",
       "    </tr>\n",
       "    <tr>\n",
       "      <th>200</th>\n",
       "      <td>161919</td>\n",
       "      <td>9.000008</td>\n",
       "      <td>39416.607639</td>\n",
       "    </tr>\n",
       "    <tr>\n",
       "      <th>300</th>\n",
       "      <td>943442</td>\n",
       "      <td>12.500011</td>\n",
       "      <td>39416.607679</td>\n",
       "    </tr>\n",
       "    <tr>\n",
       "      <th>400</th>\n",
       "      <td>194738</td>\n",
       "      <td>16.500015</td>\n",
       "      <td>39416.607726</td>\n",
       "    </tr>\n",
       "    <tr>\n",
       "      <th>500</th>\n",
       "      <td>202164</td>\n",
       "      <td>20.000018</td>\n",
       "      <td>39416.607766</td>\n",
       "    </tr>\n",
       "  </tbody>\n",
       "</table>\n",
       "</div>"
      ],
      "text/plain": [
       "     sensor ID  norm_secs (secs)   time (days)\n",
       "100     415483          4.500004  39416.607587\n",
       "200     161919          9.000008  39416.607639\n",
       "300     943442         12.500011  39416.607679\n",
       "400     194738         16.500015  39416.607726\n",
       "500     202164         20.000018  39416.607766"
      ]
     },
     "execution_count": 123,
     "metadata": {},
     "output_type": "execute_result"
    }
   ],
   "source": [
    "#filter to adjadent gateways with a time difference larger than 3 seconds\n",
    "diff_sensor_df = sensor_df_smol.diff()\n",
    "#print(diff_sensor_df[40:60])\n",
    "#print(sensor_df_smol[40:60])\n",
    "backbone_sensor_df = sensor_df_smol[diff_sensor_df['norm_secs (secs)'] > 3]\n",
    "backbone_sensor_df.head()"
   ]
  },
  {
   "cell_type": "code",
   "execution_count": 103,
   "id": "d6b9019e",
   "metadata": {},
   "outputs": [
    {
     "name": "stdout",
     "output_type": "stream",
     "text": [
      "(23, 3)\n",
      "(1000, 3)\n",
      "[ 100  200  300  400  500  600  700  800  900 1000]\n",
      "[ 1  2  3  4  5  6  7  8  9 10]\n"
     ]
    }
   ],
   "source": [
    "print(backbone_sensor_df.shape)\n",
    "print(sensor_df_smol.shape)\n",
    "backbone_sensor_df['sensor ID'][100]\n",
    "test = np.linspace(100,1000,10,dtype=int)\n",
    "print(test)\n",
    "print((test//100))"
   ]
  },
  {
   "cell_type": "code",
   "execution_count": 124,
   "id": "0c224812",
   "metadata": {},
   "outputs": [
    {
     "name": "stderr",
     "output_type": "stream",
     "text": [
      "/home/tessxd/anaconda3/lib/python3.7/site-packages/numpy/core/fromnumeric.py:3441: RuntimeWarning: Mean of empty slice.\n",
      "  out=out, **kwargs)\n",
      "/home/tessxd/anaconda3/lib/python3.7/site-packages/numpy/core/_methods.py:189: RuntimeWarning: invalid value encountered in double_scalars\n",
      "  ret = ret.dtype.type(ret / rcount)\n"
     ]
    }
   ],
   "source": [
    "#Get a pairwise matrix for the backbone gateways\n",
    "num_gates = backbone_sensor_df.shape[0]\n",
    "index = np.linspace(100,(num_gates-1)*100,num_gates-1,dtype=int)\n",
    "\n",
    "#set up a matrix of time between gateways, this is a proxy for distance\n",
    "pairs = np.ones((num_gates,num_gates))\n",
    "\n",
    "for x in index:\n",
    "    times = []\n",
    "    for y in index:\n",
    "        #get all the pairs\n",
    "        if (backbone_sensor_df[\"sensor ID\"][x+100] == backbone_sensor_df[\"sensor ID\"][y]):\n",
    "            times.append(abs(backbone_sensor_df[\"norm_secs (secs)\"][x+100] - backbone_sensor_df[\"norm_secs (secs)\"][y]))\n",
    "        \n",
    "        #set the distance values\n",
    "        pairs[(x//100)-1][(y//100)-1] = np.mean(times)\n",
    "        \n",
    "#pairs"
   ]
  },
  {
   "cell_type": "code",
   "execution_count": null,
   "id": "8041a05e",
   "metadata": {},
   "outputs": [],
   "source": [
    "#sort by time?"
   ]
  },
  {
   "cell_type": "code",
   "execution_count": null,
   "id": "65ea1953",
   "metadata": {},
   "outputs": [],
   "source": [
    "#backbone_sensor_df = sensor_df.loc(sensor_df['norm_secs (secs)'].diff() > 1)\n",
    "#print(backbone_sensor_df)\n",
    "#print(sensor_df.filter(sensor_df['norm_secs (secs)'].diff() > 1))\n",
    "#backbone_sensor_df = sensor_df_smol.loc(diff_sensor_df['norm_secs (secs)'] > 1.0)\n",
    "#backbone_sensor_df.head()\n",
    "\n",
    "#print(sensor_df_smol[diff_sensor_df['norm_secs (secs)'] > 3])\n",
    "\n",
    "##print(sensor_df['norm_secs (secs)'][100:110])\n",
    "#print(sensor_df[\"sensor ID\"][0])"
   ]
  }
 ],
 "metadata": {
  "kernelspec": {
   "display_name": "Python 3 (ipykernel)",
   "language": "python",
   "name": "python3"
  },
  "language_info": {
   "codemirror_mode": {
    "name": "ipython",
    "version": 3
   },
   "file_extension": ".py",
   "mimetype": "text/x-python",
   "name": "python",
   "nbconvert_exporter": "python",
   "pygments_lexer": "ipython3",
   "version": "3.7.11"
  }
 },
 "nbformat": 4,
 "nbformat_minor": 5
}
