{
 "cells": [
  {
   "cell_type": "code",
   "execution_count": 23,
   "metadata": {},
   "outputs": [
    {
     "name": "stderr",
     "output_type": "stream",
     "text": [
      "100%|██████████| 12/12 [02:21<00:00, 11.83s/it]\n"
     ]
    },
    {
     "data": {
      "image/png": "[encoded data removed]",
      "text/plain": [
       "<Figure size 432x288 with 1 Axes>"
      ]
     },
     "metadata": {
      "needs_background": "light"
     },
     "output_type": "display_data"
    },
    {
     "name": "stdout",
     "output_type": "stream",
     "text": [
      "q25 0.9609371552555374 q50 2.6938087643486037 q75 4.42668037344167\n",
      "\n"
     ]
    }
   ],
   "source": [
    "# get the average velocity from the ground truth data\n",
    "\n",
    "import matplotlib.pyplot as plt\n",
    "import math\n",
    "from tqdm import tqdm\n",
    "import pandas as pd\n",
    "import numpy as np\n",
    "\n",
    "SIMDATA_PATH=\"attack_data/sim_data/mules/\"\n",
    "GTDATA_PATH =\"attack_data/ground_truth/\"\n",
    "\n",
    "SMOLDATA_PATH = \"../smol_attacks/smol_sim/mules/\"\n",
    "SMOLGTDATA_PATH = \"../smol_attacks/smol_truth/\"\n",
    "\n",
    "def average_velocity_from_trace(trace_files, limit=10000000, downsample=1):\n",
    "    \n",
    "    velocities = []\n",
    "    for trace_file in tqdm(trace_files, position=0, leave=True):\n",
    "        \n",
    "        # import file\n",
    "        gateway_df = pd.read_csv(trace_file)\n",
    "\n",
    "        # down sample if needed\n",
    "        gateway_df_smol = gateway_df[0:limit:downsample]\n",
    "        gateway_df_smol.head()\n",
    "\n",
    "        # filter to adjadent gateways with a time difference larger than 3 seconds\n",
    "    #     diff_gateway_df = gateway_df_smol.diff()\n",
    "\n",
    "    #     print(gateway_df_smol)\n",
    "\n",
    "    #     backbone_gateway_df = gateway_df_smol[diff_gateway_df['norm_secs (secs)'] > 1]\n",
    "    #     backbone_gateway_df.head()\n",
    "\n",
    "        # import the ground truth gateway location file\n",
    "        gateway_positions_df = pd.read_csv(SMOLGTDATA_PATH + 'sensors.csv')\n",
    "\n",
    "        if gateway_df_smol.shape[0] <= 1:\n",
    "            print('  only', gateway_df_smol.shape[0], 'points, aborting')\n",
    "            return8\n",
    "\n",
    "        for i in range(1, gateway_df_smol.shape[0]):\n",
    "\n",
    "            # source gateway info\n",
    "            src_gateway_id = int(gateway_df_smol.iloc[i-1]['sensor ID'])\n",
    "            src_time_s     = float(gateway_df_smol.iloc[i-1]['norm_secs (secs)'])\n",
    "\n",
    "            src_gateway_x  = gateway_positions_df.iloc[src_gateway_id]['x (m)']\n",
    "            src_gateway_y  = gateway_positions_df.iloc[src_gateway_id]['y (m)']\n",
    "\n",
    "            # destination gateway info\n",
    "            dst_gateway_id = int(gateway_df_smol.iloc[i]['sensor ID'])\n",
    "            dst_time_s     = float(gateway_df_smol.iloc[i]['norm_secs (secs)'])\n",
    "\n",
    "            dst_gateway_x  = gateway_positions_df.iloc[dst_gateway_id]['x (m)']\n",
    "            dst_gateway_y  = gateway_positions_df.iloc[dst_gateway_id]['y (m)']\n",
    "\n",
    "            # skip if we're just looking at the same gateway\n",
    "            if src_gateway_id == dst_gateway_id:\n",
    "                continue\n",
    "\n",
    "            # calculate distance and time between gateways\n",
    "            distance = math.sqrt((src_gateway_x - dst_gateway_x)**2 + (src_gateway_y - dst_gateway_y)**2)\n",
    "            time_diff = dst_time_s - src_time_s\n",
    "\n",
    "            # skip if (almost) no time has passed\n",
    "            if time_diff < 1:\n",
    "                continue\n",
    "\n",
    "            velocities.append(\n",
    "                distance / time_diff\n",
    "            )\n",
    "\n",
    "            #print('src gateway {:2} -> dst gateway {:2} in {:7.2f} s: {:8.2f} m/s estimated velocity over {:8.2f} m'.format(\n",
    "            #    src_gateway_id, dst_gateway_id, time_diff, distance / time_diff, distance))\n",
    "\n",
    "    _ = plt.hist(velocities, range=[0, 10], bins='auto')\n",
    "    plt.title('Average speed distribution')\n",
    "    plt.show()\n",
    "\n",
    "    q75, q25 = np.percentile(velocities, [75 ,25])\n",
    "    iqr = q75 - q25\n",
    "\n",
    "    print('q25', q25, 'q50', q25 + iqr/2, 'q75', q75)\n",
    "    print()\n",
    "    \n",
    "    \n",
    "# average_velocity_from_trace(SIMDATA_PATH + \"104.csv\")\n",
    "# average_velocity_from_trace(SIMDATA_PATH + \"135.csv\")\n",
    "\n",
    "mule_ids = ['007', '011', '022', '024', '025', '038', '052', '062', '071', '085', '126', '167']\n",
    "#mule_ids = ['007']\n",
    "\n",
    "average_velocity_from_trace([SMOLDATA_PATH+m+'.csv' for m in mule_ids])\n"
   ]
  },
  {
   "cell_type": "code",
   "execution_count": null,
   "metadata": {},
   "outputs": [],
   "source": []
  },
  {
   "cell_type": "code",
   "execution_count": null,
   "metadata": {},
   "outputs": [],
   "source": []
  }
 ],
 "metadata": {
  "kernelspec": {
   "display_name": "Python 3",
   "language": "python",
   "name": "python3"
  },
  "language_info": {
   "codemirror_mode": {
    "name": "ipython",
    "version": 3
   },
   "file_extension": ".py",
   "mimetype": "text/x-python",
   "name": "python",
   "nbconvert_exporter": "python",
   "pygments_lexer": "ipython3",
   "version": "3.6.8"
  },
  "toc": {
   "base_numbering": 1,
   "nav_menu": {},
   "number_sections": true,
   "sideBar": true,
   "skip_h1_title": false,
   "title_cell": "Table of Contents",
   "title_sidebar": "Contents",
   "toc_cell": false,
   "toc_position": {},
   "toc_section_display": true,
   "toc_window_display": false
  }
 },
 "nbformat": 4,
 "nbformat_minor": 5
}
