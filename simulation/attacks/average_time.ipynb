{
 "cells": [
  {
   "cell_type": "code",
   "execution_count": 115,
   "metadata": {},
   "outputs": [
    {
     "name": "stdout",
     "output_type": "stream",
     "text": [
      "extracting average velocity from attack_data/sim_data/mules/104.csv\n"
     ]
    },
    {
     "name": "stderr",
     "output_type": "stream",
     "text": [
      "100%|██████████| 50904/50904 [00:56<00:00, 899.37it/s]\n"
     ]
    },
    {
     "data": {
      "image/png": "[encoded data removed]",
      "text/plain": [
       "<Figure size 432x288 with 1 Axes>"
      ]
     },
     "metadata": {
      "needs_background": "light"
     },
     "output_type": "display_data"
    },
    {
     "name": "stdout",
     "output_type": "stream",
     "text": [
      "q25 1.237806200500825 q50 2.6679180081538103 q75 4.098029815806795\n",
      "\n",
      "extracting average velocity from attack_data/sim_data/mules/135.csv\n"
     ]
    },
    {
     "name": "stderr",
     "output_type": "stream",
     "text": [
      "100%|██████████| 2566/2566 [00:02<00:00, 858.76it/s]\n"
     ]
    },
    {
     "data": {
      "image/png": "[encoded data removed]",
      "text/plain": [
       "<Figure size 432x288 with 1 Axes>"
      ]
     },
     "metadata": {
      "needs_background": "light"
     },
     "output_type": "display_data"
    },
    {
     "name": "stdout",
     "output_type": "stream",
     "text": [
      "q25 1.1609195918676587 q50 2.6521098112191437 q75 4.143300030570629\n",
      "\n"
     ]
    }
   ],
   "source": [
    "# get the average velocity from the ground truth data\n",
    "\n",
    "import matplotlib.pyplot as plt\n",
    "import math\n",
    "from tqdm import tqdm\n",
    "import pandas as pd\n",
    "import numpy as np\n",
    "\n",
    "SIMDATA_PATH=\"attack_data/sim_data/mules/\"\n",
    "GTDATA_PATH =\"attack_data/ground_truth/\"\n",
    "\n",
    "def average_velocity_from_trace(trace_file, limit=10000000, downsample=100):\n",
    "    \n",
    "    print(\"extracting average velocity from\", trace_file)\n",
    "    \n",
    "    # import file\n",
    "    gateway_df = pd.read_csv(trace_file)\n",
    "\n",
    "    # down sample to every 100\n",
    "    gateway_df_smol = gateway_df[0:limit:downsample]\n",
    "    gateway_df_smol.head()\n",
    "    \n",
    "    # filter to adjadent gateways with a time difference larger than 3 seconds\n",
    "    diff_gateway_df = gateway_df_smol.diff()\n",
    "    \n",
    "    backbone_gateway_df = gateway_df_smol[diff_gateway_df['norm_secs (secs)'] > 3]\n",
    "    backbone_gateway_df.head()\n",
    "\n",
    "    # import the ground truth gateway location file\n",
    "    gateway_positions_df = pd.read_csv(GTDATA_PATH + 'sensors.csv')\n",
    "\n",
    "    velocities = []\n",
    "    for i in tqdm(range(1, backbone_gateway_df.shape[0]), position=0, leave=True):\n",
    "\n",
    "        src_gateway_id, dst_gateway_id = int(backbone_gateway_df.iloc[i-1]['sensor ID']), int(backbone_gateway_df.iloc[i]['sensor ID'])\n",
    "        src_time_s, dst_time_s = float(backbone_gateway_df.iloc[i-1]['norm_secs (secs)']), float(backbone_gateway_df.iloc[i]['norm_secs (secs)'])\n",
    "\n",
    "        src_gateway_x, src_gateway_y = gateway_positions_df.iloc[src_gateway_id]['x (m)'], gateway_positions_df.iloc[src_gateway_id]['y (m)']\n",
    "        dst_gateway_x, dst_gateway_y = gateway_positions_df.iloc[dst_gateway_id]['x (m)'], gateway_positions_df.iloc[dst_gateway_id]['y (m)']\n",
    "\n",
    "        distance = math.sqrt((src_gateway_x - dst_gateway_x)**2 + (src_gateway_y - dst_gateway_y)**2)\n",
    "        if distance == 0 and src_gateway_id == dst_gateway_id:\n",
    "            continue\n",
    "#         if distance == 0:\n",
    "#             continue\n",
    "        velocities.append(\n",
    "            distance / (dst_time_s - src_time_s)\n",
    "        )\n",
    "\n",
    "    _ = plt.hist(velocities, range=[0, 10], bins='auto')\n",
    "    plt.show()\n",
    "\n",
    "    q75, q25 = np.percentile(velocities, [75 ,25])\n",
    "    iqr = q75 - q25\n",
    "\n",
    "    print('q25', q25, 'q50', q25 + iqr/2, 'q75', q75)\n",
    "    print()\n",
    "    \n",
    "    \n",
    "average_velocity_from_trace(SIMDATA_PATH + \"104.csv\", limit=100000000)\n",
    "average_velocity_from_trace(SIMDATA_PATH + \"135.csv\", limit=100000000)\n"
   ]
  }
 ],
 "metadata": {
  "kernelspec": {
   "display_name": "Python 3",
   "language": "python",
   "name": "python3"
  },
  "language_info": {
   "codemirror_mode": {
    "name": "ipython",
    "version": 3
   },
   "file_extension": ".py",
   "mimetype": "text/x-python",
   "name": "python",
   "nbconvert_exporter": "python",
   "pygments_lexer": "ipython3",
   "version": "3.8.3"
  },
  "toc": {
   "base_numbering": 1,
   "nav_menu": {},
   "number_sections": true,
   "sideBar": true,
   "skip_h1_title": false,
   "title_cell": "Table of Contents",
   "title_sidebar": "Contents",
   "toc_cell": false,
   "toc_position": {},
   "toc_section_display": true,
   "toc_window_display": false
  }
 },
 "nbformat": 4,
 "nbformat_minor": 5
}
