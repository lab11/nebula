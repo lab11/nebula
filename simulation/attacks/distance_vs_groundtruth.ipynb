{
 "cells": [
  {
   "cell_type": "code",
   "execution_count": 49,
   "metadata": {},
   "outputs": [],
   "source": [
    "import pandas as pd\n",
    "import numpy as np\n",
    "from scipy.optimize import fsolve, least_squares \n",
    "from tqdm import tqdm"
   ]
  },
  {
   "cell_type": "code",
   "execution_count": 50,
   "metadata": {},
   "outputs": [
    {
     "data": {
      "text/html": [
       "<div>\n",
       "<style scoped>\n",
       "    .dataframe tbody tr th:only-of-type {\n",
       "        vertical-align: middle;\n",
       "    }\n",
       "\n",
       "    .dataframe tbody tr th {\n",
       "        vertical-align: top;\n",
       "    }\n",
       "\n",
       "    .dataframe thead th {\n",
       "        text-align: right;\n",
       "    }\n",
       "</style>\n",
       "<table border=\"1\" class=\"dataframe\">\n",
       "  <thead>\n",
       "    <tr style=\"text-align: right;\">\n",
       "      <th></th>\n",
       "      <th>sensor ID</th>\n",
       "      <th>norm_secs (secs)</th>\n",
       "      <th>time (days)</th>\n",
       "    </tr>\n",
       "  </thead>\n",
       "  <tbody>\n",
       "    <tr>\n",
       "      <th>0</th>\n",
       "      <td>15</td>\n",
       "      <td>11.200029</td>\n",
       "      <td>39423.442618</td>\n",
       "    </tr>\n",
       "    <tr>\n",
       "      <th>1</th>\n",
       "      <td>15</td>\n",
       "      <td>11.900031</td>\n",
       "      <td>39423.442626</td>\n",
       "    </tr>\n",
       "    <tr>\n",
       "      <th>2</th>\n",
       "      <td>15</td>\n",
       "      <td>12.600032</td>\n",
       "      <td>39423.442634</td>\n",
       "    </tr>\n",
       "    <tr>\n",
       "      <th>3</th>\n",
       "      <td>15</td>\n",
       "      <td>13.300034</td>\n",
       "      <td>39423.442642</td>\n",
       "    </tr>\n",
       "    <tr>\n",
       "      <th>4</th>\n",
       "      <td>15</td>\n",
       "      <td>14.000036</td>\n",
       "      <td>39423.442650</td>\n",
       "    </tr>\n",
       "  </tbody>\n",
       "</table>\n",
       "</div>"
      ],
      "text/plain": [
       "   sensor ID  norm_secs (secs)   time (days)\n",
       "0         15         11.200029  39423.442618\n",
       "1         15         11.900031  39423.442626\n",
       "2         15         12.600032  39423.442634\n",
       "3         15         13.300034  39423.442642\n",
       "4         15         14.000036  39423.442650"
      ]
     },
     "execution_count": 50,
     "metadata": {},
     "output_type": "execute_result"
    }
   ],
   "source": [
    "#Import the SMOL attack csv instead of downsampling\n",
    "sensor_df_smol = pd.read_csv('../smol_attacks/smol_sim/mules/062.csv')\n",
    "backbone_sensor_df = sensor_df_smol \n",
    "backbone_sensor_df.head()"
   ]
  },
  {
   "cell_type": "code",
   "execution_count": 51,
   "metadata": {},
   "outputs": [
    {
     "name": "stdout",
     "output_type": "stream",
     "text": [
      "(58047, 3)\n",
      "(58047, 3)\n",
      "60\n"
     ]
    }
   ],
   "source": [
    "print(backbone_sensor_df.shape)\n",
    "print(sensor_df_smol.shape)\n",
    "print(backbone_sensor_df['sensor ID'].nunique())"
   ]
  },
  {
   "cell_type": "code",
   "execution_count": 52,
   "metadata": {},
   "outputs": [],
   "source": [
    "#function to check total time between gateways and returns average time\n",
    "def gateway_total(gateway_x, gateway_y):\n",
    "    count = 0\n",
    "    time = 0\n",
    "    size = backbone_sensor_df.shape[0]\n",
    "    gateway_path = backbone_sensor_df.values\n",
    "    \n",
    "    if(gateway_y == gateway_x):\n",
    "        return 0\n",
    "    \n",
    "    #hyperparameter\n",
    "    hops = 2\n",
    "    \n",
    "    for x in range(size):\n",
    "        if (gateway_path[x][0] == gateway_x):\n",
    "            for i in range(-hops,hops+1):\n",
    "                if (i == 0):\n",
    "                    continue\n",
    "                if ((x+i) < 0):\n",
    "                    continue\n",
    "                if ((x+i) >= size):\n",
    "                    continue\n",
    "                if (gateway_path[x+i][0] == gateway_y):\n",
    "                    #print(\"gateway path equals y in else\")\n",
    "                    count += 1\n",
    "                    time += abs(gateway_path[x+i][1] - gateway_path[x][1])\n",
    "                                        \n",
    "    if (count >= 1): \n",
    "        #print(count)\n",
    "        return time/count\n",
    "    else:\n",
    "        return 0 #could change this to a negative number to indicate doesn't exist \n",
    "        \n",
    "#gateway_total(1,20)"
   ]
  },
  {
   "cell_type": "code",
   "execution_count": 53,
   "metadata": {},
   "outputs": [
    {
     "name": "stderr",
     "output_type": "stream",
     "text": [
      "100%|██████████| 60/60 [01:13<00:00,  1.23s/it]\n"
     ]
    },
    {
     "data": {
      "text/plain": [
       "array([[  0.        ,   4.56884087, 164.96709107, ...,   0.        ,\n",
       "          0.        ,   0.        ],\n",
       "       [  4.56884087,   0.        ,  47.9981627 , ...,   0.        ,\n",
       "         53.90013867,   0.        ],\n",
       "       [164.96709107,  47.9981627 ,   0.        , ...,   0.        ,\n",
       "          0.        ,   0.        ],\n",
       "       ...,\n",
       "       [  0.        ,   0.        ,   0.        , ...,   0.        ,\n",
       "          0.        ,   0.        ],\n",
       "       [  0.        ,  53.90013867,   0.        , ...,   0.        ,\n",
       "          0.        ,   0.        ],\n",
       "       [  0.        ,   0.        ,   0.        , ...,   0.        ,\n",
       "          0.        ,   0.        ]])"
      ]
     },
     "execution_count": 53,
     "metadata": {},
     "output_type": "execute_result"
    }
   ],
   "source": [
    "#set up a matrix of time between adjacent gateways, this is a proxy for distance\n",
    "num_gates = backbone_sensor_df['sensor ID'].nunique()\n",
    "time_pairs = np.zeros((num_gates,num_gates))\n",
    "gateway_ids = backbone_sensor_df['sensor ID'].drop_duplicates().values\n",
    "\n",
    "for x in tqdm(range(num_gates)):\n",
    "    #times = []\n",
    "    for y in range(num_gates):\n",
    "        #find how many times x gateway is adjacent to y gateway \n",
    "        gateway_id_x = gateway_ids[y]\n",
    "        gateway_id_y = gateway_ids[x]\n",
    "        average = gateway_total(gateway_id_x,gateway_id_y)\n",
    "\n",
    "        #add to time_pairs[x][y]\n",
    "        time_pairs[x][y] = average\n",
    "        \n",
    "        \n",
    "time_pairs"
   ]
  },
  {
   "cell_type": "code",
   "execution_count": 54,
   "metadata": {},
   "outputs": [
    {
     "name": "stdout",
     "output_type": "stream",
     "text": [
      "0.0\n"
     ]
    },
    {
     "data": {
      "image/png": "[encoded data removed]",
      "text/plain": [
       "<Figure size 432x288 with 1 Axes>"
      ]
     },
     "metadata": {
      "needs_background": "light"
     },
     "output_type": "display_data"
    }
   ],
   "source": [
    "import scipy.sparse as sparse \n",
    "print(time_pairs[2,2])\n",
    "plt.spy(time_pairs)\n",
    "plt.show()"
   ]
  },
  {
   "cell_type": "code",
   "execution_count": 143,
   "metadata": {},
   "outputs": [],
   "source": [
    "#get the average velocity from the ground truth data \n",
    "avg_vel = 0.5 #m/s"
   ]
  },
  {
   "cell_type": "code",
   "execution_count": 144,
   "metadata": {},
   "outputs": [
    {
     "name": "stdout",
     "output_type": "stream",
     "text": [
      "(60, 60)\n"
     ]
    }
   ],
   "source": [
    "#calculate the distance matrix from the average time and average velocity \n",
    "distance = avg_vel*time_pairs\n",
    "distance\n",
    "print(distance.shape)"
   ]
  },
  {
   "cell_type": "code",
   "execution_count": 145,
   "metadata": {},
   "outputs": [],
   "source": [
    "# n_gateways = distance.shape[0]\n",
    "# for g1 in range(n_gateways):\n",
    "#     for g2 in range(n_gateways):\n",
    "        \n",
    "#         print(g1, g2, distance[g1][g2], distance[g2][g1])"
   ]
  },
  {
   "cell_type": "code",
   "execution_count": 146,
   "metadata": {},
   "outputs": [],
   "source": [
    "import math\n",
    "\n",
    "gateway_positions_df = pd.read_csv('../smol_attacks/smol_truth/sensors.csv')\n",
    "\n",
    "n_gateways = distance.shape[0]\n",
    "true_distance = np.zeros_like(distance)\n",
    "\n",
    "for g1 in range(n_gateways):\n",
    "    for g2 in range(n_gateways):\n",
    "        \n",
    "        g1_x, g1_y = gateway_positions_df.iloc[g1]['x (m)'], gateway_positions_df.iloc[g2]['y (m)']\n",
    "        g2_x, g2_y = gateway_positions_df.iloc[g2]['x (m)'], gateway_positions_df.iloc[g2]['y (m)']\n",
    "        \n",
    "        d = math.sqrt((g1_x - g2_x)**2 + (g1_y - g2_y)*2)\n",
    "        \n",
    "        true_distance[g1][g2] = d"
   ]
  },
  {
   "cell_type": "code",
   "execution_count": 147,
   "metadata": {},
   "outputs": [],
   "source": [
    "distance_diff = np.abs(true_distance - distance)\n",
    "\n",
    "for g1 in range(n_gateways):\n",
    "    for g2 in range(n_gateways):\n",
    "        \n",
    "        if distance[g1][g2] == 0:\n",
    "            distance_diff[g1][g2] = 0.0\n"
   ]
  },
  {
   "cell_type": "code",
   "execution_count": 148,
   "metadata": {},
   "outputs": [
    {
     "data": {
      "image/png": "[encoded data removed]",
      "text/plain": [
       "<Figure size 432x288 with 1 Axes>"
      ]
     },
     "metadata": {
      "needs_background": "light"
     },
     "output_type": "display_data"
    },
    {
     "name": "stdout",
     "output_type": "stream",
     "text": [
      "mean distance error (not counting unknown): 47.13 m\n",
      "quartiles -- 25th: 69.48, 50th: 179.43, 75th: 360.25, 90th: 495.25\n",
      "average velocity = 0.5 m/s\n"
     ]
    }
   ],
   "source": [
    "import matplotlib.pyplot as plt\n",
    "\n",
    "distance_diff_vals = []\n",
    "for g1 in range(n_gateways):\n",
    "    for g2 in range(g1, n_gateways):\n",
    "        if distance_diff[g1][g2] != 0.0:\n",
    "            distance_diff_vals.append(distance_diff[g1][g2])\n",
    "\n",
    "_ = plt.hist(distance_diff_vals, bins='auto', range=[0, 2000])\n",
    "plt.title('Distribution of distance errors from ground truth (some outliers > 2000 elided) [smol]')\n",
    "\n",
    "plt.show()\n",
    "\n",
    "q25, q50, q75, q90 = np.percentile(distance_diff_vals, [25, 50, 75, 90])\n",
    "\n",
    "#print(sorted(distance_diff_vals))\n",
    "print('mean distance error (not counting unknown): {:.2f} m'.format(np.mean(distance_diff)))\n",
    "print('quartiles -- 25th: {:.2f}, 50th: {:.2f}, 75th: {:.2f}, 90th: {:.2f}'.format(q25, q50, q75, q90))\n",
    "print('average velocity = {} m/s'.format(avg_vel))"
   ]
  },
  {
   "cell_type": "code",
   "execution_count": 149,
   "metadata": {},
   "outputs": [
    {
     "name": "stdout",
     "output_type": "stream",
     "text": [
      "Distance error from ground truth: [smol]\n"
     ]
    },
    {
     "data": {
      "text/plain": [
       "<AxesSubplot:>"
      ]
     },
     "execution_count": 149,
     "metadata": {},
     "output_type": "execute_result"
    },
    {
     "data": {
      "image/png": "[encoded data removed]",
      "text/plain": [
       "<Figure size 432x288 with 2 Axes>"
      ]
     },
     "metadata": {
      "needs_background": "light"
     },
     "output_type": "display_data"
    }
   ],
   "source": [
    "import seaborn\n",
    "\n",
    "print('Distance error from ground truth: [smol]')\n",
    "seaborn.heatmap(distance_diff)"
   ]
  },
  {
   "cell_type": "code",
   "execution_count": 114,
   "metadata": {},
   "outputs": [
    {
     "name": "stdout",
     "output_type": "stream",
     "text": [
      "Distance estimate cells with no data: [smol]\n"
     ]
    },
    {
     "data": {
      "text/plain": [
       "<AxesSubplot:>"
      ]
     },
     "execution_count": 114,
     "metadata": {},
     "output_type": "execute_result"
    },
    {
     "data": {
      "image/png": "[encoded data removed]",
      "text/plain": [
       "<Figure size 432x288 with 2 Axes>"
      ]
     },
     "metadata": {
      "needs_background": "light"
     },
     "output_type": "display_data"
    }
   ],
   "source": [
    "print('Distance estimate cells with no data: [smol]')\n",
    "\n",
    "distance_not_found = np.zeros_like(distance)\n",
    "\n",
    "for g1 in range(n_gateways):\n",
    "    for g2 in range(n_gateways):\n",
    "        if distance[g1][g2] != 0.0:\n",
    "            distance_not_found[g1][g2] = 1.0\n",
    "            \n",
    "seaborn.heatmap(distance_not_found)"
   ]
  },
  {
   "cell_type": "markdown",
   "metadata": {},
   "source": [
    "-------"
   ]
  },
  {
   "cell_type": "code",
   "execution_count": 435,
   "metadata": {},
   "outputs": [],
   "source": [
    "#pick three gateways to triangulate from ground truth\n",
    "gateway_a = [231.2663,120.1813]\n",
    "gateway_b = [197.9663,793.9513]\n",
    "gateway_c = [757.0289,350.5063]\n",
    "\n",
    "x1 = gateway_a[0]\n",
    "y1 = gateway_a[1]\n",
    "\n",
    "x2 = gateway_b[0]\n",
    "y2 = gateway_b[1]\n",
    "\n",
    "x3 = gateway_c[0]\n",
    "y3 = gateway_c[1]\n",
    "\n"
   ]
  },
  {
   "cell_type": "code",
   "execution_count": 436,
   "metadata": {},
   "outputs": [],
   "source": [
    "#function to return the distance error between points\n",
    "def distance_err(point):\n",
    "    x = point[0]\n",
    "    y = point[1]\n",
    "    error1 = np.abs(np.linalg.norm(np.array([x,y])-np.array([x1,y1])) - d1)**2\n",
    "    error2 = np.abs(np.linalg.norm(np.array([x,y])-np.array([x2,y2])) - d2)**2\n",
    "    error3 = np.abs(np.linalg.norm(np.array([x,y])-np.array([x3,y3])) - d3)**2\n",
    "    error_total = error1 + error2 + error3\n",
    "    \n",
    "    return error_total \n",
    "\n",
    "#Example use of \n",
    "#least_squares(fun,[16000,25000])"
   ]
  },
  {
   "cell_type": "code",
   "execution_count": 437,
   "metadata": {},
   "outputs": [
    {
     "data": {
      "text/html": [
       "<div>\n",
       "<style scoped>\n",
       "    .dataframe tbody tr th:only-of-type {\n",
       "        vertical-align: middle;\n",
       "    }\n",
       "\n",
       "    .dataframe tbody tr th {\n",
       "        vertical-align: top;\n",
       "    }\n",
       "\n",
       "    .dataframe thead th {\n",
       "        text-align: right;\n",
       "    }\n",
       "</style>\n",
       "<table border=\"1\" class=\"dataframe\">\n",
       "  <thead>\n",
       "    <tr style=\"text-align: right;\">\n",
       "      <th></th>\n",
       "      <th>gateway_ids</th>\n",
       "      <th>positions_x</th>\n",
       "      <th>positions_y</th>\n",
       "    </tr>\n",
       "  </thead>\n",
       "  <tbody>\n",
       "    <tr>\n",
       "      <th>0</th>\n",
       "      <td>15</td>\n",
       "      <td>302.983685</td>\n",
       "      <td>443.694054</td>\n",
       "    </tr>\n",
       "    <tr>\n",
       "      <th>1</th>\n",
       "      <td>34</td>\n",
       "      <td>308.594925</td>\n",
       "      <td>446.036204</td>\n",
       "    </tr>\n",
       "    <tr>\n",
       "      <th>2</th>\n",
       "      <td>19</td>\n",
       "      <td>335.257076</td>\n",
       "      <td>485.726544</td>\n",
       "    </tr>\n",
       "    <tr>\n",
       "      <th>3</th>\n",
       "      <td>49</td>\n",
       "      <td>443.474941</td>\n",
       "      <td>515.434470</td>\n",
       "    </tr>\n",
       "    <tr>\n",
       "      <th>4</th>\n",
       "      <td>9</td>\n",
       "      <td>339.224095</td>\n",
       "      <td>713.579048</td>\n",
       "    </tr>\n",
       "  </tbody>\n",
       "</table>\n",
       "</div>"
      ],
      "text/plain": [
       "   gateway_ids  positions_x  positions_y\n",
       "0           15   302.983685   443.694054\n",
       "1           34   308.594925   446.036204\n",
       "2           19   335.257076   485.726544\n",
       "3           49   443.474941   515.434470\n",
       "4            9   339.224095   713.579048"
      ]
     },
     "execution_count": 437,
     "metadata": {},
     "output_type": "execute_result"
    }
   ],
   "source": [
    "#for each gateway get the location \n",
    "positions_x = []\n",
    "positions_y = []\n",
    "\n",
    "#loop through gateways \n",
    "for i in range(len(gateway_ids)):\n",
    "    gateway = gateway_ids[i]\n",
    "    d1 = distance[i][0]\n",
    "    d2 = distance[i][27]\n",
    "    d3 = distance[i][3]\n",
    "    \n",
    "    positions_x.append(least_squares(distance_err,[400,400]).x[0])\n",
    "    positions_y.append(least_squares(distance_err,[400,400]).x[1])\n",
    "\n",
    "zipped = list(zip(gateway_ids,positions_x,positions_y))\n",
    "positions = pd.DataFrame(zipped, columns = ['gateway_ids','positions_x','positions_y'])\n",
    "positions.head()"
   ]
  },
  {
   "cell_type": "code",
   "execution_count": 438,
   "metadata": {},
   "outputs": [
    {
     "data": {
      "text/html": [
       "<div>\n",
       "<style scoped>\n",
       "    .dataframe tbody tr th:only-of-type {\n",
       "        vertical-align: middle;\n",
       "    }\n",
       "\n",
       "    .dataframe tbody tr th {\n",
       "        vertical-align: top;\n",
       "    }\n",
       "\n",
       "    .dataframe thead th {\n",
       "        text-align: right;\n",
       "    }\n",
       "</style>\n",
       "<table border=\"1\" class=\"dataframe\">\n",
       "  <thead>\n",
       "    <tr style=\"text-align: right;\">\n",
       "      <th></th>\n",
       "      <th>sensor ID</th>\n",
       "      <th>x (m)</th>\n",
       "      <th>y (m)</th>\n",
       "      <th>radius (m)</th>\n",
       "    </tr>\n",
       "  </thead>\n",
       "  <tbody>\n",
       "    <tr>\n",
       "      <th>0</th>\n",
       "      <td>0</td>\n",
       "      <td>231.2663</td>\n",
       "      <td>120.1813</td>\n",
       "      <td>11.131326</td>\n",
       "    </tr>\n",
       "    <tr>\n",
       "      <th>1</th>\n",
       "      <td>1</td>\n",
       "      <td>371.8589</td>\n",
       "      <td>238.2076</td>\n",
       "      <td>11.634567</td>\n",
       "    </tr>\n",
       "    <tr>\n",
       "      <th>2</th>\n",
       "      <td>2</td>\n",
       "      <td>757.0289</td>\n",
       "      <td>350.5063</td>\n",
       "      <td>15.115731</td>\n",
       "    </tr>\n",
       "    <tr>\n",
       "      <th>3</th>\n",
       "      <td>3</td>\n",
       "      <td>190.9400</td>\n",
       "      <td>140.1613</td>\n",
       "      <td>13.697470</td>\n",
       "    </tr>\n",
       "    <tr>\n",
       "      <th>4</th>\n",
       "      <td>4</td>\n",
       "      <td>663.1340</td>\n",
       "      <td>522.3010</td>\n",
       "      <td>14.227241</td>\n",
       "    </tr>\n",
       "  </tbody>\n",
       "</table>\n",
       "</div>"
      ],
      "text/plain": [
       "   sensor ID     x (m)     y (m)  radius (m)\n",
       "0          0  231.2663  120.1813   11.131326\n",
       "1          1  371.8589  238.2076   11.634567\n",
       "2          2  757.0289  350.5063   15.115731\n",
       "3          3  190.9400  140.1613   13.697470\n",
       "4          4  663.1340  522.3010   14.227241"
      ]
     },
     "execution_count": 438,
     "metadata": {},
     "output_type": "execute_result"
    }
   ],
   "source": [
    "##Import the excel file \n",
    "truth_df = pd.read_csv('sensors.csv')\n",
    "truth_df.head()\n",
    "\n",
    "gateway_ids\n",
    "\n",
    "#get the ground truth values for the gateway ids of interest\n",
    "truth_df_filtered = truth_df[truth_df['sensor ID'].isin(gateway_ids)]\n",
    "truth_df_filtered.head()"
   ]
  },
  {
   "cell_type": "code",
   "execution_count": 439,
   "metadata": {},
   "outputs": [
    {
     "name": "stdout",
     "output_type": "stream",
     "text": [
      "[500.88478248 480.70238334 467.3191978  450.42051831 559.8955896\n",
      " 266.97419367 353.10862503 937.94934768 287.71059359 357.13510766\n",
      " 399.318443   437.7739866  482.04325375 286.0455173  409.09307286\n",
      " 481.34161196 213.85270487 217.20766582 225.62842278 254.91380439\n",
      " 186.71114864 300.51109141 274.32222939 299.72494789 301.86854476\n",
      " 295.54384458 241.16626988 370.94819758 344.06287924 323.86376926\n",
      " 368.52040651 401.03900499 649.3931879  386.18554012 337.95639409\n",
      " 359.69908788 399.05762173 186.24364307 796.99566878 372.43550633\n",
      " 526.1056056  414.3297827  380.74633105 429.06205646 418.38914767\n",
      " 342.00126719 352.811711   438.0515301   33.37909101 421.51361164\n",
      " 410.52512583 333.15380282 332.03543036 381.70401895 407.6871241\n",
      " 558.77988037 252.05510798 529.95698031 238.11174538 437.062473  ]\n"
     ]
    }
   ],
   "source": [
    "#get gateway_id position error \n",
    "\n",
    "error = np.zeros(60)\n",
    "for i in range(len(gateway_ids)):\n",
    "    gateway = gateway_ids[i]\n",
    "    truth_data = truth_df[truth_df['sensor ID'] == gateway]\n",
    "    x = truth_data['x (m)'].values\n",
    "    y = truth_data['y (m)'].values\n",
    "    \n",
    "    position_data = positions[positions['gateway_ids'] == gateway]\n",
    "    x_est = position_data['positions_x'].values\n",
    "    y_est = position_data['positions_y'].values\n",
    "    \n",
    "    error[i] = np.linalg.norm(np.array([x,y])-np.array([x_est,y_est]))\n",
    "    \n",
    "print(error)"
   ]
  },
  {
   "cell_type": "code",
   "execution_count": 440,
   "metadata": {},
   "outputs": [
    {
     "data": {
      "image/png": "[encoded data removed]",
      "text/plain": [
       "<Figure size 1296x720 with 1 Axes>"
      ]
     },
     "metadata": {
      "needs_background": "light"
     },
     "output_type": "display_data"
    }
   ],
   "source": [
    "from matplotlib import pyplot as plt\n",
    "plt.figure(figsize=(18, 10))\n",
    "plt.gca().set_aspect(\"equal\")\n",
    "plt.scatter(x1,y1,s=100,marker='o')\n",
    "plt.scatter(x2,y2,s=100,marker='o')\n",
    "plt.scatter(x3,y3,s=100,marker='o')\n",
    "plt.scatter(truth_df_filtered[\"x (m)\"], truth_df_filtered[\"y (m)\"])\n",
    "plt.scatter(positions['positions_x'], positions['positions_y'])\n",
    "plt.show()"
   ]
  },
  {
   "cell_type": "code",
   "execution_count": null,
   "metadata": {},
   "outputs": [],
   "source": [
    "#bring in other sensor traces \n",
    "#figure out your for loopin problem "
   ]
  },
  {
   "cell_type": "code",
   "execution_count": null,
   "metadata": {},
   "outputs": [],
   "source": [
    "#Unused function to check how many times gateways are next to each other and return average time \n",
    "def gateway_adjacent(gateway_x, gateway_y):\n",
    "    #print(gateway_x)\n",
    "    #print(gateway_y)\n",
    "    \n",
    "    count = 0\n",
    "    time = 0\n",
    "    size = backbone_sensor_df.shape[0]\n",
    "    #print(size)\n",
    "    for x in range(size):\n",
    "        if (backbone_sensor_df.iloc[x][0] == gateway_x):\n",
    "            #if it's the first index \n",
    "            if (x == 0):\n",
    "                if (backbone_sensor_df.iloc[x+1][0] == gateway_y):\n",
    "                    count += 1\n",
    "                    time += abs(backbone_sensor_df.iloc[x+1][1] - backbone_sensor_df.iloc[x][1])\n",
    "            \n",
    "            #if it's a last index\n",
    "            elif (x == size-1):\n",
    "                if (backbone_sensor_df.iloc[x-1][0] == gateway_y):\n",
    "                    count += 1\n",
    "                    time += abs(backbone_sensor_df.iloc[x-1][1] - backbone_sensor_df.iloc[x][1])\n",
    "            \n",
    "            else:\n",
    "                if (backbone_sensor_df.iloc[x+1][0] == gateway_y):\n",
    "                    count += 1\n",
    "                    time += abs(backbone_sensor_df.iloc[x+1][1] - backbone_sensor_df.iloc[x][1])\n",
    "                elif (backbone_sensor_df.iloc[x-1][0] == gateway_y):\n",
    "                    count += 1\n",
    "                    time += abs(backbone_sensor_df.iloc[x-1][1] - backbone_sensor_df.iloc[x][1])\n",
    "                    \n",
    "    if (count >= 1): \n",
    "        return time/count\n",
    "    else:\n",
    "        return 0"
   ]
  },
  {
   "cell_type": "code",
   "execution_count": null,
   "metadata": {},
   "outputs": [],
   "source": [
    "#filter to adjadent gateways with a time difference larger than 3 seconds\n",
    "\n",
    "#take this out? Can we just use the smol attack data directly\n",
    "\n",
    "#diff_sensor_df = sensor_df_smol.diff()\n",
    "#print(diff_sensor_df[40:60])\n",
    "#print(sensor_df_smol[40:60])\n",
    "#[diff_sensor_df['norm_secs (secs)'] > 5]\n",
    "\n",
    "#backbone_sensor_df = sensor_df_smol \n",
    "#backbone_sensor_df.head()"
   ]
  }
 ],
 "metadata": {
  "kernelspec": {
   "display_name": "Python 3",
   "language": "python",
   "name": "python3"
  },
  "language_info": {
   "codemirror_mode": {
    "name": "ipython",
    "version": 3
   },
   "file_extension": ".py",
   "mimetype": "text/x-python",
   "name": "python",
   "nbconvert_exporter": "python",
   "pygments_lexer": "ipython3",
   "version": "3.6.8"
  },
  "toc": {
   "base_numbering": 1,
   "nav_menu": {},
   "number_sections": true,
   "sideBar": true,
   "skip_h1_title": false,
   "title_cell": "Table of Contents",
   "title_sidebar": "Contents",
   "toc_cell": false,
   "toc_position": {},
   "toc_section_display": true,
   "toc_window_display": false
  }
 },
 "nbformat": 4,
 "nbformat_minor": 5
}
