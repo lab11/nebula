{
 "cells": [
  {
   "cell_type": "code",
   "execution_count": 1,
   "metadata": {},
   "outputs": [],
   "source": [
    "## Import the libraries.\n",
    "import glob\n",
    "import numpy as np\n",
    "import pandas as pd\n",
    "from tqdm import tqdm\n",
    "from matplotlib import pyplot as plt\n",
    "from scipy.optimize import least_squares"
   ]
  },
  {
   "cell_type": "code",
   "execution_count": 2,
   "metadata": {},
   "outputs": [],
   "source": [
    "# Globals\n",
    "TIME_TO_SPLIT = 600 # 10 minutes"
   ]
  },
  {
   "cell_type": "code",
   "execution_count": 3,
   "metadata": {},
   "outputs": [
    {
     "name": "stderr",
     "output_type": "stream",
     "text": [
      "5619it [01:14, 75.25it/s] \n"
     ]
    }
   ],
   "source": [
    "# Iterate through all traces and generate distance matrices.\n",
    "dist_diffs_list = []\n",
    "unscaled_diffs_list = []\n",
    "agg_speed = 0\n",
    "# sensor_df = pd.DataFrame()\n",
    "sensor_file_no = 0\n",
    "for sensor_path in tqdm(glob.iglob('../smol_sim/mules/*.csv')):\n",
    "    # Import the simulated mobile sensor connection metadata.\n",
    "#     print(\"Sensor path\")\n",
    "    sensor_df = pd.read_csv(sensor_path)    \n",
    "    # Calculate real-time seconds to avoid aggressive time-skips.\n",
    "    secs_per_day = 86400\n",
    "    sensor_df['time (secs)'] = (sensor_df['time (days)'] - sensor_df['time (days)'].iloc[0]) * secs_per_day\n",
    "    df_diff = sensor_df.diff()\n",
    "    new_sensor_start = np.array(df_diff[df_diff['time (secs)']>=TIME_TO_SPLIT].index)\n",
    "#     print(\"Num chops:\", len(new_sensor_start))\n",
    "    new_sensor_start =  np.insert(new_sensor_start, 0, 0, axis=0)\n",
    "    for x in range(0, len(new_sensor_start)-1):\n",
    "        _df = sensor_df.loc[new_sensor_start[x]:new_sensor_start[x+1]-1].reset_index()\n",
    "        file_no = str(sensor_file_no)\n",
    "#         print(\"sensor_file_no\", sensor_file_no)\n",
    "        sensor_file_no +=1\n",
    "        _df.to_csv(f'../smol_sim/chopped_mules/{file_no}.csv', index=False)\n",
    "    _df = sensor_df.loc[new_sensor_start[-1]:].reset_index()\n",
    "    file_no = str(sensor_file_no)\n",
    "#     print( \"sensor_file_no\", sensor_file_no)\n",
    "    sensor_file_no +=1    \n",
    "    _df.to_csv(f'../smol_sim/chopped_mules/{file_no}.csv', index=False)\n",
    "    \n",
    "    \n",
    "    "
   ]
  },
  {
   "cell_type": "code",
   "execution_count": 4,
   "metadata": {},
   "outputs": [
    {
     "data": {
      "text/html": [
       "<div>\n",
       "<style scoped>\n",
       "    .dataframe tbody tr th:only-of-type {\n",
       "        vertical-align: middle;\n",
       "    }\n",
       "\n",
       "    .dataframe tbody tr th {\n",
       "        vertical-align: top;\n",
       "    }\n",
       "\n",
       "    .dataframe thead th {\n",
       "        text-align: right;\n",
       "    }\n",
       "</style>\n",
       "<table border=\"1\" class=\"dataframe\">\n",
       "  <thead>\n",
       "    <tr style=\"text-align: right;\">\n",
       "      <th></th>\n",
       "      <th>index</th>\n",
       "      <th>sensor ID</th>\n",
       "      <th>norm_secs (secs)</th>\n",
       "      <th>time (days)</th>\n",
       "      <th>time (secs)</th>\n",
       "    </tr>\n",
       "  </thead>\n",
       "  <tbody>\n",
       "    <tr>\n",
       "      <td>0</td>\n",
       "      <td>45658</td>\n",
       "      <td>21</td>\n",
       "      <td>229528.556192</td>\n",
       "      <td>39951.014614</td>\n",
       "      <td>0.0</td>\n",
       "    </tr>\n",
       "  </tbody>\n",
       "</table>\n",
       "</div>"
      ],
      "text/plain": [
       "   index  sensor ID  norm_secs (secs)   time (days)  time (secs)\n",
       "0  45658         21     229528.556192  39951.014614          0.0"
      ]
     },
     "execution_count": 4,
     "metadata": {},
     "output_type": "execute_result"
    }
   ],
   "source": [
    "sensor_df"
   ]
  },
  {
   "cell_type": "code",
   "execution_count": 5,
   "metadata": {},
   "outputs": [],
   "source": [
    "# sensor_df['endpoint_id'].unique()"
   ]
  },
  {
   "cell_type": "code",
   "execution_count": 6,
   "metadata": {},
   "outputs": [],
   "source": [
    "df_diff = sensor_df.diff()\n",
    "df_new_sensor = pd.DataFrame()\n",
    "# df_new_sensor['new_sensor_start'] = df_diff[df_diff['time (secs)']>=10].index\n",
    "new_sensor_start = np.array(df_diff[df_diff['time (secs)']>=10].index)\n",
    "new_sensor_start = new_sensor_start - 1"
   ]
  },
  {
   "cell_type": "code",
   "execution_count": 7,
   "metadata": {},
   "outputs": [
    {
     "data": {
      "text/plain": [
       "array([0])"
      ]
     },
     "execution_count": 7,
     "metadata": {},
     "output_type": "execute_result"
    }
   ],
   "source": [
    "new_sensor_start =  np.insert(new_sensor_start, 0, 0, axis=0)\n",
    "new_sensor_start"
   ]
  },
  {
   "cell_type": "code",
   "execution_count": 8,
   "metadata": {},
   "outputs": [
    {
     "name": "stderr",
     "output_type": "stream",
     "text": [
      "0it [00:00, ?it/s]\n"
     ]
    }
   ],
   "source": [
    "\n",
    "for x in tqdm(range(0, len(new_sensor_start)-1)):\n",
    "    print(\"===>>><<<===\")\n",
    "    print(sensor_df.loc[new_sensor_start[x]:new_sensor_start[x+1]].reset_index())\n",
    "    \n",
    "    \n",
    "    "
   ]
  },
  {
   "cell_type": "code",
   "execution_count": 9,
   "metadata": {},
   "outputs": [
    {
     "data": {
      "text/plain": [
       "array([0])"
      ]
     },
     "execution_count": 9,
     "metadata": {},
     "output_type": "execute_result"
    }
   ],
   "source": [
    "np.flip(new_sensor_start)"
   ]
  },
  {
   "cell_type": "code",
   "execution_count": 10,
   "metadata": {},
   "outputs": [
    {
     "data": {
      "text/html": [
       "<div>\n",
       "<style scoped>\n",
       "    .dataframe tbody tr th:only-of-type {\n",
       "        vertical-align: middle;\n",
       "    }\n",
       "\n",
       "    .dataframe tbody tr th {\n",
       "        vertical-align: top;\n",
       "    }\n",
       "\n",
       "    .dataframe thead th {\n",
       "        text-align: right;\n",
       "    }\n",
       "</style>\n",
       "<table border=\"1\" class=\"dataframe\">\n",
       "  <thead>\n",
       "    <tr style=\"text-align: right;\">\n",
       "      <th></th>\n",
       "      <th>index</th>\n",
       "      <th>sensor ID</th>\n",
       "      <th>norm_secs (secs)</th>\n",
       "      <th>time (days)</th>\n",
       "      <th>time (secs)</th>\n",
       "    </tr>\n",
       "  </thead>\n",
       "  <tbody>\n",
       "    <tr>\n",
       "      <td>0</td>\n",
       "      <td>45658</td>\n",
       "      <td>21</td>\n",
       "      <td>229528.556192</td>\n",
       "      <td>39951.014614</td>\n",
       "      <td>0.0</td>\n",
       "    </tr>\n",
       "  </tbody>\n",
       "</table>\n",
       "</div>"
      ],
      "text/plain": [
       "   index  sensor ID  norm_secs (secs)   time (days)  time (secs)\n",
       "0  45658         21     229528.556192  39951.014614          0.0"
      ]
     },
     "execution_count": 10,
     "metadata": {},
     "output_type": "execute_result"
    }
   ],
   "source": [
    "sensor_df"
   ]
  },
  {
   "cell_type": "code",
   "execution_count": null,
   "metadata": {},
   "outputs": [],
   "source": []
  }
 ],
 "metadata": {
  "kernelspec": {
   "display_name": "Python 3",
   "language": "python",
   "name": "python3"
  },
  "language_info": {
   "codemirror_mode": {
    "name": "ipython",
    "version": 3
   },
   "file_extension": ".py",
   "mimetype": "text/x-python",
   "name": "python",
   "nbconvert_exporter": "python",
   "pygments_lexer": "ipython3",
   "version": "3.6.8"
  }
 },
 "nbformat": 4,
 "nbformat_minor": 2
}
