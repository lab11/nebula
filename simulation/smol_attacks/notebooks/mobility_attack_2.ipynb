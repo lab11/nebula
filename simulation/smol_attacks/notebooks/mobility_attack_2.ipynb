{
 "cells": [
  {
   "cell_type": "markdown",
   "metadata": {},
   "source": [
    "# Mobility Attack Numero Dos\n",
    "\n",
    "Given known locations of a few sensors (at least three), identify the locations of other sensors."
   ]
  },
  {
   "cell_type": "code",
   "execution_count": 42,
   "metadata": {},
   "outputs": [],
   "source": [
    "import numpy as np\n",
    "import pandas as pd\n",
    "from matplotlib import pyplot as plt\n",
    "from scipy.optimize import fsolve, least_squares \n",
    "from tqdm import tqdm"
   ]
  },
  {
   "cell_type": "code",
   "execution_count": 5,
   "metadata": {},
   "outputs": [
    {
     "data": {
      "text/html": [
       "<div>\n",
       "<style scoped>\n",
       "    .dataframe tbody tr th:only-of-type {\n",
       "        vertical-align: middle;\n",
       "    }\n",
       "\n",
       "    .dataframe tbody tr th {\n",
       "        vertical-align: top;\n",
       "    }\n",
       "\n",
       "    .dataframe thead th {\n",
       "        text-align: right;\n",
       "    }\n",
       "</style>\n",
       "<table border=\"1\" class=\"dataframe\">\n",
       "  <thead>\n",
       "    <tr style=\"text-align: right;\">\n",
       "      <th></th>\n",
       "      <th>sensor ID</th>\n",
       "      <th>norm_secs (secs)</th>\n",
       "      <th>time (days)</th>\n",
       "    </tr>\n",
       "  </thead>\n",
       "  <tbody>\n",
       "    <tr>\n",
       "      <th>0</th>\n",
       "      <td>15</td>\n",
       "      <td>11.200029</td>\n",
       "      <td>39423.442618</td>\n",
       "    </tr>\n",
       "    <tr>\n",
       "      <th>1</th>\n",
       "      <td>15</td>\n",
       "      <td>11.900031</td>\n",
       "      <td>39423.442626</td>\n",
       "    </tr>\n",
       "    <tr>\n",
       "      <th>2</th>\n",
       "      <td>15</td>\n",
       "      <td>12.600032</td>\n",
       "      <td>39423.442634</td>\n",
       "    </tr>\n",
       "    <tr>\n",
       "      <th>3</th>\n",
       "      <td>15</td>\n",
       "      <td>13.300034</td>\n",
       "      <td>39423.442642</td>\n",
       "    </tr>\n",
       "    <tr>\n",
       "      <th>4</th>\n",
       "      <td>15</td>\n",
       "      <td>14.000036</td>\n",
       "      <td>39423.442650</td>\n",
       "    </tr>\n",
       "  </tbody>\n",
       "</table>\n",
       "</div>"
      ],
      "text/plain": [
       "   sensor ID  norm_secs (secs)   time (days)\n",
       "0         15         11.200029  39423.442618\n",
       "1         15         11.900031  39423.442626\n",
       "2         15         12.600032  39423.442634\n",
       "3         15         13.300034  39423.442642\n",
       "4         15         14.000036  39423.442650"
      ]
     },
     "execution_count": 5,
     "metadata": {},
     "output_type": "execute_result"
    }
   ],
   "source": [
    "# Import the simulated sample data.\n",
    "sensor_df = pd.read_csv('../smol_sim/mules/062.csv')\n",
    "sensor_df.head()"
   ]
  },
  {
   "cell_type": "code",
   "execution_count": 7,
   "metadata": {},
   "outputs": [
    {
     "data": {
      "text/html": [
       "<div>\n",
       "<style scoped>\n",
       "    .dataframe tbody tr th:only-of-type {\n",
       "        vertical-align: middle;\n",
       "    }\n",
       "\n",
       "    .dataframe tbody tr th {\n",
       "        vertical-align: top;\n",
       "    }\n",
       "\n",
       "    .dataframe thead th {\n",
       "        text-align: right;\n",
       "    }\n",
       "</style>\n",
       "<table border=\"1\" class=\"dataframe\">\n",
       "  <thead>\n",
       "    <tr style=\"text-align: right;\">\n",
       "      <th></th>\n",
       "      <th>sensor ID</th>\n",
       "      <th>norm_secs (secs)</th>\n",
       "      <th>time (days)</th>\n",
       "      <th>time (secs)</th>\n",
       "    </tr>\n",
       "  </thead>\n",
       "  <tbody>\n",
       "    <tr>\n",
       "      <th>0</th>\n",
       "      <td>15</td>\n",
       "      <td>11.200029</td>\n",
       "      <td>39423.442618</td>\n",
       "      <td>0.000000</td>\n",
       "    </tr>\n",
       "    <tr>\n",
       "      <th>1</th>\n",
       "      <td>15</td>\n",
       "      <td>11.900031</td>\n",
       "      <td>39423.442626</td>\n",
       "      <td>0.700002</td>\n",
       "    </tr>\n",
       "    <tr>\n",
       "      <th>2</th>\n",
       "      <td>15</td>\n",
       "      <td>12.600032</td>\n",
       "      <td>39423.442634</td>\n",
       "      <td>1.400004</td>\n",
       "    </tr>\n",
       "    <tr>\n",
       "      <th>3</th>\n",
       "      <td>15</td>\n",
       "      <td>13.300034</td>\n",
       "      <td>39423.442642</td>\n",
       "      <td>2.100006</td>\n",
       "    </tr>\n",
       "    <tr>\n",
       "      <th>4</th>\n",
       "      <td>15</td>\n",
       "      <td>14.000036</td>\n",
       "      <td>39423.442650</td>\n",
       "      <td>2.800007</td>\n",
       "    </tr>\n",
       "  </tbody>\n",
       "</table>\n",
       "</div>"
      ],
      "text/plain": [
       "   sensor ID  norm_secs (secs)   time (days)  time (secs)\n",
       "0         15         11.200029  39423.442618     0.000000\n",
       "1         15         11.900031  39423.442626     0.700002\n",
       "2         15         12.600032  39423.442634     1.400004\n",
       "3         15         13.300034  39423.442642     2.100006\n",
       "4         15         14.000036  39423.442650     2.800007"
      ]
     },
     "execution_count": 7,
     "metadata": {},
     "output_type": "execute_result"
    }
   ],
   "source": [
    "# Calculate real time to avoid aggressive time-skips.\n",
    "secs_per_day = 86400\n",
    "sensor_df['time (secs)'] = (sensor_df['time (days)'] - sensor_df['time (days)'].iloc[0]) * secs_per_day\n",
    "sensor_df.head()"
   ]
  },
  {
   "cell_type": "code",
   "execution_count": 10,
   "metadata": {},
   "outputs": [
    {
     "name": "stdout",
     "output_type": "stream",
     "text": [
      "60\n"
     ]
    }
   ],
   "source": [
    "# Check how many sensors we actually see.\n",
    "num_sensors = sensor_df['sensor ID'].nunique()\n",
    "print(num_sensors)"
   ]
  },
  {
   "cell_type": "code",
   "execution_count": 9,
   "metadata": {},
   "outputs": [
    {
     "data": {
      "text/html": [
       "<div>\n",
       "<style scoped>\n",
       "    .dataframe tbody tr th:only-of-type {\n",
       "        vertical-align: middle;\n",
       "    }\n",
       "\n",
       "    .dataframe tbody tr th {\n",
       "        vertical-align: top;\n",
       "    }\n",
       "\n",
       "    .dataframe thead th {\n",
       "        text-align: right;\n",
       "    }\n",
       "</style>\n",
       "<table border=\"1\" class=\"dataframe\">\n",
       "  <thead>\n",
       "    <tr style=\"text-align: right;\">\n",
       "      <th></th>\n",
       "      <th>sensor ID</th>\n",
       "      <th>norm_secs (secs)</th>\n",
       "      <th>time (days)</th>\n",
       "      <th>time (secs)</th>\n",
       "    </tr>\n",
       "  </thead>\n",
       "  <tbody>\n",
       "    <tr>\n",
       "      <th>0</th>\n",
       "      <td>15</td>\n",
       "      <td>11.200029</td>\n",
       "      <td>39423.442618</td>\n",
       "      <td>0.000000</td>\n",
       "    </tr>\n",
       "    <tr>\n",
       "      <th>11</th>\n",
       "      <td>15</td>\n",
       "      <td>18.900049</td>\n",
       "      <td>39423.442707</td>\n",
       "      <td>7.700020</td>\n",
       "    </tr>\n",
       "    <tr>\n",
       "      <th>12</th>\n",
       "      <td>34</td>\n",
       "      <td>18.900049</td>\n",
       "      <td>39423.442707</td>\n",
       "      <td>7.700020</td>\n",
       "    </tr>\n",
       "    <tr>\n",
       "      <th>13</th>\n",
       "      <td>15</td>\n",
       "      <td>19.600050</td>\n",
       "      <td>39423.442715</td>\n",
       "      <td>8.400022</td>\n",
       "    </tr>\n",
       "    <tr>\n",
       "      <th>14</th>\n",
       "      <td>34</td>\n",
       "      <td>19.600050</td>\n",
       "      <td>39423.442715</td>\n",
       "      <td>8.400022</td>\n",
       "    </tr>\n",
       "  </tbody>\n",
       "</table>\n",
       "</div>"
      ],
      "text/plain": [
       "    sensor ID  norm_secs (secs)   time (days)  time (secs)\n",
       "0          15         11.200029  39423.442618     0.000000\n",
       "11         15         18.900049  39423.442707     7.700020\n",
       "12         34         18.900049  39423.442707     7.700020\n",
       "13         15         19.600050  39423.442715     8.400022\n",
       "14         34         19.600050  39423.442715     8.400022"
      ]
     },
     "execution_count": 9,
     "metadata": {},
     "output_type": "execute_result"
    }
   ],
   "source": [
    "# Subsample the time data to take samples that are wider apart in time.\n",
    "sample_period = 8\n",
    "smol_df = sensor_df.loc[(sensor_df['time (secs)'].round() % sample_period) == 0]\n",
    "smol_df.head()"
   ]
  },
  {
   "cell_type": "code",
   "execution_count": 33,
   "metadata": {},
   "outputs": [],
   "source": [
    "# Construct a matrix that has the time it takes to travel between sensors.\n",
    "time_diff_lists = [[[] for j in range(num_sensors)] for i in range(num_sensors)]\n",
    "\n",
    "cap_time = 5 * 60 # Do not consider relations between sensors further than 5 minutes apart.\n",
    "for i in range(len(smol_df)-1):\n",
    "    cur_sensor = int(smol_df['sensor ID'].iloc[i])\n",
    "    cur_time = smol_df['time (secs)'].iloc[i]\n",
    "\n",
    "    j = 1\n",
    "    next_sensor = int(smol_df['sensor ID'].iloc[i+j])\n",
    "    next_time = smol_df['time (secs)'].iloc[i+j]\n",
    "    time_diff = next_time - cur_time\n",
    "        \n",
    "    while time_diff < cap_time:\n",
    "        time_diff_lists[cur_sensor][next_sensor].append(time_diff)\n",
    "        time_diff_lists[next_sensor][cur_sensor].append(time_diff)\n",
    "        \n",
    "        j += 1\n",
    "        if i+j >= len(smol_df):\n",
    "            time_diff = cap_time\n",
    "        else:\n",
    "            next_sensor = int(smol_df['sensor ID'].iloc[i+j])\n",
    "            next_time = smol_df['time (secs)'].iloc[i+j]\n",
    "            time_diff = next_time - cur_time"
   ]
  },
  {
   "cell_type": "code",
   "execution_count": 34,
   "metadata": {},
   "outputs": [
    {
     "name": "stdout",
     "output_type": "stream",
     "text": [
      "60\n",
      "60\n"
     ]
    }
   ],
   "source": [
    "print(len(time_diff_lists))\n",
    "print(len(time_diff_lists[0]))"
   ]
  },
  {
   "cell_type": "code",
   "execution_count": 99,
   "metadata": {},
   "outputs": [],
   "source": [
    "ave_time_diffs = np.zeros((num_sensors, num_sensors))\n",
    "med_time_diffs = np.zeros((num_sensors, num_sensors))\n",
    "min_time_diffs = np.zeros((num_sensors, num_sensors))\n",
    "dec_time_diffs = np.zeros((num_sensors, num_sensors))\n",
    "\n",
    "for i in range(num_sensors):\n",
    "    for j in range(i, num_sensors):\n",
    "        times_list = time_diff_lists[i][j]\n",
    "        if len(times_list) > 0:\n",
    "            ave_time = sum(times_list) / len(times_list)\n",
    "            med_time = np.median(times_list)\n",
    "            min_time = np.min(times_list)\n",
    "            dec_time = np.percentile(times_list, 10)\n",
    "            \n",
    "            ave_time_diffs[[i,j], [j,i]] = ave_time\n",
    "            med_time_diffs[[i,j], [j,i]] = med_time\n",
    "            min_time_diffs[[i,j], [j,i]] = min_time\n",
    "            dec_time_diffs[[i,j], [j,i]] = dec_time\n",
    "        else:\n",
    "            ave_time_diffs[[i,j], [j,i]] = -1\n",
    "            med_time_diffs[[i,j], [j,i]] = -1\n",
    "            min_time_diffs[[i,j], [j,i]] = -1\n",
    "            dec_time_diffs[[i,j], [j,i]] = -1\n"
   ]
  },
  {
   "cell_type": "code",
   "execution_count": 85,
   "metadata": {},
   "outputs": [
    {
     "data": {
      "text/plain": [
       "array([[ 90.21882739, 246.05063339,  -1.        , ...,  -1.        ,\n",
       "         -1.        ,  -1.        ],\n",
       "       [246.05063339,  96.44366316, 121.87809153, ...,  -1.        ,\n",
       "         -1.        ,  -1.        ],\n",
       "       [ -1.        , 121.87809153, 105.30553475, ...,  -1.        ,\n",
       "         -1.        ,  -1.        ],\n",
       "       ...,\n",
       "       [ -1.        ,  -1.        ,  -1.        , ..., 132.672461  ,\n",
       "         -1.        ,  -1.        ],\n",
       "       [ -1.        ,  -1.        ,  -1.        , ...,  -1.        ,\n",
       "         25.27172478,  -1.        ],\n",
       "       [ -1.        ,  -1.        ,  -1.        , ...,  -1.        ,\n",
       "         -1.        ,  55.54899423]])"
      ]
     },
     "execution_count": 85,
     "metadata": {},
     "output_type": "execute_result"
    }
   ],
   "source": [
    "ave_time_diffs"
   ]
  },
  {
   "cell_type": "code",
   "execution_count": 86,
   "metadata": {},
   "outputs": [
    {
     "data": {
      "text/plain": [
       "array([[ 79.80020461, 232.05059742,  -1.        , ...,  -1.        ,\n",
       "         -1.        ,  -1.        ],\n",
       "       [232.05059742,  72.09687622, 120.40031003, ...,  -1.        ,\n",
       "         -1.        ,  -1.        ],\n",
       "       [ -1.        , 120.40031003,  47.53033777, ...,  -1.        ,\n",
       "         -1.        ,  -1.        ],\n",
       "       ...,\n",
       "       [ -1.        ,  -1.        ,  -1.        , ..., 119.88995774,\n",
       "         -1.        ,  -1.        ],\n",
       "       [ -1.        ,  -1.        ,  -1.        , ...,  -1.        ,\n",
       "         23.80006107,  -1.        ],\n",
       "       [ -1.        ,  -1.        ,  -1.        , ...,  -1.        ,\n",
       "         -1.        ,  32.68366243]])"
      ]
     },
     "execution_count": 86,
     "metadata": {},
     "output_type": "execute_result"
    }
   ],
   "source": [
    "med_time_diffs"
   ]
  },
  {
   "cell_type": "code",
   "execution_count": 93,
   "metadata": {},
   "outputs": [
    {
     "data": {
      "text/plain": [
       "array([[ 16.10004092, 226.3105826 ,  -1.        , ...,  -1.        ,\n",
       "         -1.        ,  -1.        ],\n",
       "       [226.3105826 ,  15.40003968, 112.56028982, ...,  -1.        ,\n",
       "         -1.        ,  -1.        ],\n",
       "       [ -1.        , 112.56028982,   7.92172265, ...,  -1.        ,\n",
       "         -1.        ,  -1.        ],\n",
       "       ...,\n",
       "       [ -1.        ,  -1.        ,  -1.        , ...,  24.59281194,\n",
       "         -1.        ,  -1.        ],\n",
       "       [ -1.        ,  -1.        ,  -1.        , ...,  -1.        ,\n",
       "          7.70001984,  -1.        ],\n",
       "       [ -1.        ,  -1.        ,  -1.        , ...,  -1.        ,\n",
       "         -1.        ,   7.70001984]])"
      ]
     },
     "execution_count": 93,
     "metadata": {},
     "output_type": "execute_result"
    }
   ],
   "source": [
    "dec_time_diffs"
   ]
  },
  {
   "cell_type": "code",
   "execution_count": 87,
   "metadata": {},
   "outputs": [
    {
     "data": {
      "text/plain": [
       "array([[  0.7000006 , 224.00057665,  -1.        , ...,  -1.        ,\n",
       "         -1.        ,  -1.        ],\n",
       "       [224.00057665,   0.7000006 , 112.00028833, ...,  -1.        ,\n",
       "         -1.        ,  -1.        ],\n",
       "       [ -1.        , 112.00028833,   0.70000186, ...,  -1.        ,\n",
       "         -1.        ,  -1.        ],\n",
       "       ...,\n",
       "       [ -1.        ,  -1.        ,  -1.        , ...,   0.70000123,\n",
       "         -1.        ,  -1.        ],\n",
       "       [ -1.        ,  -1.        ,  -1.        , ...,  -1.        ,\n",
       "          0.70000123,  -1.        ],\n",
       "       [ -1.        ,  -1.        ,  -1.        , ...,  -1.        ,\n",
       "         -1.        ,   0.70000123]])"
      ]
     },
     "execution_count": 87,
     "metadata": {},
     "output_type": "execute_result"
    }
   ],
   "source": [
    "min_time_diffs"
   ]
  },
  {
   "cell_type": "code",
   "execution_count": 44,
   "metadata": {},
   "outputs": [
    {
     "data": {
      "image/png": "[encoded data removed]",
      "text/plain": [
       "<Figure size 432x288 with 1 Axes>"
      ]
     },
     "metadata": {
      "needs_background": "light"
     },
     "output_type": "display_data"
    }
   ],
   "source": [
    "plt.title('Non-null distance estimations between gateways')\n",
    "plt.imshow(med_time_diffs != -1, interpolation='nearest')\n",
    "plt.show()"
   ]
  },
  {
   "cell_type": "code",
   "execution_count": 60,
   "metadata": {},
   "outputs": [],
   "source": [
    "known_ids = [21, 25, 47]"
   ]
  },
  {
   "cell_type": "code",
   "execution_count": 61,
   "metadata": {},
   "outputs": [
    {
     "data": {
      "image/png": "[encoded data removed]",
      "text/plain": [
       "<Figure size 432x288 with 1 Axes>"
      ]
     },
     "metadata": {
      "needs_background": "light"
     },
     "output_type": "display_data"
    }
   ],
   "source": [
    "plt.title('Non-null distance estimations near known gateways')\n",
    "plt.imshow((med_time_diffs != -1)[known_ids, :], interpolation='nearest')\n",
    "plt.show()"
   ]
  },
  {
   "cell_type": "code",
   "execution_count": 63,
   "metadata": {},
   "outputs": [
    {
     "name": "stdout",
     "output_type": "stream",
     "text": [
      "[[ 64.40016555 160.21285811 199.85051402]\n",
      " [160.21285811   8.4000217  223.9130218 ]\n",
      " [199.85051402 223.9130218   23.35692861]]\n"
     ]
    }
   ],
   "source": [
    "print(med_time_diffs[known_ids, :][:, known_ids])"
   ]
  },
  {
   "cell_type": "markdown",
   "metadata": {},
   "source": [
    "Cool, now that we have our relative sensors distances and selected three (kind of nice?) points for triangulation, we start to look at sensor ground truth data and see what we can do with that."
   ]
  },
  {
   "cell_type": "code",
   "execution_count": 65,
   "metadata": {},
   "outputs": [
    {
     "data": {
      "text/html": [
       "<div>\n",
       "<style scoped>\n",
       "    .dataframe tbody tr th:only-of-type {\n",
       "        vertical-align: middle;\n",
       "    }\n",
       "\n",
       "    .dataframe tbody tr th {\n",
       "        vertical-align: top;\n",
       "    }\n",
       "\n",
       "    .dataframe thead th {\n",
       "        text-align: right;\n",
       "    }\n",
       "</style>\n",
       "<table border=\"1\" class=\"dataframe\">\n",
       "  <thead>\n",
       "    <tr style=\"text-align: right;\">\n",
       "      <th></th>\n",
       "      <th>sensor ID</th>\n",
       "      <th>x (m)</th>\n",
       "      <th>y (m)</th>\n",
       "      <th>radius (m)</th>\n",
       "    </tr>\n",
       "  </thead>\n",
       "  <tbody>\n",
       "    <tr>\n",
       "      <th>0</th>\n",
       "      <td>0</td>\n",
       "      <td>231.2663</td>\n",
       "      <td>120.1813</td>\n",
       "      <td>11.131326</td>\n",
       "    </tr>\n",
       "    <tr>\n",
       "      <th>1</th>\n",
       "      <td>1</td>\n",
       "      <td>371.8589</td>\n",
       "      <td>238.2076</td>\n",
       "      <td>11.634567</td>\n",
       "    </tr>\n",
       "    <tr>\n",
       "      <th>2</th>\n",
       "      <td>2</td>\n",
       "      <td>757.0289</td>\n",
       "      <td>350.5063</td>\n",
       "      <td>15.115731</td>\n",
       "    </tr>\n",
       "    <tr>\n",
       "      <th>3</th>\n",
       "      <td>3</td>\n",
       "      <td>190.9400</td>\n",
       "      <td>140.1613</td>\n",
       "      <td>13.697470</td>\n",
       "    </tr>\n",
       "    <tr>\n",
       "      <th>4</th>\n",
       "      <td>4</td>\n",
       "      <td>663.1340</td>\n",
       "      <td>522.3010</td>\n",
       "      <td>14.227241</td>\n",
       "    </tr>\n",
       "  </tbody>\n",
       "</table>\n",
       "</div>"
      ],
      "text/plain": [
       "   sensor ID     x (m)     y (m)  radius (m)\n",
       "0          0  231.2663  120.1813   11.131326\n",
       "1          1  371.8589  238.2076   11.634567\n",
       "2          2  757.0289  350.5063   15.115731\n",
       "3          3  190.9400  140.1613   13.697470\n",
       "4          4  663.1340  522.3010   14.227241"
      ]
     },
     "execution_count": 65,
     "metadata": {},
     "output_type": "execute_result"
    }
   ],
   "source": [
    "# Import the ground truth data.\n",
    "truth_df = pd.read_csv('../smol_truth/sensors.csv')\n",
    "truth_df.head()"
   ]
  },
  {
   "cell_type": "code",
   "execution_count": 70,
   "metadata": {},
   "outputs": [],
   "source": [
    "true_dists = np.zeros((3, 3))\n",
    "for i in range(len(known_ids)):\n",
    "    for j in range(len(known_ids)):\n",
    "        dist = np.linalg.norm((truth_df[['x (m)', 'y (m)']].iloc[known_ids[i]] - truth_df[['x (m)', 'y (m)']].iloc[known_ids[j]]))\n",
    "        true_dists[[i,j], [j,i]] = dist"
   ]
  },
  {
   "cell_type": "code",
   "execution_count": 71,
   "metadata": {},
   "outputs": [
    {
     "data": {
      "text/plain": [
       "array([[  0.        , 300.82918682, 215.23071766],\n",
       "       [300.82918682,   0.        , 449.47345679],\n",
       "       [215.23071766, 449.47345679,   0.        ]])"
      ]
     },
     "execution_count": 71,
     "metadata": {},
     "output_type": "execute_result"
    }
   ],
   "source": [
    "true_dists"
   ]
  },
  {
   "cell_type": "code",
   "execution_count": 77,
   "metadata": {
    "scrolled": true
   },
   "outputs": [
    {
     "data": {
      "text/plain": [
       "array([[0.        , 1.78931278, 1.11928977],\n",
       "       [1.78931278, 0.        , 2.07113932],\n",
       "       [1.11928977, 2.07113932, 0.        ]])"
      ]
     },
     "execution_count": 77,
     "metadata": {},
     "output_type": "execute_result"
    }
   ],
   "source": [
    "np.divide(true_dists, ave_time_diffs[known_ids, :][:, known_ids])"
   ]
  },
  {
   "cell_type": "code",
   "execution_count": 76,
   "metadata": {},
   "outputs": [
    {
     "data": {
      "text/plain": [
       "array([[0.        , 1.87768442, 1.07695854],\n",
       "       [1.87768442, 0.        , 2.00735738],\n",
       "       [1.07695854, 2.00735738, 0.        ]])"
      ]
     },
     "execution_count": 76,
     "metadata": {},
     "output_type": "execute_result"
    }
   ],
   "source": [
    "np.divide(true_dists, med_time_diffs[known_ids, :][:, known_ids])"
   ]
  },
  {
   "cell_type": "code",
   "execution_count": 100,
   "metadata": {},
   "outputs": [
    {
     "data": {
      "text/plain": [
       "array([[0.        , 2.76592063, 3.41635182],\n",
       "       [2.76592063, 0.        , 2.81624249],\n",
       "       [3.41635182, 2.81624249, 0.        ]])"
      ]
     },
     "execution_count": 100,
     "metadata": {},
     "output_type": "execute_result"
    }
   ],
   "source": [
    "np.divide(true_dists, dec_time_diffs[known_ids, :][:, known_ids])"
   ]
  },
  {
   "cell_type": "code",
   "execution_count": 88,
   "metadata": {},
   "outputs": [
    {
     "data": {
      "text/plain": [
       "array([[0.        , 3.1368969 , 3.89204634],\n",
       "       [3.1368969 , 0.        , 2.95900131],\n",
       "       [3.89204634, 2.95900131, 0.        ]])"
      ]
     },
     "execution_count": 88,
     "metadata": {},
     "output_type": "execute_result"
    }
   ],
   "source": [
    "np.divide(true_dists, min_time_diffs[known_ids, :][:, known_ids])"
   ]
  },
  {
   "cell_type": "code",
   "execution_count": 108,
   "metadata": {},
   "outputs": [],
   "source": [
    "def get_ave_speed(speed_matrix):\n",
    "    m, n = speed_matrix.shape\n",
    "    if m != n :\n",
    "        print(\"would be cooler if the matrix was square\")\n",
    "        return -1\n",
    "    speeds = []\n",
    "    for i in range(m-1):\n",
    "        for j in range(i+1, n):\n",
    "            speeds.append(speed_matrix[i, j])\n",
    "    \n",
    "    print(speeds)\n",
    "    return np.mean(speeds)"
   ]
  },
  {
   "cell_type": "code",
   "execution_count": 112,
   "metadata": {},
   "outputs": [
    {
     "name": "stdout",
     "output_type": "stream",
     "text": [
      "[1.7893127800493531, 1.119289771771533, 2.0711393152932405]\n"
     ]
    },
    {
     "data": {
      "text/plain": [
       "1.659913955704709"
      ]
     },
     "execution_count": 112,
     "metadata": {},
     "output_type": "execute_result"
    }
   ],
   "source": [
    "get_ave_speed(np.divide(true_dists, ave_time_diffs[known_ids, :][:, known_ids]))"
   ]
  },
  {
   "cell_type": "code",
   "execution_count": 109,
   "metadata": {},
   "outputs": [
    {
     "name": "stdout",
     "output_type": "stream",
     "text": [
      "[1.8776844153712489, 1.076958539315376, 2.007357379986687]\n"
     ]
    },
    {
     "data": {
      "text/plain": [
       "1.6540001115577703"
      ]
     },
     "execution_count": 109,
     "metadata": {},
     "output_type": "execute_result"
    }
   ],
   "source": [
    "get_ave_speed(np.divide(true_dists, med_time_diffs[known_ids, :][:, known_ids]))"
   ]
  },
  {
   "cell_type": "code",
   "execution_count": 114,
   "metadata": {},
   "outputs": [
    {
     "name": "stdout",
     "output_type": "stream",
     "text": [
      "[2.765920631287047, 3.4163518222028, 2.816242486286258]\n",
      "2.999504979925369\n"
     ]
    }
   ],
   "source": [
    "dec_speed = get_ave_speed(np.divide(true_dists, dec_time_diffs[known_ids, :][:, known_ids]))\n",
    "print(dec_speed)"
   ]
  },
  {
   "cell_type": "code",
   "execution_count": 111,
   "metadata": {},
   "outputs": [
    {
     "name": "stdout",
     "output_type": "stream",
     "text": [
      "[3.1368968998844005, 3.8920463398014284, 2.959001310450001]\n"
     ]
    },
    {
     "data": {
      "text/plain": [
       "3.3293148500452765"
      ]
     },
     "execution_count": 111,
     "metadata": {},
     "output_type": "execute_result"
    }
   ],
   "source": [
    "get_ave_speed(np.divide(true_dists, min_time_diffs[known_ids, :][:, known_ids]))"
   ]
  },
  {
   "cell_type": "code",
   "execution_count": 107,
   "metadata": {},
   "outputs": [],
   "source": [
    "x, y = np.divide(true_dists, med_time_diffs[known_ids, :][:, known_ids]).shape"
   ]
  },
  {
   "cell_type": "code",
   "execution_count": 80,
   "metadata": {},
   "outputs": [
    {
     "name": "stdout",
     "output_type": "stream",
     "text": [
      "1.6540333333333332\n"
     ]
    }
   ],
   "source": [
    "ave_speed = np.mean([1.8777, 1.0770, 2.0074])\n",
    "print(ave_speed)"
   ]
  },
  {
   "cell_type": "markdown",
   "metadata": {},
   "source": [
    "Ok, so the distances between the known gateways are more scuffed than I thought they would be, but I guess we get an average speed of 1.654 m/s between the three known locations. That's about on-brand for everything else.\n",
    "\n",
    "Ah, after thinking about it a little, since we are doing direct paths, it would make more sense to take the shortest time between two points intead of the average or median time. I think minimum time is a little scuffed, so I take the 10th percentile time to use in our distance calculations instead. Average speed should work fine enough to convert from times to distances."
   ]
  },
  {
   "cell_type": "code",
   "execution_count": 116,
   "metadata": {},
   "outputs": [
    {
     "name": "stdout",
     "output_type": "stream",
     "text": [
      "[[ 48.29215291 678.81971953  -2.99950498 ...  -2.99950498  -2.99950498\n",
      "   -2.99950498]\n",
      " [678.81971953  46.19249572 337.62514984 ...  -2.99950498  -2.99950498\n",
      "   -2.99950498]\n",
      " [ -2.99950498 337.62514984  23.76124653 ...  -2.99950498  -2.99950498\n",
      "   -2.99950498]\n",
      " ...\n",
      " [ -2.99950498  -2.99950498  -2.99950498 ...  73.76626188  -2.99950498\n",
      "   -2.99950498]\n",
      " [ -2.99950498  -2.99950498  -2.99950498 ...  -2.99950498  23.09624786\n",
      "   -2.99950498]\n",
      " [ -2.99950498  -2.99950498  -2.99950498 ...  -2.99950498  -2.99950498\n",
      "   23.09624786]]\n"
     ]
    }
   ],
   "source": [
    "# Now we estimate our distance matrix\n",
    "dec_dist_diffs = dec_time_diffs * dec_speed\n",
    "print(dec_dist_diffs)"
   ]
  },
  {
   "cell_type": "markdown",
   "metadata": {},
   "source": [
    "Now we want to triangulate to find the next points. Here, I think I copy some of Tess's code."
   ]
  },
  {
   "cell_type": "code",
   "execution_count": 121,
   "metadata": {},
   "outputs": [
    {
     "name": "stdout",
     "output_type": "stream",
     "text": [
      "{21: array([670.0826, 296.305 ]), 25: array([724.8389, 592.1089]), 47: array([467.5076, 223.5889])}\n"
     ]
    }
   ],
   "source": [
    "# Construct our dictionary of \"known\" positions.\n",
    "known = dict()\n",
    "for known_id in known_ids:\n",
    "    known[known_id] = truth_df[['x (m)','y (m)']].iloc[known_id].to_numpy()\n",
    "\n",
    "print(known)"
   ]
  },
  {
   "cell_type": "code",
   "execution_count": 150,
   "metadata": {},
   "outputs": [],
   "source": [
    "# we will eventually use this thing I think.\n",
    "dec_dist_from_known = None\n",
    "dec_dist_from_guessed = None"
   ]
  },
  {
   "cell_type": "code",
   "execution_count": 149,
   "metadata": {},
   "outputs": [],
   "source": [
    "def dist_err(point):\n",
    "    errs = []\n",
    "    for known_id in known:\n",
    "        dec_dist = dec_dist_from_known[known_id]\n",
    "        if dec_dist > 0:\n",
    "            point_dist = np.linalg.norm(point - known[known_id])\n",
    "            errs.append(point_dist - dec_dist)\n",
    "    for guessed_id in guessed:\n",
    "        dec_dist = dec_dist_from_guessed[guessed_id]\n",
    "        if dec_dist > 0:\n",
    "            point_dist = np.linalg.norm(point - guessed[guessed_id])\n",
    "            errs.append(point_dist - dec_dist)\n",
    "    return np.array(errs)"
   ]
  },
  {
   "cell_type": "code",
   "execution_count": 137,
   "metadata": {},
   "outputs": [
    {
     "name": "stdout",
     "output_type": "stream",
     "text": [
      "Found three known points close to 1!\n",
      "Found three known points close to 2!\n",
      "Found three known points close to 22!\n",
      "Found three known points close to 24!\n",
      "Found three known points close to 26!\n",
      "Found three known points close to 30!\n",
      "Found three known points close to 33!\n",
      "Found three known points close to 37!\n",
      "Found three known points close to 44!\n",
      "Found three known points close to 46!\n",
      "Found three known points close to 52!\n"
     ]
    }
   ],
   "source": [
    "guessed = dict()\n",
    "losses = []\n",
    "for sensor_id in range(num_sensors):\n",
    "    if sensor_id in known:\n",
    "        continue\n",
    "    dec_dist_from_known = dict()\n",
    "    for known_id in known:\n",
    "        if dec_dist_diffs[sensor_id, known_id] > 0:\n",
    "            dec_dist_from_known[known_id] = dec_dist_diffs[sensor_id, known_id]\n",
    "    if len(dec_dist_from_known) >= 3:\n",
    "        print(\"Found three known points close to {}!\".format(sensor_id))\n",
    "        result = least_squares(dist_err, np.array([400,450]))\n",
    "        losses.append([sensor_id, result.cost])\n",
    "        guess_pos = result.x\n",
    "        guessed[sensor_id] = guess_pos"
   ]
  },
  {
   "cell_type": "code",
   "execution_count": 138,
   "metadata": {},
   "outputs": [
    {
     "data": {
      "text/plain": [
       "{1: array([160.89650944, 263.38316459]),\n",
       " 2: array([672.59853124, 386.41696475]),\n",
       " 22: array([502.1108603 , 227.58775407]),\n",
       " 24: array([294.42095942, 266.72940866]),\n",
       " 26: array([589.46745716, 368.34157771]),\n",
       " 30: array([540.94507682, 553.14321071]),\n",
       " 33: array([757.16341842, 269.11372819]),\n",
       " 37: array([814.65486919, 554.99468243]),\n",
       " 44: array([736.15615317, 490.42813884]),\n",
       " 46: array([135.02230798, 307.7000514 ]),\n",
       " 52: array([319.63129544, 604.49473434])}"
      ]
     },
     "execution_count": 138,
     "metadata": {},
     "output_type": "execute_result"
    }
   ],
   "source": [
    "guessed"
   ]
  },
  {
   "cell_type": "code",
   "execution_count": 139,
   "metadata": {},
   "outputs": [
    {
     "data": {
      "image/png": "[encoded data removed]",
      "text/plain": [
       "<Figure size 1296x720 with 1 Axes>"
      ]
     },
     "metadata": {
      "needs_background": "light"
     },
     "output_type": "display_data"
    }
   ],
   "source": [
    "# Plot out our results and see how good they are.\n",
    "plt.figure(figsize=(18,10))\n",
    "plt.title(\"Guessing sensor locations!\")\n",
    "plt.xlim([0, 800])\n",
    "plt.ylim([0, 950])\n",
    "plt.gca().set_aspect(\"equal\")\n",
    "\n",
    "ax = plt.gcf().gca()\n",
    "# Plot ground truth sensor positions.\n",
    "for index, row in truth_df.iterrows():\n",
    "    if index in guessed:\n",
    "        ax.add_patch(plt.Circle((row['x (m)'], row['y (m)']), row['radius (m)'], alpha = 0.4, color='g'))\n",
    "        plt.text(row['x (m)'], row['y (m)'], row['sensor ID'])\n",
    "# Plot known sensor locations.\n",
    "for index in known:\n",
    "    ax.add_patch(plt.Circle(known[index], 15, alpha = 0.8, color='k'))\n",
    "    plt.text(known[index][0], known[index][1], index)\n",
    "# Plot guessed sensor locations.\n",
    "for index in guessed:\n",
    "    ax.add_patch(plt.Circle(guessed[index], 15, alpha=0.4, color='r'))\n",
    "    plt.text(guessed[index][0], guessed[index][1], \"{}?\".format(index))\n",
    "\n",
    "plt.show()"
   ]
  },
  {
   "cell_type": "code",
   "execution_count": 140,
   "metadata": {},
   "outputs": [
    {
     "data": {
      "text/plain": [
       "[[1, 86330.5522289007],\n",
       " [2, 64.09627842432062],\n",
       " [22, 205.04379962480877],\n",
       " [24, 6696.5885507573485],\n",
       " [26, 5513.192007412637],\n",
       " [30, 3.311318674534923],\n",
       " [33, 464.47353807338925],\n",
       " [37, 7321.059475587601],\n",
       " [44, 153.5238944990029],\n",
       " [46, 18933.81656332878],\n",
       " [52, 134130.868517707]]"
      ]
     },
     "execution_count": 140,
     "metadata": {},
     "output_type": "execute_result"
    }
   ],
   "source": [
    "# Print out losses to see our \"confidence\" levels\n",
    "losses"
   ]
  },
  {
   "cell_type": "code",
   "execution_count": 147,
   "metadata": {},
   "outputs": [
    {
     "name": "stdout",
     "output_type": "stream",
     "text": [
      "Found three known points close to 1!\n",
      "Found three known points close to 2!\n",
      "Found three known points close to 22!\n",
      "Found three known points close to 24!\n",
      "Found three known points close to 26!\n",
      "Found three known points close to 30!\n",
      "Found three known points close to 33!\n",
      "Found three known points close to 37!\n",
      "Found three known points close to 44!\n",
      "Found three known points close to 46!\n",
      "Found three known points close to 52!\n"
     ]
    }
   ],
   "source": [
    "# Try again with different loss function?\n",
    "guessed = dict()\n",
    "for sensor_id in range(num_sensors):\n",
    "    if sensor_id in known:\n",
    "        continue\n",
    "    dec_dist_from_known = dict()\n",
    "    for known_id in known:\n",
    "        if dec_dist_diffs[sensor_id, known_id] > 0:\n",
    "            dec_dist_from_known[known_id] = dec_dist_diffs[sensor_id, known_id]\n",
    "    if len(dec_dist_from_known) >= 3:\n",
    "        print(\"Found three known points close to {}!\".format(sensor_id))\n",
    "        guess_pos = least_squares(dist_err, np.array([600,400]), loss='soft_l1').x\n",
    "        guessed[sensor_id] = guess_pos"
   ]
  },
  {
   "cell_type": "code",
   "execution_count": 148,
   "metadata": {},
   "outputs": [
    {
     "data": {
      "image/png": "[encoded data removed]",
      "text/plain": [
       "<Figure size 1296x720 with 1 Axes>"
      ]
     },
     "metadata": {
      "needs_background": "light"
     },
     "output_type": "display_data"
    }
   ],
   "source": [
    "# Plot out our results and see how good they are.\n",
    "plt.figure(figsize=(18,10))\n",
    "plt.title(\"Guessing sensor locations!\")\n",
    "plt.xlim([0, 800])\n",
    "plt.ylim([0, 950])\n",
    "plt.gca().set_aspect(\"equal\")\n",
    "\n",
    "ax = plt.gcf().gca()\n",
    "# Plot ground truth sensor positions.\n",
    "for index, row in truth_df.iterrows():\n",
    "    if index in guessed:\n",
    "        ax.add_patch(plt.Circle((row['x (m)'], row['y (m)']), row['radius (m)'], alpha = 0.4, color='g'))\n",
    "        plt.text(row['x (m)'], row['y (m)'], row['sensor ID'])\n",
    "# Plot known sensor locations.\n",
    "for index in known:\n",
    "    ax.add_patch(plt.Circle(known[index], 15, alpha = 0.8, color='k'))\n",
    "    plt.text(known[index][0], known[index][1], index)\n",
    "# Plot guessed sensor locations.\n",
    "for index in guessed:\n",
    "    ax.add_patch(plt.Circle(guessed[index], 15, alpha=0.4, color='r'))\n",
    "    plt.text(guessed[index][0], guessed[index][1], \"{}?\".format(index))\n",
    "\n",
    "plt.show()"
   ]
  },
  {
   "cell_type": "code",
   "execution_count": 145,
   "metadata": {},
   "outputs": [
    {
     "name": "stdout",
     "output_type": "stream",
     "text": [
      "Found three known points close to 1!\n",
      "Found three known points close to 2!\n",
      "Found three known points close to 22!\n",
      "Found three known points close to 24!\n",
      "Found three known points close to 26!\n",
      "Found three known points close to 30!\n",
      "Found three known points close to 33!\n",
      "Found three known points close to 37!\n",
      "Found three known points close to 44!\n",
      "Found three known points close to 46!\n",
      "Found three known points close to 52!\n"
     ]
    }
   ],
   "source": [
    "# Try again with different loss function?\n",
    "guessed = dict()\n",
    "for sensor_id in range(num_sensors):\n",
    "    if sensor_id in known:\n",
    "        continue\n",
    "    dec_dist_from_known = dict()\n",
    "    for known_id in known:\n",
    "        if dec_dist_diffs[sensor_id, known_id] > 0:\n",
    "            dec_dist_from_known[known_id] = dec_dist_diffs[sensor_id, known_id]\n",
    "    if len(dec_dist_from_known) >= 3:\n",
    "        print(\"Found three known points close to {}!\".format(sensor_id))\n",
    "        guess_pos = least_squares(dist_err, np.array([600,400]), loss='cauchy').x\n",
    "        guessed[sensor_id] = guess_pos"
   ]
  },
  {
   "cell_type": "code",
   "execution_count": 146,
   "metadata": {},
   "outputs": [
    {
     "data": {
      "image/png": "[encoded data removed]",
      "text/plain": [
       "<Figure size 1296x720 with 1 Axes>"
      ]
     },
     "metadata": {
      "needs_background": "light"
     },
     "output_type": "display_data"
    }
   ],
   "source": [
    "# Plot out our results and see how good they are.\n",
    "plt.figure(figsize=(18,10))\n",
    "plt.title(\"Guessing sensor locations!\")\n",
    "plt.xlim([0, 800])\n",
    "plt.ylim([0, 950])\n",
    "plt.gca().set_aspect(\"equal\")\n",
    "\n",
    "ax = plt.gcf().gca()\n",
    "# Plot ground truth sensor positions.\n",
    "for index, row in truth_df.iterrows():\n",
    "    if index in guessed:\n",
    "        ax.add_patch(plt.Circle((row['x (m)'], row['y (m)']), row['radius (m)'], alpha = 0.4, color='g'))\n",
    "        plt.text(row['x (m)'], row['y (m)'], row['sensor ID'])\n",
    "# Plot known sensor locations.\n",
    "for index in known:\n",
    "    ax.add_patch(plt.Circle(known[index], 15, alpha = 0.8, color='k'))\n",
    "    plt.text(known[index][0], known[index][1], index)\n",
    "# Plot guessed sensor locations.\n",
    "for index in guessed:\n",
    "    ax.add_patch(plt.Circle(guessed[index], 15, alpha=0.4, color='r'))\n",
    "    plt.text(guessed[index][0], guessed[index][1], \"{}?\".format(index))\n",
    "\n",
    "plt.show()"
   ]
  },
  {
   "cell_type": "markdown",
   "metadata": {},
   "source": [
    "Ok, it seems like the code is somewhat functional. I want to see if we can iterate this a couple times with the new guesses to get them closer to each other?"
   ]
  },
  {
   "cell_type": "code",
   "execution_count": 163,
   "metadata": {},
   "outputs": [
    {
     "name": "stdout",
     "output_type": "stream",
     "text": [
      "1 is close to guessed points [2, 22, 24, 26, 30, 37, 44, 46]!\n",
      "2 is close to guessed points [1, 22, 24, 26, 30, 33, 37, 44, 46, 52]!\n",
      "22 is close to guessed points [1, 2, 24, 26, 30, 33, 44, 46, 52]!\n",
      "24 is close to guessed points [1, 2, 22, 26, 33, 37, 44, 46]!\n",
      "26 is close to guessed points [1, 2, 22, 24, 30, 33, 37, 44, 46, 52]!\n",
      "30 is close to guessed points [1, 2, 22, 26, 33, 37, 44, 52]!\n",
      "33 is close to guessed points [2, 22, 24, 26, 30, 37, 44, 46, 52]!\n",
      "37 is close to guessed points [1, 2, 24, 26, 30, 33, 44, 46, 52]!\n",
      "44 is close to guessed points [1, 2, 22, 24, 26, 30, 33, 37, 46, 52]!\n",
      "46 is close to guessed points [1, 2, 22, 24, 26, 33, 37, 44]!\n",
      "52 is close to guessed points [2, 22, 26, 30, 33, 37, 44]!\n"
     ]
    }
   ],
   "source": [
    "for sensor_id in guessed:\n",
    "    dec_dist_from_known = dict()\n",
    "    dec_dist_from_guessed = dict()\n",
    "    close_guesses = []\n",
    "    for known_id in known:\n",
    "        dec_dist_from_known[known_id] = dec_dist_diffs[sensor_id, known_id]\n",
    "    for guessed_id in guessed:\n",
    "        if sensor_id == guessed_id:\n",
    "            dec_dist_from_guessed[guessed_id] = -1\n",
    "        else:\n",
    "            dec_dist_from_guessed[guessed_id] = dec_dist_diffs[sensor_id, guessed_id]\n",
    "            if dec_dist_diffs[sensor_id, guessed_id] > 0:\n",
    "                close_guesses.append(guessed_id)\n",
    "    \n",
    "    print(\"{} is close to guessed points {}!\".format(sensor_id, close_guesses))\n",
    "    guess_pos = least_squares(dist_err, guessed[sensor_id], loss='soft_l1').x\n",
    "    guessed[sensor_id] = guess_pos"
   ]
  },
  {
   "cell_type": "code",
   "execution_count": 164,
   "metadata": {},
   "outputs": [
    {
     "data": {
      "image/png": "[encoded data removed]",
      "text/plain": [
       "<Figure size 1296x720 with 1 Axes>"
      ]
     },
     "metadata": {
      "needs_background": "light"
     },
     "output_type": "display_data"
    }
   ],
   "source": [
    "# Plot out our results and see how good they are.\n",
    "plt.figure(figsize=(18,10))\n",
    "plt.title(\"Guessing sensor locations!\")\n",
    "plt.xlim([0, 800])\n",
    "plt.ylim([0, 950])\n",
    "plt.gca().set_aspect(\"equal\")\n",
    "\n",
    "ax = plt.gcf().gca()\n",
    "# Plot ground truth sensor positions.\n",
    "for index, row in truth_df.iterrows():\n",
    "    if index in guessed:\n",
    "        ax.add_patch(plt.Circle((row['x (m)'], row['y (m)']), row['radius (m)'], alpha = 0.4, color='g'))\n",
    "        plt.text(row['x (m)'], row['y (m)'], row['sensor ID'])\n",
    "# Plot known sensor locations.\n",
    "for index in known:\n",
    "    ax.add_patch(plt.Circle(known[index], 15, alpha = 0.8, color='k'))\n",
    "    plt.text(known[index][0], known[index][1], index)\n",
    "# Plot guessed sensor locations.\n",
    "for index in guessed:\n",
    "    ax.add_patch(plt.Circle(guessed[index], 15, alpha=0.4, color='r'))\n",
    "    plt.text(guessed[index][0], guessed[index][1], \"{}?\".format(index))\n",
    "\n",
    "plt.show()"
   ]
  },
  {
   "cell_type": "code",
   "execution_count": 176,
   "metadata": {},
   "outputs": [
    {
     "name": "stdout",
     "output_type": "stream",
     "text": [
      "1 is close to guessed points [2, 22, 24, 26, 30, 37, 44, 46]!\n",
      "2 is close to guessed points [1, 22, 24, 26, 30, 33, 37, 44, 46, 52]!\n",
      "22 is close to guessed points [1, 2, 24, 26, 30, 33, 44, 46, 52]!\n",
      "24 is close to guessed points [1, 2, 22, 26, 33, 37, 44, 46]!\n",
      "26 is close to guessed points [1, 2, 22, 24, 30, 33, 37, 44, 46, 52]!\n",
      "30 is close to guessed points [1, 2, 22, 26, 33, 37, 44, 52]!\n",
      "33 is close to guessed points [2, 22, 24, 26, 30, 37, 44, 46, 52]!\n",
      "37 is close to guessed points [1, 2, 24, 26, 30, 33, 44, 46, 52]!\n",
      "44 is close to guessed points [1, 2, 22, 24, 26, 30, 33, 37, 46, 52]!\n",
      "46 is close to guessed points [1, 2, 22, 24, 26, 33, 37, 44]!\n",
      "52 is close to guessed points [2, 22, 26, 30, 33, 37, 44]!\n"
     ]
    }
   ],
   "source": [
    "# Maybe try it with another loss?\n",
    "for sensor_id in guessed:\n",
    "    dec_dist_from_known = dict()\n",
    "    dec_dist_from_guessed = dict()\n",
    "    close_guesses = []\n",
    "    for known_id in known:\n",
    "        dec_dist_from_known[known_id] = dec_dist_diffs[sensor_id, known_id]\n",
    "    for guessed_id in guessed:\n",
    "        if sensor_id == guessed_id:\n",
    "            dec_dist_from_guessed[guessed_id] = -1\n",
    "        else:\n",
    "            dec_dist_from_guessed[guessed_id] = dec_dist_diffs[sensor_id, guessed_id]\n",
    "            if dec_dist_diffs[sensor_id, guessed_id] > 0:\n",
    "                close_guesses.append(guessed_id)\n",
    "    \n",
    "    print(\"{} is close to guessed points {}!\".format(sensor_id, close_guesses))\n",
    "    guess_pos = least_squares(dist_err, guessed[sensor_id], loss='linear').x\n",
    "    guessed[sensor_id] = guess_pos"
   ]
  },
  {
   "cell_type": "code",
   "execution_count": 177,
   "metadata": {},
   "outputs": [
    {
     "data": {
      "image/png": "[encoded data removed]",
      "text/plain": [
       "<Figure size 1296x720 with 1 Axes>"
      ]
     },
     "metadata": {
      "needs_background": "light"
     },
     "output_type": "display_data"
    }
   ],
   "source": [
    "# Plot out our results and see how good they are.\n",
    "plt.figure(figsize=(18,10))\n",
    "plt.title(\"Guessing sensor locations!\")\n",
    "plt.xlim([0, 800])\n",
    "plt.ylim([0, 950])\n",
    "plt.gca().set_aspect(\"equal\")\n",
    "\n",
    "ax = plt.gcf().gca()\n",
    "# Plot ground truth sensor positions.\n",
    "for index, row in truth_df.iterrows():\n",
    "    if index in guessed:\n",
    "        ax.add_patch(plt.Circle((row['x (m)'], row['y (m)']), row['radius (m)'], alpha = 0.4, color='g'))\n",
    "        plt.text(row['x (m)'], row['y (m)'], row['sensor ID'])\n",
    "# Plot known sensor locations.\n",
    "for index in known:\n",
    "    ax.add_patch(plt.Circle(known[index], 15, alpha = 0.8, color='k'))\n",
    "    plt.text(known[index][0], known[index][1], index)\n",
    "# Plot guessed sensor locations.\n",
    "for index in guessed:\n",
    "    ax.add_patch(plt.Circle(guessed[index], 15, alpha=0.4, color='r'))\n",
    "    plt.text(guessed[index][0], guessed[index][1], \"{}?\".format(index))\n",
    "\n",
    "plt.show()"
   ]
  },
  {
   "cell_type": "code",
   "execution_count": null,
   "metadata": {},
   "outputs": [],
   "source": []
  },
  {
   "cell_type": "code",
   "execution_count": 381,
   "metadata": {},
   "outputs": [],
   "source": [
    "#function to check total time between gateways and returns average time\n",
    "def gateway_total(gateway_x, gateway_y):\n",
    "    count = 0\n",
    "    time = 0\n",
    "    size = backbone_sensor_df.shape[0]\n",
    "    matrix = backbone_sensor_df.values\n",
    "    \n",
    "    hops = 3\n",
    "    #TOD0: if the hops get too large we go out of range on the otherside. Fix this later\n",
    "    \n",
    "    for x in range(size):\n",
    "        if (matrix[x][0] == gateway_x):\n",
    "            #if it's the first indexes \n",
    "            if (x <= hops):\n",
    "                for i in range(hops):\n",
    "                    if (matrix[x+i][0] == gateway_y):\n",
    "                        count += 1\n",
    "                        time += abs(matrix[x+i][1] - matrix[x][1])\n",
    "            \n",
    "            #if it's in the last 5 index\n",
    "            elif (x > size-hops):\n",
    "                for i in range(hops):\n",
    "                    if (matrix[x-i][0] == gateway_y):\n",
    "                        count += 1\n",
    "                        time += abs(matrix[x-i][1] - matrix[x][1])\n",
    "            else:\n",
    "                for i in range(hops):\n",
    "                    #print(i)\n",
    "                    #print(backbone_sensor_df.iloc[x+i][0])\n",
    "                    #print(gateway_y)\n",
    "                    if (matrix[x+i][0] == gateway_y):\n",
    "                        count += 1\n",
    "                        time += abs(matrix[x+i][1] - matrix[x][1])\n",
    "                        #print('adding')\n",
    "                    elif (matrix[x-i][0] == gateway_y):\n",
    "                        count += 1\n",
    "                        time += abs(matrix[x-i][1] - matrix[x][1])\n",
    "                        #print('adding')\n",
    "                       \n",
    "                    \n",
    "    if (count >= 1): \n",
    "        #print(count)\n",
    "        return time/count\n",
    "    else:\n",
    "        return 0\n",
    "        \n"
   ]
  },
  {
   "cell_type": "code",
   "execution_count": 382,
   "metadata": {},
   "outputs": [
    {
     "name": "stderr",
     "output_type": "stream",
     "text": [
      "100%|██████████| 60/60 [00:58<00:00,  1.02it/s]\n"
     ]
    },
    {
     "data": {
      "text/plain": [
       "array([[  2.24632004,   6.94112363, 164.96709107, ...,   0.        ,\n",
       "          0.        ,   0.        ],\n",
       "       [  6.60267399,   0.68333927,  48.44846901, ...,   0.        ,\n",
       "         53.90013867,   0.        ],\n",
       "       [164.96709107,  47.9981627 ,   1.30367065, ...,   0.        ,\n",
       "          0.        ,   0.        ],\n",
       "       ...,\n",
       "       [  0.        ,   0.        ,   0.        , ...,  13.31798298,\n",
       "          0.        ,   0.        ],\n",
       "       [  0.        ,  53.90013867,   0.        , ...,   0.        ,\n",
       "          0.69400179,   0.        ],\n",
       "       [  0.        ,   0.        ,   0.        , ...,   0.        ,\n",
       "          0.        ,   6.77548913]])"
      ]
     },
     "execution_count": 382,
     "metadata": {},
     "output_type": "execute_result"
    }
   ],
   "source": [
    "#set up a matrix of time between adjacent gateways, this is a proxy for distance\n",
    "num_gates = backbone_sensor_df['sensor ID'].nunique()\n",
    "time_pairs = np.zeros((num_gates,num_gates))\n",
    "gateway_ids = backbone_sensor_df['sensor ID'].drop_duplicates().values\n",
    "\n",
    "for x in tqdm(range(num_gates)):\n",
    "    #times = []\n",
    "    for y in range(num_gates):\n",
    "        #find how many times x gateway is adjacent to y gateway \n",
    "        gateway_id_x = gateway_ids[y]\n",
    "        gateway_id_y = gateway_ids[x]\n",
    "        average = gateway_total(gateway_id_x,gateway_id_y)\n",
    "\n",
    "        #add to time_pairs[x][y]\n",
    "        time_pairs[x][y] = average\n",
    "        \n",
    "        \n",
    "time_pairs"
   ]
  },
  {
   "cell_type": "code",
   "execution_count": 368,
   "metadata": {},
   "outputs": [],
   "source": [
    "#get the average velocity from the ground truth data \n",
    "avg_vel = 2 #m/s"
   ]
  },
  {
   "cell_type": "code",
   "execution_count": 370,
   "metadata": {},
   "outputs": [
    {
     "name": "stdout",
     "output_type": "stream",
     "text": [
      "(60, 60)\n"
     ]
    }
   ],
   "source": [
    "#calculate the distance matrix from the average time and average velocity \n",
    "distance = avg_vel*time_pairs\n",
    "distance\n",
    "print(distance.shape)"
   ]
  },
  {
   "cell_type": "code",
   "execution_count": 371,
   "metadata": {},
   "outputs": [],
   "source": [
    "#pick three gateways to triangulate from ground truth\n",
    "gateway_a = [231.2663,120.1813]\n",
    "gateway_b = [197.9663,793.9513]\n",
    "gateway_c = [757.0289,350.5063]\n",
    "\n",
    "x1 = gateway_a[0]\n",
    "y1 = gateway_a[1]\n",
    "\n",
    "x2 = gateway_b[0]\n",
    "y2 = gateway_b[1]\n",
    "\n",
    "x3 = gateway_c[0]\n",
    "y3 = gateway_c[1]\n",
    "\n"
   ]
  },
  {
   "cell_type": "code",
   "execution_count": 388,
   "metadata": {},
   "outputs": [],
   "source": [
    "#function to return the distance error between points\n",
    "def distance_err(point):\n",
    "    x = point[0]\n",
    "    y = point[1]\n",
    "    error1 = np.abs(np.linalg.norm(np.array([x,y])-np.array([x1,y1])) - d1)**2\n",
    "    error2 = np.abs(np.linalg.norm(np.array([x,y])-np.array([x2,y2])) - d2)**2\n",
    "    error3 = np.abs(np.linalg.norm(np.array([x,y])-np.array([x3,y3])) - d3)**2\n",
    "    error_total = error1 + error2 + error3\n",
    "    \n",
    "    return error_total \n",
    "\n",
    "#Example use of \n",
    "#least_squares(fun,[16000,25000])"
   ]
  },
  {
   "cell_type": "code",
   "execution_count": 389,
   "metadata": {},
   "outputs": [
    {
     "data": {
      "text/html": [
       "<div>\n",
       "<style scoped>\n",
       "    .dataframe tbody tr th:only-of-type {\n",
       "        vertical-align: middle;\n",
       "    }\n",
       "\n",
       "    .dataframe tbody tr th {\n",
       "        vertical-align: top;\n",
       "    }\n",
       "\n",
       "    .dataframe thead th {\n",
       "        text-align: right;\n",
       "    }\n",
       "</style>\n",
       "<table border=\"1\" class=\"dataframe\">\n",
       "  <thead>\n",
       "    <tr style=\"text-align: right;\">\n",
       "      <th></th>\n",
       "      <th>gateway_ids</th>\n",
       "      <th>positions_x</th>\n",
       "      <th>positions_y</th>\n",
       "    </tr>\n",
       "  </thead>\n",
       "  <tbody>\n",
       "    <tr>\n",
       "      <th>0</th>\n",
       "      <td>15</td>\n",
       "      <td>288.766748</td>\n",
       "      <td>438.947391</td>\n",
       "    </tr>\n",
       "    <tr>\n",
       "      <th>1</th>\n",
       "      <td>34</td>\n",
       "      <td>365.726884</td>\n",
       "      <td>431.743723</td>\n",
       "    </tr>\n",
       "    <tr>\n",
       "      <th>2</th>\n",
       "      <td>19</td>\n",
       "      <td>477.195367</td>\n",
       "      <td>489.940492</td>\n",
       "    </tr>\n",
       "    <tr>\n",
       "      <th>3</th>\n",
       "      <td>49</td>\n",
       "      <td>468.446493</td>\n",
       "      <td>436.936218</td>\n",
       "    </tr>\n",
       "    <tr>\n",
       "      <th>4</th>\n",
       "      <td>9</td>\n",
       "      <td>273.577663</td>\n",
       "      <td>687.215509</td>\n",
       "    </tr>\n",
       "  </tbody>\n",
       "</table>\n",
       "</div>"
      ],
      "text/plain": [
       "   gateway_ids  positions_x  positions_y\n",
       "0           15   288.766748   438.947391\n",
       "1           34   365.726884   431.743723\n",
       "2           19   477.195367   489.940492\n",
       "3           49   468.446493   436.936218\n",
       "4            9   273.577663   687.215509"
      ]
     },
     "execution_count": 389,
     "metadata": {},
     "output_type": "execute_result"
    }
   ],
   "source": [
    "#for each gateway get the location \n",
    "positions_x = []\n",
    "positions_y = []\n",
    "\n",
    "#loop through gateways \n",
    "for i in range(len(gateway_ids)):\n",
    "    gateway = gateway_ids[i]\n",
    "    d1 = distance[i][0]\n",
    "    d2 = distance[i][1]\n",
    "    d3 = distance[i][2]\n",
    "    \n",
    "    positions_x.append(least_squares(distance_err,[400,400]).x[0])\n",
    "    positions_y.append(least_squares(distance_err,[400,400]).x[1])\n",
    "\n",
    "zipped = list(zip(gateway_ids,positions_x,positions_y))\n",
    "positions = pd.DataFrame(zipped, columns = ['gateway_ids','positions_x','positions_y'])\n",
    "positions.head()"
   ]
  },
  {
   "cell_type": "code",
   "execution_count": 390,
   "metadata": {},
   "outputs": [
    {
     "data": {
      "text/html": [
       "<div>\n",
       "<style scoped>\n",
       "    .dataframe tbody tr th:only-of-type {\n",
       "        vertical-align: middle;\n",
       "    }\n",
       "\n",
       "    .dataframe tbody tr th {\n",
       "        vertical-align: top;\n",
       "    }\n",
       "\n",
       "    .dataframe thead th {\n",
       "        text-align: right;\n",
       "    }\n",
       "</style>\n",
       "<table border=\"1\" class=\"dataframe\">\n",
       "  <thead>\n",
       "    <tr style=\"text-align: right;\">\n",
       "      <th></th>\n",
       "      <th>sensor ID</th>\n",
       "      <th>x (m)</th>\n",
       "      <th>y (m)</th>\n",
       "      <th>radius (m)</th>\n",
       "    </tr>\n",
       "  </thead>\n",
       "  <tbody>\n",
       "    <tr>\n",
       "      <th>0</th>\n",
       "      <td>0</td>\n",
       "      <td>231.2663</td>\n",
       "      <td>120.1813</td>\n",
       "      <td>11.131326</td>\n",
       "    </tr>\n",
       "    <tr>\n",
       "      <th>1</th>\n",
       "      <td>1</td>\n",
       "      <td>371.8589</td>\n",
       "      <td>238.2076</td>\n",
       "      <td>11.634567</td>\n",
       "    </tr>\n",
       "    <tr>\n",
       "      <th>2</th>\n",
       "      <td>2</td>\n",
       "      <td>757.0289</td>\n",
       "      <td>350.5063</td>\n",
       "      <td>15.115731</td>\n",
       "    </tr>\n",
       "    <tr>\n",
       "      <th>3</th>\n",
       "      <td>3</td>\n",
       "      <td>190.9400</td>\n",
       "      <td>140.1613</td>\n",
       "      <td>13.697470</td>\n",
       "    </tr>\n",
       "    <tr>\n",
       "      <th>4</th>\n",
       "      <td>4</td>\n",
       "      <td>663.1340</td>\n",
       "      <td>522.3010</td>\n",
       "      <td>14.227241</td>\n",
       "    </tr>\n",
       "  </tbody>\n",
       "</table>\n",
       "</div>"
      ],
      "text/plain": [
       "   sensor ID     x (m)     y (m)  radius (m)\n",
       "0          0  231.2663  120.1813   11.131326\n",
       "1          1  371.8589  238.2076   11.634567\n",
       "2          2  757.0289  350.5063   15.115731\n",
       "3          3  190.9400  140.1613   13.697470\n",
       "4          4  663.1340  522.3010   14.227241"
      ]
     },
     "execution_count": 390,
     "metadata": {},
     "output_type": "execute_result"
    }
   ],
   "source": [
    "##Import the excel file \n",
    "truth_df = pd.read_csv('sensors.csv')\n",
    "truth_df.head()\n",
    "\n",
    "gateway_ids\n",
    "\n",
    "#get the ground truth values for the gateway ids of interest\n",
    "truth_df_filtered = truth_df[truth_df['sensor ID'].isin(gateway_ids)]\n",
    "truth_df_filtered.head()"
   ]
  },
  {
   "cell_type": "code",
   "execution_count": 391,
   "metadata": {},
   "outputs": [
    {
     "name": "stdout",
     "output_type": "stream",
     "text": [
      "[ 506.48593724  436.19933622  425.35286542  373.92221028  529.85142804\n",
      "   75.29682372  886.82064735  291.12794261  883.14283962  851.00803066\n",
      "  397.75366345  422.501899    476.51514903  286.0455173   885.63779095\n",
      " 1033.56334858  155.50285749 1127.50969947  516.49906479  150.19874471\n",
      "  308.6928298   281.31118212  266.9975758   304.49295699  278.84686746\n",
      "  295.68881408  241.16626988  370.95566389  347.5987952   342.68246818\n",
      "  368.52040651  401.03900499  788.67889863  386.18554012  337.95639409\n",
      "  717.21515679  400.16271205  490.5812728   882.24249563  372.43550633\n",
      "  526.1056056   414.3297827   380.74633105  381.14937091  418.38914767\n",
      "  342.00126719  352.811711    438.0515301   693.98591332  421.51361164\n",
      "  410.52512583  333.52000815  332.28808082  381.70401895  196.55742951\n",
      "  558.77988037  207.89825182  529.95698031  251.3629782   437.062473  ]\n"
     ]
    }
   ],
   "source": [
    "#get gateway_id position error \n",
    "\n",
    "error = np.zeros(60)\n",
    "for i in range(len(gateway_ids)):\n",
    "    gateway = gateway_ids[i]\n",
    "    truth_data = truth_df[truth_df['sensor ID'] == gateway]\n",
    "    x = truth_data['x (m)'].values\n",
    "    y = truth_data['y (m)'].values\n",
    "    \n",
    "    position_data = positions[positions['gateway_ids'] == gateway]\n",
    "    x_est = position_data['positions_x'].values\n",
    "    y_est = position_data['positions_y'].values\n",
    "    \n",
    "    error[i] = np.linalg.norm(np.array([x,y])-np.array([x_est,y_est]))\n",
    "    \n",
    "print(error)"
   ]
  },
  {
   "cell_type": "code",
   "execution_count": 392,
   "metadata": {},
   "outputs": [
    {
     "data": {
      "image/png": "[encoded data removed]",
      "text/plain": [
       "<Figure size 1296x720 with 1 Axes>"
      ]
     },
     "metadata": {
      "needs_background": "light"
     },
     "output_type": "display_data"
    }
   ],
   "source": [
    "from matplotlib import pyplot as plt\n",
    "plt.figure(figsize=(18, 10))\n",
    "plt.gca().set_aspect(\"equal\")\n",
    "plt.scatter(x1,y1,s=100,marker='o')\n",
    "plt.scatter(x2,y2,s=100,marker='o')\n",
    "plt.scatter(x3,y3,s=100,marker='o')\n",
    "plt.scatter(truth_df_filtered[\"x (m)\"], truth_df_filtered[\"y (m)\"])\n",
    "plt.scatter(positions['positions_x'], positions['positions_y'])\n",
    "plt.show()"
   ]
  },
  {
   "cell_type": "code",
   "execution_count": null,
   "metadata": {},
   "outputs": [],
   "source": [
    "#bring in other sensor traces \n",
    "#figure out your for loopin problem "
   ]
  },
  {
   "cell_type": "code",
   "execution_count": null,
   "metadata": {},
   "outputs": [],
   "source": [
    "#Unused function to check how many times gateways are next to each other and return average time \n",
    "def gateway_adjacent(gateway_x, gateway_y):\n",
    "    #print(gateway_x)\n",
    "    #print(gateway_y)\n",
    "    \n",
    "    count = 0\n",
    "    time = 0\n",
    "    size = backbone_sensor_df.shape[0]\n",
    "    #print(size)\n",
    "    for x in range(size):\n",
    "        if (backbone_sensor_df.iloc[x][0] == gateway_x):\n",
    "            #if it's the first index \n",
    "            if (x == 0):\n",
    "                if (backbone_sensor_df.iloc[x+1][0] == gateway_y):\n",
    "                    count += 1\n",
    "                    time += abs(backbone_sensor_df.iloc[x+1][1] - backbone_sensor_df.iloc[x][1])\n",
    "            \n",
    "            #if it's a last index\n",
    "            elif (x == size-1):\n",
    "                if (backbone_sensor_df.iloc[x-1][0] == gateway_y):\n",
    "                    count += 1\n",
    "                    time += abs(backbone_sensor_df.iloc[x-1][1] - backbone_sensor_df.iloc[x][1])\n",
    "            \n",
    "            else:\n",
    "                if (backbone_sensor_df.iloc[x+1][0] == gateway_y):\n",
    "                    count += 1\n",
    "                    time += abs(backbone_sensor_df.iloc[x+1][1] - backbone_sensor_df.iloc[x][1])\n",
    "                elif (backbone_sensor_df.iloc[x-1][0] == gateway_y):\n",
    "                    count += 1\n",
    "                    time += abs(backbone_sensor_df.iloc[x-1][1] - backbone_sensor_df.iloc[x][1])\n",
    "                    \n",
    "    if (count >= 1): \n",
    "        return time/count\n",
    "    else:\n",
    "        return 0"
   ]
  },
  {
   "cell_type": "code",
   "execution_count": null,
   "metadata": {},
   "outputs": [],
   "source": [
    "#filter to adjadent gateways with a time difference larger than 3 seconds\n",
    "\n",
    "#take this out? Can we just use the smol attack data directly\n",
    "\n",
    "#diff_sensor_df = sensor_df_smol.diff()\n",
    "#print(diff_sensor_df[40:60])\n",
    "#print(sensor_df_smol[40:60])\n",
    "#[diff_sensor_df['norm_secs (secs)'] > 5]\n",
    "\n",
    "#backbone_sensor_df = sensor_df_smol \n",
    "#backbone_sensor_df.head()"
   ]
  }
 ],
 "metadata": {
  "kernelspec": {
   "display_name": "Python 3",
   "language": "python",
   "name": "python3"
  },
  "language_info": {
   "codemirror_mode": {
    "name": "ipython",
    "version": 3
   },
   "file_extension": ".py",
   "mimetype": "text/x-python",
   "name": "python",
   "nbconvert_exporter": "python",
   "pygments_lexer": "ipython3",
   "version": "3.6.8"
  }
 },
 "nbformat": 4,
 "nbformat_minor": 5
}
