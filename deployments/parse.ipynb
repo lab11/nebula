{
 "cells": [
  {
   "cell_type": "code",
   "execution_count": 1,
   "metadata": {},
   "outputs": [],
   "source": [
    "# Imports\n",
    "import pandas as pd\n",
    "import json\n",
    "import ast"
   ]
  },
  {
   "cell_type": "code",
   "execution_count": 2,
   "metadata": {},
   "outputs": [
    {
     "ename": "ValueError",
     "evalue": "Expected object or value",
     "output_type": "error",
     "traceback": [
      "\u001b[0;31m---------------------------------------------------------------------------\u001b[0m",
      "\u001b[0;31mValueError\u001b[0m                                Traceback (most recent call last)",
      "\u001b[1;32m/home/ubuntu/galaxy/deployments/parse.ipynb Cell 2'\u001b[0m in \u001b[0;36m<cell line: 7>\u001b[0;34m()\u001b[0m\n\u001b[1;32m      <a href='vscode-notebook-cell://ssh-remote%2Bec2-35-172-33-201.compute-1.amazonaws.com/home/ubuntu/galaxy/deployments/parse.ipynb#ch0000001vscode-remote?line=4'>5</a>\u001b[0m     df \u001b[39m=\u001b[39m df\u001b[39m.\u001b[39mreplace(\u001b[39mr\u001b[39m\u001b[39m'\u001b[39m\u001b[39m\\\u001b[39m\u001b[39mn\u001b[39m\u001b[39m'\u001b[39m,\u001b[39m'\u001b[39m\u001b[39m \u001b[39m\u001b[39m'\u001b[39m, regex\u001b[39m=\u001b[39m\u001b[39mTrue\u001b[39;00m) \u001b[39m# replace newline with space\u001b[39;00m\n\u001b[1;32m      <a href='vscode-notebook-cell://ssh-remote%2Bec2-35-172-33-201.compute-1.amazonaws.com/home/ubuntu/galaxy/deployments/parse.ipynb#ch0000001vscode-remote?line=5'>6</a>\u001b[0m     \u001b[39mreturn\u001b[39;00m df\n\u001b[0;32m----> <a href='vscode-notebook-cell://ssh-remote%2Bec2-35-172-33-201.compute-1.amazonaws.com/home/ubuntu/galaxy/deployments/parse.ipynb#ch0000001vscode-remote?line=6'>7</a>\u001b[0m df \u001b[39m=\u001b[39m parse_json(file)\n",
      "\u001b[1;32m/home/ubuntu/galaxy/deployments/parse.ipynb Cell 2'\u001b[0m in \u001b[0;36mparse_json\u001b[0;34m(file)\u001b[0m\n\u001b[1;32m      <a href='vscode-notebook-cell://ssh-remote%2Bec2-35-172-33-201.compute-1.amazonaws.com/home/ubuntu/galaxy/deployments/parse.ipynb#ch0000001vscode-remote?line=2'>3</a>\u001b[0m \u001b[39mdef\u001b[39;00m \u001b[39mparse_json\u001b[39m(file):\n\u001b[0;32m----> <a href='vscode-notebook-cell://ssh-remote%2Bec2-35-172-33-201.compute-1.amazonaws.com/home/ubuntu/galaxy/deployments/parse.ipynb#ch0000001vscode-remote?line=3'>4</a>\u001b[0m     df \u001b[39m=\u001b[39m pd\u001b[39m.\u001b[39;49mread_json(file, lines\u001b[39m=\u001b[39;49m\u001b[39mTrue\u001b[39;49;00m)\n\u001b[1;32m      <a href='vscode-notebook-cell://ssh-remote%2Bec2-35-172-33-201.compute-1.amazonaws.com/home/ubuntu/galaxy/deployments/parse.ipynb#ch0000001vscode-remote?line=4'>5</a>\u001b[0m     df \u001b[39m=\u001b[39m df\u001b[39m.\u001b[39mreplace(\u001b[39mr\u001b[39m\u001b[39m'\u001b[39m\u001b[39m\\\u001b[39m\u001b[39mn\u001b[39m\u001b[39m'\u001b[39m,\u001b[39m'\u001b[39m\u001b[39m \u001b[39m\u001b[39m'\u001b[39m, regex\u001b[39m=\u001b[39m\u001b[39mTrue\u001b[39;00m) \u001b[39m# replace newline with space\u001b[39;00m\n\u001b[1;32m      <a href='vscode-notebook-cell://ssh-remote%2Bec2-35-172-33-201.compute-1.amazonaws.com/home/ubuntu/galaxy/deployments/parse.ipynb#ch0000001vscode-remote?line=5'>6</a>\u001b[0m     \u001b[39mreturn\u001b[39;00m df\n",
      "File \u001b[0;32m~/miniconda/lib/python3.8/site-packages/pandas/util/_decorators.py:207\u001b[0m, in \u001b[0;36mdeprecate_kwarg.<locals>._deprecate_kwarg.<locals>.wrapper\u001b[0;34m(*args, **kwargs)\u001b[0m\n\u001b[1;32m    <a href='file:///home/ubuntu/miniconda/lib/python3.8/site-packages/pandas/util/_decorators.py?line=204'>205</a>\u001b[0m     \u001b[39melse\u001b[39;00m:\n\u001b[1;32m    <a href='file:///home/ubuntu/miniconda/lib/python3.8/site-packages/pandas/util/_decorators.py?line=205'>206</a>\u001b[0m         kwargs[new_arg_name] \u001b[39m=\u001b[39m new_arg_value\n\u001b[0;32m--> <a href='file:///home/ubuntu/miniconda/lib/python3.8/site-packages/pandas/util/_decorators.py?line=206'>207</a>\u001b[0m \u001b[39mreturn\u001b[39;00m func(\u001b[39m*\u001b[39;49margs, \u001b[39m*\u001b[39;49m\u001b[39m*\u001b[39;49mkwargs)\n",
      "File \u001b[0;32m~/miniconda/lib/python3.8/site-packages/pandas/util/_decorators.py:311\u001b[0m, in \u001b[0;36mdeprecate_nonkeyword_arguments.<locals>.decorate.<locals>.wrapper\u001b[0;34m(*args, **kwargs)\u001b[0m\n\u001b[1;32m    <a href='file:///home/ubuntu/miniconda/lib/python3.8/site-packages/pandas/util/_decorators.py?line=304'>305</a>\u001b[0m \u001b[39mif\u001b[39;00m \u001b[39mlen\u001b[39m(args) \u001b[39m>\u001b[39m num_allow_args:\n\u001b[1;32m    <a href='file:///home/ubuntu/miniconda/lib/python3.8/site-packages/pandas/util/_decorators.py?line=305'>306</a>\u001b[0m     warnings\u001b[39m.\u001b[39mwarn(\n\u001b[1;32m    <a href='file:///home/ubuntu/miniconda/lib/python3.8/site-packages/pandas/util/_decorators.py?line=306'>307</a>\u001b[0m         msg\u001b[39m.\u001b[39mformat(arguments\u001b[39m=\u001b[39marguments),\n\u001b[1;32m    <a href='file:///home/ubuntu/miniconda/lib/python3.8/site-packages/pandas/util/_decorators.py?line=307'>308</a>\u001b[0m         \u001b[39mFutureWarning\u001b[39;00m,\n\u001b[1;32m    <a href='file:///home/ubuntu/miniconda/lib/python3.8/site-packages/pandas/util/_decorators.py?line=308'>309</a>\u001b[0m         stacklevel\u001b[39m=\u001b[39mstacklevel,\n\u001b[1;32m    <a href='file:///home/ubuntu/miniconda/lib/python3.8/site-packages/pandas/util/_decorators.py?line=309'>310</a>\u001b[0m     )\n\u001b[0;32m--> <a href='file:///home/ubuntu/miniconda/lib/python3.8/site-packages/pandas/util/_decorators.py?line=310'>311</a>\u001b[0m \u001b[39mreturn\u001b[39;00m func(\u001b[39m*\u001b[39;49margs, \u001b[39m*\u001b[39;49m\u001b[39m*\u001b[39;49mkwargs)\n",
      "File \u001b[0;32m~/miniconda/lib/python3.8/site-packages/pandas/io/json/_json.py:614\u001b[0m, in \u001b[0;36mread_json\u001b[0;34m(path_or_buf, orient, typ, dtype, convert_axes, convert_dates, keep_default_dates, numpy, precise_float, date_unit, encoding, encoding_errors, lines, chunksize, compression, nrows, storage_options)\u001b[0m\n\u001b[1;32m    <a href='file:///home/ubuntu/miniconda/lib/python3.8/site-packages/pandas/io/json/_json.py?line=610'>611</a>\u001b[0m     \u001b[39mreturn\u001b[39;00m json_reader\n\u001b[1;32m    <a href='file:///home/ubuntu/miniconda/lib/python3.8/site-packages/pandas/io/json/_json.py?line=612'>613</a>\u001b[0m \u001b[39mwith\u001b[39;00m json_reader:\n\u001b[0;32m--> <a href='file:///home/ubuntu/miniconda/lib/python3.8/site-packages/pandas/io/json/_json.py?line=613'>614</a>\u001b[0m     \u001b[39mreturn\u001b[39;00m json_reader\u001b[39m.\u001b[39;49mread()\n",
      "File \u001b[0;32m~/miniconda/lib/python3.8/site-packages/pandas/io/json/_json.py:746\u001b[0m, in \u001b[0;36mJsonReader.read\u001b[0;34m(self)\u001b[0m\n\u001b[1;32m    <a href='file:///home/ubuntu/miniconda/lib/python3.8/site-packages/pandas/io/json/_json.py?line=743'>744</a>\u001b[0m         data \u001b[39m=\u001b[39m ensure_str(\u001b[39mself\u001b[39m\u001b[39m.\u001b[39mdata)\n\u001b[1;32m    <a href='file:///home/ubuntu/miniconda/lib/python3.8/site-packages/pandas/io/json/_json.py?line=744'>745</a>\u001b[0m         data_lines \u001b[39m=\u001b[39m data\u001b[39m.\u001b[39msplit(\u001b[39m\"\u001b[39m\u001b[39m\\n\u001b[39;00m\u001b[39m\"\u001b[39m)\n\u001b[0;32m--> <a href='file:///home/ubuntu/miniconda/lib/python3.8/site-packages/pandas/io/json/_json.py?line=745'>746</a>\u001b[0m         obj \u001b[39m=\u001b[39m \u001b[39mself\u001b[39;49m\u001b[39m.\u001b[39;49m_get_object_parser(\u001b[39mself\u001b[39;49m\u001b[39m.\u001b[39;49m_combine_lines(data_lines))\n\u001b[1;32m    <a href='file:///home/ubuntu/miniconda/lib/python3.8/site-packages/pandas/io/json/_json.py?line=746'>747</a>\u001b[0m \u001b[39melse\u001b[39;00m:\n\u001b[1;32m    <a href='file:///home/ubuntu/miniconda/lib/python3.8/site-packages/pandas/io/json/_json.py?line=747'>748</a>\u001b[0m     obj \u001b[39m=\u001b[39m \u001b[39mself\u001b[39m\u001b[39m.\u001b[39m_get_object_parser(\u001b[39mself\u001b[39m\u001b[39m.\u001b[39mdata)\n",
      "File \u001b[0;32m~/miniconda/lib/python3.8/site-packages/pandas/io/json/_json.py:770\u001b[0m, in \u001b[0;36mJsonReader._get_object_parser\u001b[0;34m(self, json)\u001b[0m\n\u001b[1;32m    <a href='file:///home/ubuntu/miniconda/lib/python3.8/site-packages/pandas/io/json/_json.py?line=767'>768</a>\u001b[0m obj \u001b[39m=\u001b[39m \u001b[39mNone\u001b[39;00m\n\u001b[1;32m    <a href='file:///home/ubuntu/miniconda/lib/python3.8/site-packages/pandas/io/json/_json.py?line=768'>769</a>\u001b[0m \u001b[39mif\u001b[39;00m typ \u001b[39m==\u001b[39m \u001b[39m\"\u001b[39m\u001b[39mframe\u001b[39m\u001b[39m\"\u001b[39m:\n\u001b[0;32m--> <a href='file:///home/ubuntu/miniconda/lib/python3.8/site-packages/pandas/io/json/_json.py?line=769'>770</a>\u001b[0m     obj \u001b[39m=\u001b[39m FrameParser(json, \u001b[39m*\u001b[39;49m\u001b[39m*\u001b[39;49mkwargs)\u001b[39m.\u001b[39;49mparse()\n\u001b[1;32m    <a href='file:///home/ubuntu/miniconda/lib/python3.8/site-packages/pandas/io/json/_json.py?line=771'>772</a>\u001b[0m \u001b[39mif\u001b[39;00m typ \u001b[39m==\u001b[39m \u001b[39m\"\u001b[39m\u001b[39mseries\u001b[39m\u001b[39m\"\u001b[39m \u001b[39mor\u001b[39;00m obj \u001b[39mis\u001b[39;00m \u001b[39mNone\u001b[39;00m:\n\u001b[1;32m    <a href='file:///home/ubuntu/miniconda/lib/python3.8/site-packages/pandas/io/json/_json.py?line=772'>773</a>\u001b[0m     \u001b[39mif\u001b[39;00m \u001b[39mnot\u001b[39;00m \u001b[39misinstance\u001b[39m(dtype, \u001b[39mbool\u001b[39m):\n",
      "File \u001b[0;32m~/miniconda/lib/python3.8/site-packages/pandas/io/json/_json.py:885\u001b[0m, in \u001b[0;36mParser.parse\u001b[0;34m(self)\u001b[0m\n\u001b[1;32m    <a href='file:///home/ubuntu/miniconda/lib/python3.8/site-packages/pandas/io/json/_json.py?line=881'>882</a>\u001b[0m     \u001b[39mself\u001b[39m\u001b[39m.\u001b[39m_parse_numpy()\n\u001b[1;32m    <a href='file:///home/ubuntu/miniconda/lib/python3.8/site-packages/pandas/io/json/_json.py?line=883'>884</a>\u001b[0m \u001b[39melse\u001b[39;00m:\n\u001b[0;32m--> <a href='file:///home/ubuntu/miniconda/lib/python3.8/site-packages/pandas/io/json/_json.py?line=884'>885</a>\u001b[0m     \u001b[39mself\u001b[39;49m\u001b[39m.\u001b[39;49m_parse_no_numpy()\n\u001b[1;32m    <a href='file:///home/ubuntu/miniconda/lib/python3.8/site-packages/pandas/io/json/_json.py?line=886'>887</a>\u001b[0m \u001b[39mif\u001b[39;00m \u001b[39mself\u001b[39m\u001b[39m.\u001b[39mobj \u001b[39mis\u001b[39;00m \u001b[39mNone\u001b[39;00m:\n\u001b[1;32m    <a href='file:///home/ubuntu/miniconda/lib/python3.8/site-packages/pandas/io/json/_json.py?line=887'>888</a>\u001b[0m     \u001b[39mreturn\u001b[39;00m \u001b[39mNone\u001b[39;00m\n",
      "File \u001b[0;32m~/miniconda/lib/python3.8/site-packages/pandas/io/json/_json.py:1140\u001b[0m, in \u001b[0;36mFrameParser._parse_no_numpy\u001b[0;34m(self)\u001b[0m\n\u001b[1;32m   <a href='file:///home/ubuntu/miniconda/lib/python3.8/site-packages/pandas/io/json/_json.py?line=1135'>1136</a>\u001b[0m orient \u001b[39m=\u001b[39m \u001b[39mself\u001b[39m\u001b[39m.\u001b[39morient\n\u001b[1;32m   <a href='file:///home/ubuntu/miniconda/lib/python3.8/site-packages/pandas/io/json/_json.py?line=1137'>1138</a>\u001b[0m \u001b[39mif\u001b[39;00m orient \u001b[39m==\u001b[39m \u001b[39m\"\u001b[39m\u001b[39mcolumns\u001b[39m\u001b[39m\"\u001b[39m:\n\u001b[1;32m   <a href='file:///home/ubuntu/miniconda/lib/python3.8/site-packages/pandas/io/json/_json.py?line=1138'>1139</a>\u001b[0m     \u001b[39mself\u001b[39m\u001b[39m.\u001b[39mobj \u001b[39m=\u001b[39m DataFrame(\n\u001b[0;32m-> <a href='file:///home/ubuntu/miniconda/lib/python3.8/site-packages/pandas/io/json/_json.py?line=1139'>1140</a>\u001b[0m         loads(json, precise_float\u001b[39m=\u001b[39;49m\u001b[39mself\u001b[39;49m\u001b[39m.\u001b[39;49mprecise_float), dtype\u001b[39m=\u001b[39m\u001b[39mNone\u001b[39;00m\n\u001b[1;32m   <a href='file:///home/ubuntu/miniconda/lib/python3.8/site-packages/pandas/io/json/_json.py?line=1140'>1141</a>\u001b[0m     )\n\u001b[1;32m   <a href='file:///home/ubuntu/miniconda/lib/python3.8/site-packages/pandas/io/json/_json.py?line=1141'>1142</a>\u001b[0m \u001b[39melif\u001b[39;00m orient \u001b[39m==\u001b[39m \u001b[39m\"\u001b[39m\u001b[39msplit\u001b[39m\u001b[39m\"\u001b[39m:\n\u001b[1;32m   <a href='file:///home/ubuntu/miniconda/lib/python3.8/site-packages/pandas/io/json/_json.py?line=1142'>1143</a>\u001b[0m     decoded \u001b[39m=\u001b[39m {\n\u001b[1;32m   <a href='file:///home/ubuntu/miniconda/lib/python3.8/site-packages/pandas/io/json/_json.py?line=1143'>1144</a>\u001b[0m         \u001b[39mstr\u001b[39m(k): v\n\u001b[1;32m   <a href='file:///home/ubuntu/miniconda/lib/python3.8/site-packages/pandas/io/json/_json.py?line=1144'>1145</a>\u001b[0m         \u001b[39mfor\u001b[39;00m k, v \u001b[39min\u001b[39;00m loads(json, precise_float\u001b[39m=\u001b[39m\u001b[39mself\u001b[39m\u001b[39m.\u001b[39mprecise_float)\u001b[39m.\u001b[39mitems()\n\u001b[1;32m   <a href='file:///home/ubuntu/miniconda/lib/python3.8/site-packages/pandas/io/json/_json.py?line=1145'>1146</a>\u001b[0m     }\n",
      "\u001b[0;31mValueError\u001b[0m: Expected object or value"
     ]
    }
   ],
   "source": [
    "# Read the json file\n",
    "file = '/home/ubuntu/galaxy/deployment/data/jlw.json'\n",
    "def parse_json(file):\n",
    "    df = pd.read_json(file, lines=True)\n",
    "    # df = df.replace(r'\\n',' ', regex=True) # replace newline with space\n",
    "    return df\n",
    "df = parse_json(file)\n"
   ]
  },
  {
   "cell_type": "code",
   "execution_count": null,
   "metadata": {},
   "outputs": [],
   "source": [
    "# Get unique  \n",
    "df['msg'] = df['msg'].str.replace(r'discovered peripheral Peripheral ',' ', regex=True)"
   ]
  },
  {
   "cell_type": "code",
   "execution_count": null,
   "metadata": {},
   "outputs": [
    {
     "name": "stdout",
     "output_type": "stream",
     "text": [
      "Start time: 2022-04-28T22:23:18.351Z, and Stop time: 2022-04-28T22:23:19.234Z\n",
      "1 unique gateway(s): ['raspberrypi']\n",
      "16 unique device(s) scanned\n"
     ]
    }
   ],
   "source": [
    "def get_basic_stats(df):\n",
    "    # Start and Stop time\n",
    "    print(f\"Start time: {df['time'].min()}, and Stop time: {df['time'].max()}\")\n",
    "    # Name of the Gateway\n",
    "    print(f\"{len(df['hostname'].unique())} unique gateway(s): {df['hostname'].unique()}\")\n",
    "    # Number of devices scanned\n",
    "    print(f\"{len(df['msg'].unique())} unique device(s) scanned\")\n",
    "get_basic_stats(df)\n"
   ]
  },
  {
   "cell_type": "code",
   "execution_count": null,
   "metadata": {},
   "outputs": [],
   "source": [
    "df"
   ]
  }
 ],
 "metadata": {
  "interpreter": {
   "hash": "e615813c5489b1590d5f8b2d596a39a5f3baf5ccbb6dde5ecf5546914cc6cb8b"
  },
  "kernelspec": {
   "display_name": "Python 3 (ipykernel)",
   "language": "python",
   "name": "python3"
  },
  "language_info": {
   "codemirror_mode": {
    "name": "ipython",
    "version": 3
   },
   "file_extension": ".py",
   "mimetype": "text/x-python",
   "name": "python",
   "nbconvert_exporter": "python",
   "pygments_lexer": "ipython3",
   "version": "3.8.12"
  }
 },
 "nbformat": 4,
 "nbformat_minor": 2
}
