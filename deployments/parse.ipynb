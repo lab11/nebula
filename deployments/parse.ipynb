{
 "cells": [
  {
   "cell_type": "code",
   "execution_count": 50,
   "metadata": {},
   "outputs": [],
   "source": [
    "# Imports\n",
    "import pandas as pd\n",
    "import json\n",
    "import ast"
   ]
  },
  {
   "cell_type": "code",
   "execution_count": 51,
   "metadata": {},
   "outputs": [],
   "source": [
    "# Read the json file\n",
    "file = '/home/ubuntu/galaxy/data.json'\n",
    "def parse_json(file):\n",
    "    df = pd.read_json(file, lines=True)\n",
    "    df = df.replace(r'\\n',' ', regex=True) # replace newline with space\n",
    "    return df\n",
    "df = parse_json(file)\n"
   ]
  },
  {
   "cell_type": "code",
   "execution_count": 52,
   "metadata": {},
   "outputs": [],
   "source": [
    "# Get unique  \n",
    "df['msg'] = df['msg'].str.replace(r'discovered peripheral Peripheral ',' ', regex=True)"
   ]
  },
  {
   "cell_type": "code",
   "execution_count": 61,
   "metadata": {},
   "outputs": [
    {
     "name": "stdout",
     "output_type": "stream",
     "text": [
      "Start time: 2022-04-28T22:23:18.351Z, and Stop time: 2022-04-28T22:23:19.234Z\n",
      "1 unique gateway(s): ['raspberrypi']\n",
      "16 unique device(s) scanned\n"
     ]
    }
   ],
   "source": [
    "def get_basic_stats(df):\n",
    "    # Start and Stop time\n",
    "    print(f\"Start time: {df['time'].min()}, and Stop time: {df['time'].max()}\")\n",
    "    # Name of the Gateway\n",
    "    print(f\"{len(df['hostname'].unique())} unique gateway(s): {df['hostname'].unique()}\")\n",
    "    # Number of devices scanned\n",
    "    print(f\"{len(df['msg'].unique())} unique device(s) scanned\")\n",
    "get_basic_stats(df)\n"
   ]
  },
  {
   "cell_type": "code",
   "execution_count": null,
   "metadata": {},
   "outputs": [],
   "source": []
  }
 ],
 "metadata": {
  "interpreter": {
   "hash": "e615813c5489b1590d5f8b2d596a39a5f3baf5ccbb6dde5ecf5546914cc6cb8b"
  },
  "kernelspec": {
   "display_name": "Python 3.8.12 ('base')",
   "language": "python",
   "name": "python3"
  },
  "language_info": {
   "codemirror_mode": {
    "name": "ipython",
    "version": 3
   },
   "file_extension": ".py",
   "mimetype": "text/x-python",
   "name": "python",
   "nbconvert_exporter": "python",
   "pygments_lexer": "ipython3",
   "version": "3.8.12"
  },
  "orig_nbformat": 4
 },
 "nbformat": 4,
 "nbformat_minor": 2
}
