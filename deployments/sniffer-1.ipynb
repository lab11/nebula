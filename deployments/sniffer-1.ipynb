{
 "cells": [
  {
   "cell_type": "code",
   "execution_count": 1,
   "metadata": {},
   "outputs": [],
   "source": [
    "from builtins import breakpoint\n",
    "import multiprocessing as mp\n",
    "import pandas.testing as pdt\n",
    "from dateutil import parser\n",
    "import os\n",
    "import numpy as np\n",
    "import pandas as pd\n",
    "import threading\n",
    "from tqdm import tqdm\n",
    "import pdb\n",
    "from sniffer import get_aggregates, analyze_data, thread_analyze_data, parse_json, read_files\n",
    "from mpl_toolkits import mplot3d\n",
    "from matplotlib import pyplot as plt\n",
    "import swifter\n",
    "import numpy as np\n"
   ]
  },
  {
   "cell_type": "code",
   "execution_count": 2,
   "metadata": {},
   "outputs": [
    {
     "name": "stdout",
     "output_type": "stream",
     "text": [
      "Reading 42 Data Files\n"
     ]
    },
    {
     "name": "stderr",
     "output_type": "stream",
     "text": [
      "100%|████████████████████████████████████████████████████████████████████████████████████████| 42/42 [01:33<00:00,  2.23s/it]"
     ]
    },
    {
     "name": "stdout",
     "output_type": "stream",
     "text": [
      "No of unique rows 5400976\n"
     ]
    },
    {
     "name": "stderr",
     "output_type": "stream",
     "text": [
      "\n"
     ]
    }
   ],
   "source": [
    "path = '/home/ubuntu/galaxy/deployments/data/' \n",
    "df = read_files(path)\n",
    "print(f\"No of unique rows {len(df)}\")\n",
    "# print(df.describe())\n",
    "# print(\"Starting feature extraction..\")\n",
    "# df = analyze_data(df)\n",
    "# df.to_pickle(\"cory_elevator.pkl\")"
   ]
  },
  {
   "cell_type": "code",
   "execution_count": 3,
   "metadata": {},
   "outputs": [],
   "source": [
    "df = pd.read_pickle(\"cory_elevator.pkl\")"
   ]
  },
  {
   "cell_type": "code",
   "execution_count": 4,
   "metadata": {},
   "outputs": [
    {
     "name": "stdout",
     "output_type": "stream",
     "text": [
      "                     mac                                               time  \\\n",
      "0      00:0b:be:3f:8d:ab                                   [1651459734.404]   \n",
      "1      00:15:f6:3a:ed:b4  [1651373116.671, 1651373119.725, 1651373132.31...   \n",
      "2      00:1b:66:f2:d8:45  [1651435393.51, 1651435409.709, 1651435411.343...   \n",
      "3      00:1e:e1:e5:e2:0e  [1651445313.6, 1651445313.706, 1651445314.022,...   \n",
      "4      00:20:20:b0:e9:79  [1651361502.766, 1651361502.873, 1651361502.97...   \n",
      "...                  ...                                                ...   \n",
      "13257  ff:fb:d9:24:dc:88                   [1651375390.919, 1651375511.914]   \n",
      "13258  ff:fb:ef:5d:87:84  [1651428944.195, 1651428987.956, 1651429038.48...   \n",
      "13259  ff:fd:cb:65:14:76                                   [1651440277.106]   \n",
      "13260  ff:fe:88:24:54:c1  [1651407447.685, 1651407447.9, 1651407448.649,...   \n",
      "13261  ff:fe:8d:31:7c:8d                                   [1651466619.665]   \n",
      "\n",
      "                                                    rssi  reps  \n",
      "0                                                [-81.0]     1  \n",
      "1      [-94.0, -95.0, -95.0, -94.0, -88.0, -89.0, -91...   571  \n",
      "2      [-94.0, -85.0, -93.0, -80.0, -83.0, -84.0, -93...    11  \n",
      "3      [-42.0, -49.0, -59.0, -67.0, -68.0, -63.0, -56...  1315  \n",
      "4      [-71.0, -71.0, -61.0, -65.0, -69.0, -69.0, -68...   396  \n",
      "...                                                  ...   ...  \n",
      "13257                                     [-96.0, -10.0]     2  \n",
      "13258  [-85.0, -99.0, -93.0, -82.0, -96.0, -90.0, -76...    26  \n",
      "13259                                            [-10.0]     1  \n",
      "13260  [-96.0, -96.0, -10.0, -98.0, -99.0, -96.0, -99...    34  \n",
      "13261                                            [-98.0]     1  \n",
      "\n",
      "[13262 rows x 4 columns]\n"
     ]
    }
   ],
   "source": [
    "print(df)"
   ]
  },
  {
   "cell_type": "code",
   "execution_count": 5,
   "metadata": {},
   "outputs": [
    {
     "data": {
      "text/html": [
       "<div>\n",
       "<style scoped>\n",
       "    .dataframe tbody tr th:only-of-type {\n",
       "        vertical-align: middle;\n",
       "    }\n",
       "\n",
       "    .dataframe tbody tr th {\n",
       "        vertical-align: top;\n",
       "    }\n",
       "\n",
       "    .dataframe thead th {\n",
       "        text-align: right;\n",
       "    }\n",
       "</style>\n",
       "<table border=\"1\" class=\"dataframe\">\n",
       "  <thead>\n",
       "    <tr style=\"text-align: right;\">\n",
       "      <th></th>\n",
       "      <th>reps</th>\n",
       "    </tr>\n",
       "  </thead>\n",
       "  <tbody>\n",
       "    <tr>\n",
       "      <th>count</th>\n",
       "      <td>13262.000000</td>\n",
       "    </tr>\n",
       "    <tr>\n",
       "      <th>mean</th>\n",
       "      <td>407.251847</td>\n",
       "    </tr>\n",
       "    <tr>\n",
       "      <th>std</th>\n",
       "      <td>7995.072705</td>\n",
       "    </tr>\n",
       "    <tr>\n",
       "      <th>min</th>\n",
       "      <td>1.000000</td>\n",
       "    </tr>\n",
       "    <tr>\n",
       "      <th>25%</th>\n",
       "      <td>5.000000</td>\n",
       "    </tr>\n",
       "    <tr>\n",
       "      <th>50%</th>\n",
       "      <td>19.000000</td>\n",
       "    </tr>\n",
       "    <tr>\n",
       "      <th>75%</th>\n",
       "      <td>161.750000</td>\n",
       "    </tr>\n",
       "    <tr>\n",
       "      <th>max</th>\n",
       "      <td>659997.000000</td>\n",
       "    </tr>\n",
       "  </tbody>\n",
       "</table>\n",
       "</div>"
      ],
      "text/plain": [
       "                reps\n",
       "count   13262.000000\n",
       "mean      407.251847\n",
       "std      7995.072705\n",
       "min         1.000000\n",
       "25%         5.000000\n",
       "50%        19.000000\n",
       "75%       161.750000\n",
       "max    659997.000000"
      ]
     },
     "execution_count": 5,
     "metadata": {},
     "output_type": "execute_result"
    }
   ],
   "source": [
    "df.describe()"
   ]
  },
  {
   "cell_type": "code",
   "execution_count": 6,
   "metadata": {},
   "outputs": [
    {
     "data": {
      "text/plain": [
       "5400974"
      ]
     },
     "execution_count": 6,
     "metadata": {},
     "output_type": "execute_result"
    }
   ],
   "source": [
    "df.reps.sum()"
   ]
  },
  {
   "cell_type": "code",
   "execution_count": 7,
   "metadata": {},
   "outputs": [
    {
     "data": {
      "text/plain": [
       "[<matplotlib.lines.Line2D at 0x7fe8681b4370>]"
      ]
     },
     "execution_count": 7,
     "metadata": {},
     "output_type": "execute_result"
    },
    {
     "data": {
      "image/png": "[encoded data removed]",
      "text/plain": [
       "<Figure size 432x288 with 1 Axes>"
      ]
     },
     "metadata": {
      "needs_background": "light"
     },
     "output_type": "display_data"
    }
   ],
   "source": [
    "plt.plot(np.log(df.reps))"
   ]
  },
  {
   "cell_type": "code",
   "execution_count": null,
   "metadata": {},
   "outputs": [],
   "source": []
  }
 ],
 "metadata": {
  "kernelspec": {
   "display_name": "Python 3 (ipykernel)",
   "language": "python",
   "name": "python3"
  },
  "language_info": {
   "codemirror_mode": {
    "name": "ipython",
    "version": 3
   },
   "file_extension": ".py",
   "mimetype": "text/x-python",
   "name": "python",
   "nbconvert_exporter": "python",
   "pygments_lexer": "ipython3",
   "version": "3.8.12"
  }
 },
 "nbformat": 4,
 "nbformat_minor": 2
}
